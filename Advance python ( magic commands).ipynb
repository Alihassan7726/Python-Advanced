{
 "cells": [
  {
   "cell_type": "code",
   "execution_count": 1,
   "metadata": {},
   "outputs": [],
   "source": [
    "class parrot:\n",
    "    '''This is docstring . and it is my first class'''\n",
    "    # class attribute\n",
    "    specie = 'Bird'\n",
    "    \n",
    "    #object attribute\n",
    "    def __init__(self,name,age,color):\n",
    "        self.name = name\n",
    "        self.age = age\n",
    "        self.color = color\n",
    "    def info_parrot(self):\n",
    "        print(f'This is {self.name} parrot with {self.age} age and in {self.color} color')\n"
   ]
  },
  {
   "cell_type": "code",
   "execution_count": 2,
   "metadata": {},
   "outputs": [
    {
     "name": "stdout",
     "output_type": "stream",
     "text": [
      "<__main__.parrot object at 0x0000022CE38CE730>\n"
     ]
    }
   ],
   "source": [
    "c = parrot('Raw' , 5 , 'multi')\n",
    "print(c)# By default the magic __str__ is called"
   ]
  },
  {
   "cell_type": "code",
   "execution_count": 3,
   "metadata": {},
   "outputs": [
    {
     "name": "stdout",
     "output_type": "stream",
     "text": [
      "<method-wrapper '__str__' of parrot object at 0x0000022CE38CE730>\n"
     ]
    }
   ],
   "source": [
    "print(c.__str__) # Here we ccalled the magic explicitiley"
   ]
  },
  {
   "cell_type": "code",
   "execution_count": 5,
   "metadata": {},
   "outputs": [
    {
     "data": {
      "text/plain": [
       "['__class__',\n",
       " '__delattr__',\n",
       " '__dict__',\n",
       " '__dir__',\n",
       " '__doc__',\n",
       " '__eq__',\n",
       " '__format__',\n",
       " '__ge__',\n",
       " '__getattribute__',\n",
       " '__gt__',\n",
       " '__hash__',\n",
       " '__init__',\n",
       " '__init_subclass__',\n",
       " '__le__',\n",
       " '__lt__',\n",
       " '__module__',\n",
       " '__ne__',\n",
       " '__new__',\n",
       " '__reduce__',\n",
       " '__reduce_ex__',\n",
       " '__repr__',\n",
       " '__setattr__',\n",
       " '__sizeof__',\n",
       " '__str__',\n",
       " '__subclasshook__',\n",
       " '__weakref__',\n",
       " 'age',\n",
       " 'color',\n",
       " 'info_parrot',\n",
       " 'name',\n",
       " 'specie']"
      ]
     },
     "execution_count": 5,
     "metadata": {},
     "output_type": "execute_result"
    }
   ],
   "source": [
    "dir(c) # All the magic commands ( Magic : Can be imganined as when we create an object then by magic the etire cllass is alled and\n",
    " # __init__ is executed)"
   ]
  },
  {
   "cell_type": "markdown",
   "metadata": {},
   "source": [
    "### We can also overwrite the magic commands\n",
    "1. Let's suppose we overwrite --str-- command"
   ]
  },
  {
   "cell_type": "code",
   "execution_count": 64,
   "metadata": {},
   "outputs": [],
   "source": [
    "class parrot1:\n",
    "    '''This is docstring . and it is my first class'''\n",
    "    # class attribute\n",
    "    specie = 'Bird'\n",
    "   # def __new__(self,name,age,color):\n",
    "    #    print( \"The object is getting initialize ( this is new method)\")\n",
    "    #object attribute\n",
    "    def __init__(self,name,age,color):\n",
    "        self.name = name\n",
    "        self.age = age\n",
    "        self.color = color\n",
    "    def __str__(self):\n",
    "        return (\"object at meory this ( we have overwritten it!!!)\")\n",
    "    def __sizeof__(self):\n",
    "        return (\"The size is {}\".format('I dont know'))\n",
    "    \n",
    "    def info_parrot(self):\n",
    "        print(f'This is {self.name} parrot with {self.age} age and in {self.color} color')\n"
   ]
  },
  {
   "cell_type": "code",
   "execution_count": 65,
   "metadata": {},
   "outputs": [],
   "source": [
    "d = parrot1('spparow' , 1 , 'brown')\n"
   ]
  },
  {
   "cell_type": "code",
   "execution_count": 66,
   "metadata": {},
   "outputs": [
    {
     "name": "stdout",
     "output_type": "stream",
     "text": [
      "<__main__.parrot object at 0x0000022CE38CE730>\n",
      "object at meory this ( we have overwritten it!!!)\n"
     ]
    }
   ],
   "source": [
    "print(c)\n",
    "print(d) # Here we can see the difference"
   ]
  },
  {
   "cell_type": "code",
   "execution_count": 67,
   "metadata": {},
   "outputs": [
    {
     "name": "stdout",
     "output_type": "stream",
     "text": [
      "<__main__.parrot object at 0x0000022CE38CE730>\n",
      "object at meory this ( we have overwritten it!!!)\n"
     ]
    }
   ],
   "source": [
    "print(c.__str__())\n",
    "print(d.__str__())"
   ]
  },
  {
   "cell_type": "code",
   "execution_count": 62,
   "metadata": {},
   "outputs": [
    {
     "name": "stdout",
     "output_type": "stream",
     "text": [
      "16\n"
     ]
    }
   ],
   "source": [
    "# Let us overwrite __sizeof__\n",
    "print(d.__sizeof__())"
   ]
  },
  {
   "cell_type": "code",
   "execution_count": 68,
   "metadata": {},
   "outputs": [
    {
     "data": {
      "text/plain": [
       "'The size is I dont know'"
      ]
     },
     "execution_count": 68,
     "metadata": {},
     "output_type": "execute_result"
    }
   ],
   "source": [
    "d.__sizeof__()"
   ]
  },
  {
   "cell_type": "code",
   "execution_count": 47,
   "metadata": {},
   "outputs": [
    {
     "data": {
      "text/plain": [
       "<function object.__new__(*args, **kwargs)>"
      ]
     },
     "execution_count": 47,
     "metadata": {},
     "output_type": "execute_result"
    }
   ],
   "source": [
    "# let us overwrite __new__\n",
    "d.__new__ # This is called even before __itit__"
   ]
  },
  {
   "cell_type": "code",
   "execution_count": null,
   "metadata": {},
   "outputs": [],
   "source": []
  }
 ],
 "metadata": {
  "kernelspec": {
   "display_name": "Python 3",
   "language": "python",
   "name": "python3"
  },
  "language_info": {
   "codemirror_mode": {
    "name": "ipython",
    "version": 3
   },
   "file_extension": ".py",
   "mimetype": "text/x-python",
   "name": "python",
   "nbconvert_exporter": "python",
   "pygments_lexer": "ipython3",
   "version": "3.8.5"
  }
 },
 "nbformat": 4,
 "nbformat_minor": 4
}
