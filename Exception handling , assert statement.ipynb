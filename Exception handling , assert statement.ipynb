{
 "cells": [
  {
   "cell_type": "code",
   "execution_count": null,
   "metadata": {},
   "outputs": [],
   "source": [
    "finally = this block will always execute even in case of exeption(used to run code even in exeption )\n",
    "else    = this block will not execute in case of exeption\n",
    "try     = tries the exeption\n",
    "except  = shows any king of ( message , error , print statement)\n"
   ]
  },
  {
   "cell_type": "code",
   "execution_count": 35,
   "metadata": {},
   "outputs": [
    {
     "ename": "NameError",
     "evalue": "name 'B' is not defined",
     "output_type": "error",
     "traceback": [
      "\u001b[1;31m---------------------------------------------------------------------------\u001b[0m",
      "\u001b[1;31mNameError\u001b[0m                                 Traceback (most recent call last)",
      "\u001b[1;32m<ipython-input-35-9f2a7320d7eb>\u001b[0m in \u001b[0;36m<module>\u001b[1;34m\u001b[0m\n\u001b[1;32m----> 1\u001b[1;33m \u001b[0mA\u001b[0m \u001b[1;33m=\u001b[0m \u001b[0mB\u001b[0m\u001b[1;33m\u001b[0m\u001b[1;33m\u001b[0m\u001b[0m\n\u001b[0m",
      "\u001b[1;31mNameError\u001b[0m: name 'B' is not defined"
     ]
    }
   ],
   "source": [
    "A = B"
   ]
  },
  {
   "cell_type": "code",
   "execution_count": 3,
   "metadata": {},
   "outputs": [
    {
     "name": "stdout",
     "output_type": "stream",
     "text": [
      "An error has occured\n"
     ]
    }
   ],
   "source": [
    "# 1 method\n",
    "try:\n",
    "    A = B\n",
    "except:\n",
    "    print(\"An error has occured\")"
   ]
  },
  {
   "cell_type": "code",
   "execution_count": 9,
   "metadata": {},
   "outputs": [
    {
     "name": "stdout",
     "output_type": "stream",
     "text": [
      "name 'B' is not defined\n",
      "<built-in method with_traceback of NameError object at 0x0000016B203B7DB0>\n",
      "(\"name 'B' is not defined\",)\n"
     ]
    }
   ],
   "source": [
    "# 1 method\n",
    "try:\n",
    "    A = B\n",
    "except Exception as ex:\n",
    "    print(ex)\n",
    "    print(ex.with_traceback)\n",
    "    print(ex.args)"
   ]
  },
  {
   "cell_type": "code",
   "execution_count": 33,
   "metadata": {},
   "outputs": [
    {
     "name": "stdout",
     "output_type": "stream",
     "text": [
      "Enter a number 12\n",
      "Enter a number 12\n",
      "1.0\n",
      "24\n"
     ]
    }
   ],
   "source": [
    "try:\n",
    "    a = int(input('Enter a number '))\n",
    "    b = int(input('Enter a number '))\n",
    "    c = a / b\n",
    "    d = a + b\n",
    "\n",
    "except NameError:\n",
    "    print(\"There is a name error , provide ocrrect names!!!\")\n",
    "except ZeroDivisionError:\n",
    "    print('plese provide greather then 0')\n",
    "except Exception as ex:\n",
    "    print(ex)\n",
    "\n",
    "else:\n",
    "    print(c)\n",
    "    print(d)\n"
   ]
  },
  {
   "cell_type": "code",
   "execution_count": 29,
   "metadata": {},
   "outputs": [
    {
     "name": "stdout",
     "output_type": "stream",
     "text": [
      "Yes equal\n"
     ]
    }
   ],
   "source": [
    "if a == b:\n",
    "    print('Yes equal')\n",
    "else:\n",
    "    raise StopIteration"
   ]
  },
  {
   "cell_type": "code",
   "execution_count": 34,
   "metadata": {},
   "outputs": [
    {
     "name": "stdout",
     "output_type": "stream",
     "text": [
      "Enter a number 12\n",
      "Enter a number 0\n",
      "plese provide greather then 0\n",
      "Done execution\n"
     ]
    }
   ],
   "source": [
    "try:\n",
    "    a = int(input('Enter a number '))\n",
    "    b = int(input('Enter a number '))\n",
    "    c = a / b\n",
    "    d = a + b\n",
    "\n",
    "except NameError:\n",
    "    print(\"There is a name error , provide ocrrect names!!!\")\n",
    "except ZeroDivisionError:\n",
    "    print('plese provide greather then 0')\n",
    "except Exception as ex:\n",
    "    print(ex)\n",
    "\n",
    "else:\n",
    "    print(c)\n",
    "    print(d)\n",
    "\n",
    "finally:\n",
    "    print(\"Done execution\")"
   ]
  },
  {
   "cell_type": "markdown",
   "metadata": {},
   "source": [
    "### Custom Exception"
   ]
  },
  {
   "cell_type": "code",
   "execution_count": 37,
   "metadata": {},
   "outputs": [],
   "source": [
    "class Error(Exception):\n",
    "    pass\n",
    "class Dob_Exp(Error):\n",
    "    \"\"\"Exception for invalid D-O-B\"\"\"\n",
    "    def __init__(self):\n",
    "        print(\"Please Enter valid year\")\n",
    "    "
   ]
  },
  {
   "cell_type": "code",
   "execution_count": 38,
   "metadata": {},
   "outputs": [
    {
     "name": "stdout",
     "output_type": "stream",
     "text": [
      "Please Enter valid year\n"
     ]
    },
    {
     "ename": "Dob_Exp",
     "evalue": "",
     "output_type": "error",
     "traceback": [
      "\u001b[1;31m---------------------------------------------------------------------------\u001b[0m",
      "\u001b[1;31mDob_Exp\u001b[0m                                   Traceback (most recent call last)",
      "\u001b[1;32m<ipython-input-38-4ade20d283f2>\u001b[0m in \u001b[0;36m<module>\u001b[1;34m\u001b[0m\n\u001b[0;32m      2\u001b[0m     \u001b[1;32mpass\u001b[0m\u001b[1;33m\u001b[0m\u001b[1;33m\u001b[0m\u001b[0m\n\u001b[0;32m      3\u001b[0m \u001b[1;32melse\u001b[0m\u001b[1;33m:\u001b[0m\u001b[1;33m\u001b[0m\u001b[1;33m\u001b[0m\u001b[0m\n\u001b[1;32m----> 4\u001b[1;33m     \u001b[1;32mraise\u001b[0m \u001b[0mDob_Exp\u001b[0m\u001b[1;33m\u001b[0m\u001b[1;33m\u001b[0m\u001b[0m\n\u001b[0m",
      "\u001b[1;31mDob_Exp\u001b[0m: "
     ]
    }
   ],
   "source": [
    "\n",
    "if age <= 30 & age > 20:\n",
    "    pass\n",
    "else:\n",
    "    raise Dob_Exp"
   ]
  },
  {
   "cell_type": "code",
   "execution_count": 39,
   "metadata": {},
   "outputs": [
    {
     "name": "stdout",
     "output_type": "stream",
     "text": [
      "Enter you birth year :1956\n",
      "Please Enter valid year\n"
     ]
    }
   ],
   "source": [
    "yr = int(input('Enter you birth year :'))\n",
    "age = 2021 - yr\n",
    "try:\n",
    "    if age <= 30 & age > 20:\n",
    "        pass\n",
    "    else:\n",
    "        raise NameError\n",
    "except NameError:\n",
    "    print(\"Please Enter valid year\")"
   ]
  },
  {
   "cell_type": "markdown",
   "metadata": {},
   "source": [
    "### Assert statement"
   ]
  },
  {
   "cell_type": "code",
   "execution_count": 1,
   "metadata": {},
   "outputs": [
    {
     "ename": "AssertionError",
     "evalue": "",
     "output_type": "error",
     "traceback": [
      "\u001b[1;31m---------------------------------------------------------------------------\u001b[0m",
      "\u001b[1;31mAssertionError\u001b[0m                            Traceback (most recent call last)",
      "\u001b[1;32m<ipython-input-1-6d90adcf09e1>\u001b[0m in \u001b[0;36m<module>\u001b[1;34m\u001b[0m\n\u001b[0;32m      3\u001b[0m     \u001b[0mprint\u001b[0m\u001b[1;33m(\u001b[0m\u001b[1;34m'Yes'\u001b[0m\u001b[1;33m)\u001b[0m\u001b[1;33m\u001b[0m\u001b[1;33m\u001b[0m\u001b[0m\n\u001b[0;32m      4\u001b[0m \u001b[1;32melse\u001b[0m\u001b[1;33m:\u001b[0m\u001b[1;33m\u001b[0m\u001b[1;33m\u001b[0m\u001b[0m\n\u001b[1;32m----> 5\u001b[1;33m     \u001b[1;32mraise\u001b[0m \u001b[0mAssertionError\u001b[0m\u001b[1;33m\u001b[0m\u001b[1;33m\u001b[0m\u001b[0m\n\u001b[0m",
      "\u001b[1;31mAssertionError\u001b[0m: "
     ]
    }
   ],
   "source": [
    "num = 9\n",
    "if num % 2 == 0:\n",
    "    print('Yes')\n",
    "else:\n",
    "    raise AssertionError"
   ]
  },
  {
   "cell_type": "code",
   "execution_count": 53,
   "metadata": {},
   "outputs": [
    {
     "name": "stdout",
     "output_type": "stream",
     "text": [
      "Please enter a number :1\n",
      "Plase enter even number\n"
     ]
    }
   ],
   "source": [
    "#Python provides assert statemnt to check a logical exp , run smoothly if True otherwise throw an exception\n",
    "try:\n",
    "    num = int(input('Please enter a number :'))\n",
    "    assert num%2 == 0\n",
    "except AssertionError:\n",
    "    print('Plase enter even number')\n",
    "else:\n",
    "    print('You entered even number')"
   ]
  },
  {
   "cell_type": "code",
   "execution_count": null,
   "metadata": {},
   "outputs": [],
   "source": []
  }
 ],
 "metadata": {
  "kernelspec": {
   "display_name": "Python 3",
   "language": "python",
   "name": "python3"
  },
  "language_info": {
   "codemirror_mode": {
    "name": "ipython",
    "version": 3
   },
   "file_extension": ".py",
   "mimetype": "text/x-python",
   "name": "python",
   "nbconvert_exporter": "python",
   "pygments_lexer": "ipython3",
   "version": "3.8.5"
  }
 },
 "nbformat": 4,
 "nbformat_minor": 4
}
