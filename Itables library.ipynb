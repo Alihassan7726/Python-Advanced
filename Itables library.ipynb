{
 "cells": [
  {
   "cell_type": "markdown",
   "metadata": {},
   "source": [
    "# Provide interectiveness to Series and DataFrames\n",
    "\n",
    "Documentation = https://github.com/mwouts/itables"
   ]
  },
  {
   "cell_type": "code",
   "execution_count": null,
   "metadata": {},
   "outputs": [],
   "source": [
    "#pip install itables"
   ]
  },
  {
   "cell_type": "code",
   "execution_count": 1,
   "metadata": {},
   "outputs": [
    {
     "data": {
      "text/html": [
       "<div>\n",
       "<style scoped>\n",
       "    .dataframe tbody tr th:only-of-type {\n",
       "        vertical-align: middle;\n",
       "    }\n",
       "\n",
       "    .dataframe tbody tr th {\n",
       "        vertical-align: top;\n",
       "    }\n",
       "\n",
       "    .dataframe thead th {\n",
       "        text-align: right;\n",
       "    }\n",
       "</style>\n",
       "<table border=\"1\" class=\"dataframe\">\n",
       "  <thead>\n",
       "    <tr style=\"text-align: right;\">\n",
       "      <th></th>\n",
       "      <th>symboling</th>\n",
       "      <th>normalized-losses</th>\n",
       "      <th>make</th>\n",
       "      <th>fuel-type</th>\n",
       "      <th>aspiration</th>\n",
       "      <th>num-of-doors</th>\n",
       "      <th>body-style</th>\n",
       "      <th>drive-wheels</th>\n",
       "      <th>engine-location</th>\n",
       "      <th>wheel-base</th>\n",
       "      <th>...</th>\n",
       "      <th>engine-size</th>\n",
       "      <th>fuel-system</th>\n",
       "      <th>bore</th>\n",
       "      <th>stroke</th>\n",
       "      <th>compression-ratio</th>\n",
       "      <th>horsepower</th>\n",
       "      <th>peak-rpm</th>\n",
       "      <th>city-mpg</th>\n",
       "      <th>highway-mpg</th>\n",
       "      <th>price</th>\n",
       "    </tr>\n",
       "  </thead>\n",
       "  <tbody>\n",
       "    <tr>\n",
       "      <th>0</th>\n",
       "      <td>3</td>\n",
       "      <td>?</td>\n",
       "      <td>alfa-romero</td>\n",
       "      <td>gas</td>\n",
       "      <td>std</td>\n",
       "      <td>two</td>\n",
       "      <td>convertible</td>\n",
       "      <td>rwd</td>\n",
       "      <td>front</td>\n",
       "      <td>88.6</td>\n",
       "      <td>...</td>\n",
       "      <td>130</td>\n",
       "      <td>mpfi</td>\n",
       "      <td>3.47</td>\n",
       "      <td>2.68</td>\n",
       "      <td>9.0</td>\n",
       "      <td>111</td>\n",
       "      <td>5000</td>\n",
       "      <td>21</td>\n",
       "      <td>27</td>\n",
       "      <td>13495</td>\n",
       "    </tr>\n",
       "    <tr>\n",
       "      <th>1</th>\n",
       "      <td>3</td>\n",
       "      <td>?</td>\n",
       "      <td>alfa-romero</td>\n",
       "      <td>gas</td>\n",
       "      <td>std</td>\n",
       "      <td>two</td>\n",
       "      <td>convertible</td>\n",
       "      <td>rwd</td>\n",
       "      <td>front</td>\n",
       "      <td>88.6</td>\n",
       "      <td>...</td>\n",
       "      <td>130</td>\n",
       "      <td>mpfi</td>\n",
       "      <td>3.47</td>\n",
       "      <td>2.68</td>\n",
       "      <td>9.0</td>\n",
       "      <td>111</td>\n",
       "      <td>5000</td>\n",
       "      <td>21</td>\n",
       "      <td>27</td>\n",
       "      <td>16500</td>\n",
       "    </tr>\n",
       "    <tr>\n",
       "      <th>2</th>\n",
       "      <td>1</td>\n",
       "      <td>?</td>\n",
       "      <td>alfa-romero</td>\n",
       "      <td>gas</td>\n",
       "      <td>std</td>\n",
       "      <td>two</td>\n",
       "      <td>hatchback</td>\n",
       "      <td>rwd</td>\n",
       "      <td>front</td>\n",
       "      <td>94.5</td>\n",
       "      <td>...</td>\n",
       "      <td>152</td>\n",
       "      <td>mpfi</td>\n",
       "      <td>2.68</td>\n",
       "      <td>3.47</td>\n",
       "      <td>9.0</td>\n",
       "      <td>154</td>\n",
       "      <td>5000</td>\n",
       "      <td>19</td>\n",
       "      <td>26</td>\n",
       "      <td>16500</td>\n",
       "    </tr>\n",
       "    <tr>\n",
       "      <th>3</th>\n",
       "      <td>2</td>\n",
       "      <td>164</td>\n",
       "      <td>audi</td>\n",
       "      <td>gas</td>\n",
       "      <td>std</td>\n",
       "      <td>four</td>\n",
       "      <td>sedan</td>\n",
       "      <td>fwd</td>\n",
       "      <td>front</td>\n",
       "      <td>99.8</td>\n",
       "      <td>...</td>\n",
       "      <td>109</td>\n",
       "      <td>mpfi</td>\n",
       "      <td>3.19</td>\n",
       "      <td>3.40</td>\n",
       "      <td>10.0</td>\n",
       "      <td>102</td>\n",
       "      <td>5500</td>\n",
       "      <td>24</td>\n",
       "      <td>30</td>\n",
       "      <td>13950</td>\n",
       "    </tr>\n",
       "    <tr>\n",
       "      <th>4</th>\n",
       "      <td>2</td>\n",
       "      <td>164</td>\n",
       "      <td>audi</td>\n",
       "      <td>gas</td>\n",
       "      <td>std</td>\n",
       "      <td>four</td>\n",
       "      <td>sedan</td>\n",
       "      <td>4wd</td>\n",
       "      <td>front</td>\n",
       "      <td>99.4</td>\n",
       "      <td>...</td>\n",
       "      <td>136</td>\n",
       "      <td>mpfi</td>\n",
       "      <td>3.19</td>\n",
       "      <td>3.40</td>\n",
       "      <td>8.0</td>\n",
       "      <td>115</td>\n",
       "      <td>5500</td>\n",
       "      <td>18</td>\n",
       "      <td>22</td>\n",
       "      <td>17450</td>\n",
       "    </tr>\n",
       "  </tbody>\n",
       "</table>\n",
       "<p>5 rows × 26 columns</p>\n",
       "</div>"
      ],
      "text/plain": [
       "   symboling normalized-losses         make fuel-type aspiration num-of-doors  \\\n",
       "0          3                 ?  alfa-romero       gas        std          two   \n",
       "1          3                 ?  alfa-romero       gas        std          two   \n",
       "2          1                 ?  alfa-romero       gas        std          two   \n",
       "3          2               164         audi       gas        std         four   \n",
       "4          2               164         audi       gas        std         four   \n",
       "\n",
       "    body-style drive-wheels engine-location  wheel-base  ...  engine-size  \\\n",
       "0  convertible          rwd           front        88.6  ...          130   \n",
       "1  convertible          rwd           front        88.6  ...          130   \n",
       "2    hatchback          rwd           front        94.5  ...          152   \n",
       "3        sedan          fwd           front        99.8  ...          109   \n",
       "4        sedan          4wd           front        99.4  ...          136   \n",
       "\n",
       "   fuel-system  bore  stroke compression-ratio horsepower  peak-rpm city-mpg  \\\n",
       "0         mpfi  3.47    2.68               9.0        111      5000       21   \n",
       "1         mpfi  3.47    2.68               9.0        111      5000       21   \n",
       "2         mpfi  2.68    3.47               9.0        154      5000       19   \n",
       "3         mpfi  3.19    3.40              10.0        102      5500       24   \n",
       "4         mpfi  3.19    3.40               8.0        115      5500       18   \n",
       "\n",
       "  highway-mpg  price  \n",
       "0          27  13495  \n",
       "1          27  16500  \n",
       "2          26  16500  \n",
       "3          30  13950  \n",
       "4          22  17450  \n",
       "\n",
       "[5 rows x 26 columns]"
      ]
     },
     "execution_count": 1,
     "metadata": {},
     "output_type": "execute_result"
    }
   ],
   "source": [
    "import pandas as pd\n",
    "import numpy as np\n",
    "df = pd.read_csv(r'C:/Users/Ali/Downloads/Automobile.csv')\n",
    "df.head()"
   ]
  },
  {
   "cell_type": "code",
   "execution_count": 2,
   "metadata": {},
   "outputs": [
    {
     "data": {
      "text/html": [
       "<div>\n",
       "<style scoped>\n",
       "    .dataframe tbody tr th:only-of-type {\n",
       "        vertical-align: middle;\n",
       "    }\n",
       "\n",
       "    .dataframe tbody tr th {\n",
       "        vertical-align: top;\n",
       "    }\n",
       "\n",
       "    .dataframe thead th {\n",
       "        text-align: right;\n",
       "    }\n",
       "</style>\n",
       "<table border=\"1\" class=\"dataframe\">\n",
       "  <thead>\n",
       "    <tr style=\"text-align: right;\">\n",
       "      <th></th>\n",
       "      <th>symboling</th>\n",
       "      <th>normalized-losses</th>\n",
       "      <th>make</th>\n",
       "      <th>fuel-type</th>\n",
       "      <th>aspiration</th>\n",
       "      <th>num-of-doors</th>\n",
       "      <th>body-style</th>\n",
       "      <th>drive-wheels</th>\n",
       "      <th>engine-location</th>\n",
       "      <th>wheel-base</th>\n",
       "      <th>...</th>\n",
       "      <th>engine-size</th>\n",
       "      <th>fuel-system</th>\n",
       "      <th>bore</th>\n",
       "      <th>stroke</th>\n",
       "      <th>compression-ratio</th>\n",
       "      <th>horsepower</th>\n",
       "      <th>peak-rpm</th>\n",
       "      <th>city-mpg</th>\n",
       "      <th>highway-mpg</th>\n",
       "      <th>price</th>\n",
       "    </tr>\n",
       "  </thead>\n",
       "  <tbody>\n",
       "    <tr>\n",
       "      <th>0</th>\n",
       "      <td>3</td>\n",
       "      <td>?</td>\n",
       "      <td>alfa-romero</td>\n",
       "      <td>gas</td>\n",
       "      <td>std</td>\n",
       "      <td>two</td>\n",
       "      <td>convertible</td>\n",
       "      <td>rwd</td>\n",
       "      <td>front</td>\n",
       "      <td>88.6</td>\n",
       "      <td>...</td>\n",
       "      <td>130</td>\n",
       "      <td>mpfi</td>\n",
       "      <td>3.47</td>\n",
       "      <td>2.68</td>\n",
       "      <td>9.0</td>\n",
       "      <td>111</td>\n",
       "      <td>5000</td>\n",
       "      <td>21</td>\n",
       "      <td>27</td>\n",
       "      <td>13495</td>\n",
       "    </tr>\n",
       "    <tr>\n",
       "      <th>1</th>\n",
       "      <td>3</td>\n",
       "      <td>?</td>\n",
       "      <td>alfa-romero</td>\n",
       "      <td>gas</td>\n",
       "      <td>std</td>\n",
       "      <td>two</td>\n",
       "      <td>convertible</td>\n",
       "      <td>rwd</td>\n",
       "      <td>front</td>\n",
       "      <td>88.6</td>\n",
       "      <td>...</td>\n",
       "      <td>130</td>\n",
       "      <td>mpfi</td>\n",
       "      <td>3.47</td>\n",
       "      <td>2.68</td>\n",
       "      <td>9.0</td>\n",
       "      <td>111</td>\n",
       "      <td>5000</td>\n",
       "      <td>21</td>\n",
       "      <td>27</td>\n",
       "      <td>16500</td>\n",
       "    </tr>\n",
       "    <tr>\n",
       "      <th>2</th>\n",
       "      <td>1</td>\n",
       "      <td>?</td>\n",
       "      <td>alfa-romero</td>\n",
       "      <td>gas</td>\n",
       "      <td>std</td>\n",
       "      <td>two</td>\n",
       "      <td>hatchback</td>\n",
       "      <td>rwd</td>\n",
       "      <td>front</td>\n",
       "      <td>94.5</td>\n",
       "      <td>...</td>\n",
       "      <td>152</td>\n",
       "      <td>mpfi</td>\n",
       "      <td>2.68</td>\n",
       "      <td>3.47</td>\n",
       "      <td>9.0</td>\n",
       "      <td>154</td>\n",
       "      <td>5000</td>\n",
       "      <td>19</td>\n",
       "      <td>26</td>\n",
       "      <td>16500</td>\n",
       "    </tr>\n",
       "    <tr>\n",
       "      <th>3</th>\n",
       "      <td>2</td>\n",
       "      <td>164</td>\n",
       "      <td>audi</td>\n",
       "      <td>gas</td>\n",
       "      <td>std</td>\n",
       "      <td>four</td>\n",
       "      <td>sedan</td>\n",
       "      <td>fwd</td>\n",
       "      <td>front</td>\n",
       "      <td>99.8</td>\n",
       "      <td>...</td>\n",
       "      <td>109</td>\n",
       "      <td>mpfi</td>\n",
       "      <td>3.19</td>\n",
       "      <td>3.40</td>\n",
       "      <td>10.0</td>\n",
       "      <td>102</td>\n",
       "      <td>5500</td>\n",
       "      <td>24</td>\n",
       "      <td>30</td>\n",
       "      <td>13950</td>\n",
       "    </tr>\n",
       "    <tr>\n",
       "      <th>4</th>\n",
       "      <td>2</td>\n",
       "      <td>164</td>\n",
       "      <td>audi</td>\n",
       "      <td>gas</td>\n",
       "      <td>std</td>\n",
       "      <td>four</td>\n",
       "      <td>sedan</td>\n",
       "      <td>4wd</td>\n",
       "      <td>front</td>\n",
       "      <td>99.4</td>\n",
       "      <td>...</td>\n",
       "      <td>136</td>\n",
       "      <td>mpfi</td>\n",
       "      <td>3.19</td>\n",
       "      <td>3.40</td>\n",
       "      <td>8.0</td>\n",
       "      <td>115</td>\n",
       "      <td>5500</td>\n",
       "      <td>18</td>\n",
       "      <td>22</td>\n",
       "      <td>17450</td>\n",
       "    </tr>\n",
       "    <tr>\n",
       "      <th>5</th>\n",
       "      <td>2</td>\n",
       "      <td>?</td>\n",
       "      <td>audi</td>\n",
       "      <td>gas</td>\n",
       "      <td>std</td>\n",
       "      <td>two</td>\n",
       "      <td>sedan</td>\n",
       "      <td>fwd</td>\n",
       "      <td>front</td>\n",
       "      <td>99.8</td>\n",
       "      <td>...</td>\n",
       "      <td>136</td>\n",
       "      <td>mpfi</td>\n",
       "      <td>3.19</td>\n",
       "      <td>3.40</td>\n",
       "      <td>8.5</td>\n",
       "      <td>110</td>\n",
       "      <td>5500</td>\n",
       "      <td>19</td>\n",
       "      <td>25</td>\n",
       "      <td>15250</td>\n",
       "    </tr>\n",
       "    <tr>\n",
       "      <th>6</th>\n",
       "      <td>1</td>\n",
       "      <td>158</td>\n",
       "      <td>audi</td>\n",
       "      <td>gas</td>\n",
       "      <td>std</td>\n",
       "      <td>four</td>\n",
       "      <td>sedan</td>\n",
       "      <td>fwd</td>\n",
       "      <td>front</td>\n",
       "      <td>105.8</td>\n",
       "      <td>...</td>\n",
       "      <td>136</td>\n",
       "      <td>mpfi</td>\n",
       "      <td>3.19</td>\n",
       "      <td>3.40</td>\n",
       "      <td>8.5</td>\n",
       "      <td>110</td>\n",
       "      <td>5500</td>\n",
       "      <td>19</td>\n",
       "      <td>25</td>\n",
       "      <td>17710</td>\n",
       "    </tr>\n",
       "    <tr>\n",
       "      <th>7</th>\n",
       "      <td>1</td>\n",
       "      <td>?</td>\n",
       "      <td>audi</td>\n",
       "      <td>gas</td>\n",
       "      <td>std</td>\n",
       "      <td>four</td>\n",
       "      <td>wagon</td>\n",
       "      <td>fwd</td>\n",
       "      <td>front</td>\n",
       "      <td>105.8</td>\n",
       "      <td>...</td>\n",
       "      <td>136</td>\n",
       "      <td>mpfi</td>\n",
       "      <td>3.19</td>\n",
       "      <td>3.40</td>\n",
       "      <td>8.5</td>\n",
       "      <td>110</td>\n",
       "      <td>5500</td>\n",
       "      <td>19</td>\n",
       "      <td>25</td>\n",
       "      <td>18920</td>\n",
       "    </tr>\n",
       "    <tr>\n",
       "      <th>8</th>\n",
       "      <td>1</td>\n",
       "      <td>158</td>\n",
       "      <td>audi</td>\n",
       "      <td>gas</td>\n",
       "      <td>turbo</td>\n",
       "      <td>four</td>\n",
       "      <td>sedan</td>\n",
       "      <td>fwd</td>\n",
       "      <td>front</td>\n",
       "      <td>105.8</td>\n",
       "      <td>...</td>\n",
       "      <td>131</td>\n",
       "      <td>mpfi</td>\n",
       "      <td>3.13</td>\n",
       "      <td>3.40</td>\n",
       "      <td>8.3</td>\n",
       "      <td>140</td>\n",
       "      <td>5500</td>\n",
       "      <td>17</td>\n",
       "      <td>20</td>\n",
       "      <td>23875</td>\n",
       "    </tr>\n",
       "    <tr>\n",
       "      <th>9</th>\n",
       "      <td>0</td>\n",
       "      <td>?</td>\n",
       "      <td>audi</td>\n",
       "      <td>gas</td>\n",
       "      <td>turbo</td>\n",
       "      <td>two</td>\n",
       "      <td>hatchback</td>\n",
       "      <td>4wd</td>\n",
       "      <td>front</td>\n",
       "      <td>99.5</td>\n",
       "      <td>...</td>\n",
       "      <td>131</td>\n",
       "      <td>mpfi</td>\n",
       "      <td>3.13</td>\n",
       "      <td>3.40</td>\n",
       "      <td>7.0</td>\n",
       "      <td>160</td>\n",
       "      <td>5500</td>\n",
       "      <td>16</td>\n",
       "      <td>22</td>\n",
       "      <td>?</td>\n",
       "    </tr>\n",
       "  </tbody>\n",
       "</table>\n",
       "<p>10 rows × 26 columns</p>\n",
       "</div>"
      ],
      "text/plain": [
       "   symboling normalized-losses         make fuel-type aspiration num-of-doors  \\\n",
       "0          3                 ?  alfa-romero       gas        std          two   \n",
       "1          3                 ?  alfa-romero       gas        std          two   \n",
       "2          1                 ?  alfa-romero       gas        std          two   \n",
       "3          2               164         audi       gas        std         four   \n",
       "4          2               164         audi       gas        std         four   \n",
       "5          2                 ?         audi       gas        std          two   \n",
       "6          1               158         audi       gas        std         four   \n",
       "7          1                 ?         audi       gas        std         four   \n",
       "8          1               158         audi       gas      turbo         four   \n",
       "9          0                 ?         audi       gas      turbo          two   \n",
       "\n",
       "    body-style drive-wheels engine-location  wheel-base  ...  engine-size  \\\n",
       "0  convertible          rwd           front        88.6  ...          130   \n",
       "1  convertible          rwd           front        88.6  ...          130   \n",
       "2    hatchback          rwd           front        94.5  ...          152   \n",
       "3        sedan          fwd           front        99.8  ...          109   \n",
       "4        sedan          4wd           front        99.4  ...          136   \n",
       "5        sedan          fwd           front        99.8  ...          136   \n",
       "6        sedan          fwd           front       105.8  ...          136   \n",
       "7        wagon          fwd           front       105.8  ...          136   \n",
       "8        sedan          fwd           front       105.8  ...          131   \n",
       "9    hatchback          4wd           front        99.5  ...          131   \n",
       "\n",
       "   fuel-system  bore  stroke compression-ratio horsepower  peak-rpm city-mpg  \\\n",
       "0         mpfi  3.47    2.68               9.0        111      5000       21   \n",
       "1         mpfi  3.47    2.68               9.0        111      5000       21   \n",
       "2         mpfi  2.68    3.47               9.0        154      5000       19   \n",
       "3         mpfi  3.19    3.40              10.0        102      5500       24   \n",
       "4         mpfi  3.19    3.40               8.0        115      5500       18   \n",
       "5         mpfi  3.19    3.40               8.5        110      5500       19   \n",
       "6         mpfi  3.19    3.40               8.5        110      5500       19   \n",
       "7         mpfi  3.19    3.40               8.5        110      5500       19   \n",
       "8         mpfi  3.13    3.40               8.3        140      5500       17   \n",
       "9         mpfi  3.13    3.40               7.0        160      5500       16   \n",
       "\n",
       "  highway-mpg  price  \n",
       "0          27  13495  \n",
       "1          27  16500  \n",
       "2          26  16500  \n",
       "3          30  13950  \n",
       "4          22  17450  \n",
       "5          25  15250  \n",
       "6          25  17710  \n",
       "7          25  18920  \n",
       "8          20  23875  \n",
       "9          22      ?  \n",
       "\n",
       "[10 rows x 26 columns]"
      ]
     },
     "execution_count": 2,
     "metadata": {},
     "output_type": "execute_result"
    }
   ],
   "source": [
    "#from itables import init_notebook_mode\n",
    "#init_notebook_mode(all_interactive=True)\n",
    "import warnings\n",
    "warnings.filterwarnings('ignore')\n",
    "df.head(10)"
   ]
  },
  {
   "cell_type": "code",
   "execution_count": 3,
   "metadata": {},
   "outputs": [],
   "source": [
    "from itables import show"
   ]
  },
  {
   "cell_type": "code",
   "execution_count": 4,
   "metadata": {},
   "outputs": [
    {
     "name": "stderr",
     "output_type": "stream",
     "text": [
      "WARNING:itables.downsample:showing 5x20 of 5x26 as maxColumns=20. See https://mwouts.github.io/itables/#downsampling\n"
     ]
    },
    {
     "data": {
      "application/javascript": [
       "require.config({\n",
       "    paths: {\n",
       "        datatables: 'https://cdn.datatables.net/1.10.19/js/jquery.dataTables.min',\n",
       "    }\n",
       "});\n",
       "\n",
       "$('head').append('<link rel=\"stylesheet\" type=\"text/css\" \\\n",
       "                href = \"https://cdn.datatables.net/1.10.19/css/jquery.dataTables.min.css\" > ');\n",
       "\n",
       "$('head').append('<style> table td { text-overflow: ellipsis; overflow: hidden; } </style>');\n",
       "\n",
       "$('head').append(`<script>\n",
       "function eval_functions(map_or_text) {\n",
       "    if (typeof map_or_text === \"string\") {\n",
       "        if (map_or_text.startsWith(\"function\")) {\n",
       "            try {\n",
       "                // Note: parenthesis are required around the whole expression for eval to return a value!\n",
       "                // See https://stackoverflow.com/a/7399078/911298.\n",
       "                //\n",
       "                // eval(\"local_fun = \" + map_or_text) would fail because local_fun is not declared\n",
       "                // (using var, let or const would work, but it would only be declared in the local scope\n",
       "                // and therefore the value could not be retrieved).\n",
       "                const func = eval(\"(\" + map_or_text + \")\");\n",
       "                if (typeof func !== \"function\") {\n",
       "                    // Note: backquotes are super convenient!\n",
       "                    // https://developer.mozilla.org/en-US/docs/Web/JavaScript/Reference/Template_literals\n",
       "                    console.error(\"Evaluated expression \" + map_or_text + \" is not a function (type is \" + typeof func + \")\");\n",
       "                    return map_or_text;\n",
       "                }\n",
       "                // Return the function\n",
       "                return func;\n",
       "            } catch (e) {\n",
       "                // Make sure to print the error with a second argument to console.error().\n",
       "                console.error(\"itables was not able to parse \" + map_or_text, e);\n",
       "            }\n",
       "        }\n",
       "    } else if (typeof map_or_text === \"object\") {\n",
       "        if (map_or_text instanceof Array) {\n",
       "            // Note: \"var\" is now superseded by \"let\" and \"const\".\n",
       "            // https://medium.com/javascript-scene/javascript-es6-var-let-or-const-ba58b8dcde75\n",
       "            const result = [];\n",
       "            // Note: \"for of\" is the best way to iterate through an iterable.\n",
       "            // https://developer.mozilla.org/en-US/docs/Web/JavaScript/Reference/Statements/for...of\n",
       "            for (const item of map_or_text) {\n",
       "                result.push(eval_functions(item));\n",
       "            }\n",
       "            return result;\n",
       "\n",
       "            // Alternatively, more functional approach in one line:\n",
       "            // return map_or_text.map(eval_functions);\n",
       "        } else {\n",
       "            const result = {};\n",
       "            // Object.keys() is safer than \"for in\" because otherwise you might have keys\n",
       "            // that aren't defined in the object itself.\n",
       "            //\n",
       "            // See https://stackoverflow.com/a/684692/911298.\n",
       "            for (const item of Object.keys(map_or_text)) {\n",
       "                result[item] = eval_functions(map_or_text[item]);\n",
       "            }\n",
       "            return result;\n",
       "        }\n",
       "    }\n",
       "\n",
       "    return map_or_text;\n",
       "}\n",
       "\n",
       "</` + 'script>');"
      ],
      "text/plain": [
       "<IPython.core.display.Javascript object>"
      ]
     },
     "metadata": {},
     "output_type": "display_data"
    },
    {
     "data": {
      "text/html": [
       "<div><table id=\"8fc7869e-563a-4d10-bf13-88a5a96dd8b4\" class=\"display\"><thead>\n",
       "    <tr style=\"text-align: right;\">\n",
       "      \n",
       "      <th>symboling</th>\n",
       "      <th>normalized-losses</th>\n",
       "      <th>make</th>\n",
       "      <th>fuel-type</th>\n",
       "      <th>aspiration</th>\n",
       "      <th>num-of-doors</th>\n",
       "      <th>body-style</th>\n",
       "      <th>drive-wheels</th>\n",
       "      <th>engine-location</th>\n",
       "      <th>wheel-base</th>\n",
       "      <th>engine-size</th>\n",
       "      <th>fuel-system</th>\n",
       "      <th>bore</th>\n",
       "      <th>stroke</th>\n",
       "      <th>compression-ratio</th>\n",
       "      <th>horsepower</th>\n",
       "      <th>peak-rpm</th>\n",
       "      <th>city-mpg</th>\n",
       "      <th>highway-mpg</th>\n",
       "      <th>price</th>\n",
       "    </tr>\n",
       "  </thead></table>\n",
       "<script type=\"text/javascript\">\n",
       "require([\"datatables\"], function (datatables) {\n",
       "    $(document).ready(function () {\n",
       "        var dt_args = {\"pagin\": false, \"columnDefs\": [{\"width\": \"70px\", \"targets\": \"_all\"}], \"paging\": false, \"data\": [[3, \"?\", \"alfa-romero\", \"gas\", \"std\", \"two\", \"convertible\", \"rwd\", \"front\", 88.6, 130, \"mpfi\", \"3.47\", \"2.68\", 9.0, \"111\", \"5000\", 21, 27, \"13495\"], [3, \"?\", \"alfa-romero\", \"gas\", \"std\", \"two\", \"convertible\", \"rwd\", \"front\", 88.6, 130, \"mpfi\", \"3.47\", \"2.68\", 9.0, \"111\", \"5000\", 21, 27, \"16500\"], [1, \"?\", \"alfa-romero\", \"gas\", \"std\", \"two\", \"hatchback\", \"rwd\", \"front\", 94.5, 152, \"mpfi\", \"2.68\", \"3.47\", 9.0, \"154\", \"5000\", 19, 26, \"16500\"], [2, \"164\", \"audi\", \"gas\", \"std\", \"four\", \"sedan\", \"fwd\", \"front\", 99.8, 109, \"mpfi\", \"3.19\", \"3.40\", 10.0, \"102\", \"5500\", 24, 30, \"13950\"], [2, \"164\", \"audi\", \"gas\", \"std\", \"four\", \"sedan\", \"4wd\", \"front\", 99.4, 136, \"mpfi\", \"3.19\", \"3.40\", 8.0, \"115\", \"5500\", 18, 22, \"17450\"]]};\n",
       "        dt_args = eval_functions(dt_args);\n",
       "        table = $('#8fc7869e-563a-4d10-bf13-88a5a96dd8b4').DataTable(dt_args);\n",
       "    });\n",
       "})\n",
       "</script>\n",
       "</div>\n"
      ],
      "text/plain": [
       "<IPython.core.display.HTML object>"
      ]
     },
     "metadata": {},
     "output_type": "display_data"
    }
   ],
   "source": [
    "show(df = df.head() , pagin = False)"
   ]
  },
  {
   "cell_type": "markdown",
   "metadata": {},
   "source": [
    "# How many rows per page"
   ]
  },
  {
   "cell_type": "code",
   "execution_count": 31,
   "metadata": {},
   "outputs": [
    {
     "name": "stderr",
     "output_type": "stream",
     "text": [
      "WARNING:itables.downsample:showing 205x20 of 205x26 as maxColumns=20. See https://mwouts.github.io/itables/#downsampling\n"
     ]
    },
    {
     "name": "stdout",
     "output_type": "stream",
     "text": [
      "42640\n"
     ]
    },
    {
     "data": {
      "text/html": [
       "<div><table id=\"422da683-4c2e-4bf5-8d81-23c785b40be1\" class=\"display\"><thead>\n",
       "    <tr style=\"text-align: right;\">\n",
       "      \n",
       "      <th>symboling</th>\n",
       "      <th>normalized-losses</th>\n",
       "      <th>make</th>\n",
       "      <th>fuel-type</th>\n",
       "      <th>aspiration</th>\n",
       "      <th>num-of-doors</th>\n",
       "      <th>body-style</th>\n",
       "      <th>drive-wheels</th>\n",
       "      <th>engine-location</th>\n",
       "      <th>wheel-base</th>\n",
       "      <th>engine-size</th>\n",
       "      <th>fuel-system</th>\n",
       "      <th>bore</th>\n",
       "      <th>stroke</th>\n",
       "      <th>compression-ratio</th>\n",
       "      <th>horsepower</th>\n",
       "      <th>peak-rpm</th>\n",
       "      <th>city-mpg</th>\n",
       "      <th>highway-mpg</th>\n",
       "      <th>price</th>\n",
       "    </tr>\n",
       "  </thead></table>\n",
       "<script type=\"text/javascript\">\n",
       "require([\"datatables\"], function (datatables) {\n",
       "    $(document).ready(function () {\n",
       "        var dt_args = {\"columnDefs\": [{\"width\": \"70px\", \"targets\": \"_all\"}], \"lengthMenu\": [5, 10, 20, 50, 100, 200, 500], \"data\": [[3, \"?\", \"alfa-romero\", \"gas\", \"std\", \"two\", \"convertible\", \"rwd\", \"front\", 88.6, 130, \"mpfi\", \"3.47\", \"2.68\", 9.0, \"111\", \"5000\", 21, 27, \"13495\"], [3, \"?\", \"alfa-romero\", \"gas\", \"std\", \"two\", \"convertible\", \"rwd\", \"front\", 88.6, 130, \"mpfi\", \"3.47\", \"2.68\", 9.0, \"111\", \"5000\", 21, 27, \"16500\"], [1, \"?\", \"alfa-romero\", \"gas\", \"std\", \"two\", \"hatchback\", \"rwd\", \"front\", 94.5, 152, \"mpfi\", \"2.68\", \"3.47\", 9.0, \"154\", \"5000\", 19, 26, \"16500\"], [2, \"164\", \"audi\", \"gas\", \"std\", \"four\", \"sedan\", \"fwd\", \"front\", 99.8, 109, \"mpfi\", \"3.19\", \"3.40\", 10.0, \"102\", \"5500\", 24, 30, \"13950\"], [2, \"164\", \"audi\", \"gas\", \"std\", \"four\", \"sedan\", \"4wd\", \"front\", 99.4, 136, \"mpfi\", \"3.19\", \"3.40\", 8.0, \"115\", \"5500\", 18, 22, \"17450\"], [2, \"?\", \"audi\", \"gas\", \"std\", \"two\", \"sedan\", \"fwd\", \"front\", 99.8, 136, \"mpfi\", \"3.19\", \"3.40\", 8.5, \"110\", \"5500\", 19, 25, \"15250\"], [1, \"158\", \"audi\", \"gas\", \"std\", \"four\", \"sedan\", \"fwd\", \"front\", 105.8, 136, \"mpfi\", \"3.19\", \"3.40\", 8.5, \"110\", \"5500\", 19, 25, \"17710\"], [1, \"?\", \"audi\", \"gas\", \"std\", \"four\", \"wagon\", \"fwd\", \"front\", 105.8, 136, \"mpfi\", \"3.19\", \"3.40\", 8.5, \"110\", \"5500\", 19, 25, \"18920\"], [1, \"158\", \"audi\", \"gas\", \"turbo\", \"four\", \"sedan\", \"fwd\", \"front\", 105.8, 131, \"mpfi\", \"3.13\", \"3.40\", 8.3, \"140\", \"5500\", 17, 20, \"23875\"], [0, \"?\", \"audi\", \"gas\", \"turbo\", \"two\", \"hatchback\", \"4wd\", \"front\", 99.5, 131, \"mpfi\", \"3.13\", \"3.40\", 7.0, \"160\", \"5500\", 16, 22, \"?\"], [2, \"192\", \"bmw\", \"gas\", \"std\", \"two\", \"sedan\", \"rwd\", \"front\", 101.2, 108, \"mpfi\", \"3.50\", \"2.80\", 8.8, \"101\", \"5800\", 23, 29, \"16430\"], [0, \"192\", \"bmw\", \"gas\", \"std\", \"four\", \"sedan\", \"rwd\", \"front\", 101.2, 108, \"mpfi\", \"3.50\", \"2.80\", 8.8, \"101\", \"5800\", 23, 29, \"16925\"], [0, \"188\", \"bmw\", \"gas\", \"std\", \"two\", \"sedan\", \"rwd\", \"front\", 101.2, 164, \"mpfi\", \"3.31\", \"3.19\", 9.0, \"121\", \"4250\", 21, 28, \"20970\"], [0, \"188\", \"bmw\", \"gas\", \"std\", \"four\", \"sedan\", \"rwd\", \"front\", 101.2, 164, \"mpfi\", \"3.31\", \"3.19\", 9.0, \"121\", \"4250\", 21, 28, \"21105\"], [1, \"?\", \"bmw\", \"gas\", \"std\", \"four\", \"sedan\", \"rwd\", \"front\", 103.5, 164, \"mpfi\", \"3.31\", \"3.19\", 9.0, \"121\", \"4250\", 20, 25, \"24565\"], [0, \"?\", \"bmw\", \"gas\", \"std\", \"four\", \"sedan\", \"rwd\", \"front\", 103.5, 209, \"mpfi\", \"3.62\", \"3.39\", 8.0, \"182\", \"5400\", 16, 22, \"30760\"], [0, \"?\", \"bmw\", \"gas\", \"std\", \"two\", \"sedan\", \"rwd\", \"front\", 103.5, 209, \"mpfi\", \"3.62\", \"3.39\", 8.0, \"182\", \"5400\", 16, 22, \"41315\"], [0, \"?\", \"bmw\", \"gas\", \"std\", \"four\", \"sedan\", \"rwd\", \"front\", 110.0, 209, \"mpfi\", \"3.62\", \"3.39\", 8.0, \"182\", \"5400\", 15, 20, \"36880\"], [2, \"121\", \"chevrolet\", \"gas\", \"std\", \"two\", \"hatchback\", \"fwd\", \"front\", 88.4, 61, \"2bbl\", \"2.91\", \"3.03\", 9.5, \"48\", \"5100\", 47, 53, \"5151\"], [1, \"98\", \"chevrolet\", \"gas\", \"std\", \"two\", \"hatchback\", \"fwd\", \"front\", 94.5, 90, \"2bbl\", \"3.03\", \"3.11\", 9.6, \"70\", \"5400\", 38, 43, \"6295\"], [0, \"81\", \"chevrolet\", \"gas\", \"std\", \"four\", \"sedan\", \"fwd\", \"front\", 94.5, 90, \"2bbl\", \"3.03\", \"3.11\", 9.6, \"70\", \"5400\", 38, 43, \"6575\"], [1, \"118\", \"dodge\", \"gas\", \"std\", \"two\", \"hatchback\", \"fwd\", \"front\", 93.7, 90, \"2bbl\", \"2.97\", \"3.23\", 9.41, \"68\", \"5500\", 37, 41, \"5572\"], [1, \"118\", \"dodge\", \"gas\", \"std\", \"two\", \"hatchback\", \"fwd\", \"front\", 93.7, 90, \"2bbl\", \"2.97\", \"3.23\", 9.4, \"68\", \"5500\", 31, 38, \"6377\"], [1, \"118\", \"dodge\", \"gas\", \"turbo\", \"two\", \"hatchback\", \"fwd\", \"front\", 93.7, 98, \"mpfi\", \"3.03\", \"3.39\", 7.6, \"102\", \"5500\", 24, 30, \"7957\"], [1, \"148\", \"dodge\", \"gas\", \"std\", \"four\", \"hatchback\", \"fwd\", \"front\", 93.7, 90, \"2bbl\", \"2.97\", \"3.23\", 9.4, \"68\", \"5500\", 31, 38, \"6229\"], [1, \"148\", \"dodge\", \"gas\", \"std\", \"four\", \"sedan\", \"fwd\", \"front\", 93.7, 90, \"2bbl\", \"2.97\", \"3.23\", 9.4, \"68\", \"5500\", 31, 38, \"6692\"], [1, \"148\", \"dodge\", \"gas\", \"std\", \"four\", \"sedan\", \"fwd\", \"front\", 93.7, 90, \"2bbl\", \"2.97\", \"3.23\", 9.4, \"68\", \"5500\", 31, 38, \"7609\"], [1, \"148\", \"dodge\", \"gas\", \"turbo\", \"?\", \"sedan\", \"fwd\", \"front\", 93.7, 98, \"mpfi\", \"3.03\", \"3.39\", 7.6, \"102\", \"5500\", 24, 30, \"8558\"], [-1, \"110\", \"dodge\", \"gas\", \"std\", \"four\", \"wagon\", \"fwd\", \"front\", 103.3, 122, \"2bbl\", \"3.34\", \"3.46\", 8.5, \"88\", \"5000\", 24, 30, \"8921\"], [3, \"145\", \"dodge\", \"gas\", \"turbo\", \"two\", \"hatchback\", \"fwd\", \"front\", 95.9, 156, \"mfi\", \"3.60\", \"3.90\", 7.0, \"145\", \"5000\", 19, 24, \"12964\"], [2, \"137\", \"honda\", \"gas\", \"std\", \"two\", \"hatchback\", \"fwd\", \"front\", 86.6, 92, \"1bbl\", \"2.91\", \"3.41\", 9.6, \"58\", \"4800\", 49, 54, \"6479\"], [2, \"137\", \"honda\", \"gas\", \"std\", \"two\", \"hatchback\", \"fwd\", \"front\", 86.6, 92, \"1bbl\", \"2.91\", \"3.41\", 9.2, \"76\", \"6000\", 31, 38, \"6855\"], [1, \"101\", \"honda\", \"gas\", \"std\", \"two\", \"hatchback\", \"fwd\", \"front\", 93.7, 79, \"1bbl\", \"2.91\", \"3.07\", 10.1, \"60\", \"5500\", 38, 42, \"5399\"], [1, \"101\", \"honda\", \"gas\", \"std\", \"two\", \"hatchback\", \"fwd\", \"front\", 93.7, 92, \"1bbl\", \"2.91\", \"3.41\", 9.2, \"76\", \"6000\", 30, 34, \"6529\"], [1, \"101\", \"honda\", \"gas\", \"std\", \"two\", \"hatchback\", \"fwd\", \"front\", 93.7, 92, \"1bbl\", \"2.91\", \"3.41\", 9.2, \"76\", \"6000\", 30, 34, \"7129\"], [0, \"110\", \"honda\", \"gas\", \"std\", \"four\", \"sedan\", \"fwd\", \"front\", 96.5, 92, \"1bbl\", \"2.91\", \"3.41\", 9.2, \"76\", \"6000\", 30, 34, \"7295\"], [0, \"78\", \"honda\", \"gas\", \"std\", \"four\", \"wagon\", \"fwd\", \"front\", 96.5, 92, \"1bbl\", \"2.92\", \"3.41\", 9.2, \"76\", \"6000\", 30, 34, \"7295\"], [0, \"106\", \"honda\", \"gas\", \"std\", \"two\", \"hatchback\", \"fwd\", \"front\", 96.5, 110, \"1bbl\", \"3.15\", \"3.58\", 9.0, \"86\", \"5800\", 27, 33, \"7895\"], [0, \"106\", \"honda\", \"gas\", \"std\", \"two\", \"hatchback\", \"fwd\", \"front\", 96.5, 110, \"1bbl\", \"3.15\", \"3.58\", 9.0, \"86\", \"5800\", 27, 33, \"9095\"], [0, \"85\", \"honda\", \"gas\", \"std\", \"four\", \"sedan\", \"fwd\", \"front\", 96.5, 110, \"1bbl\", \"3.15\", \"3.58\", 9.0, \"86\", \"5800\", 27, 33, \"8845\"], [0, \"85\", \"honda\", \"gas\", \"std\", \"four\", \"sedan\", \"fwd\", \"front\", 96.5, 110, \"1bbl\", \"3.15\", \"3.58\", 9.0, \"86\", \"5800\", 27, 33, \"10295\"], [0, \"85\", \"honda\", \"gas\", \"std\", \"four\", \"sedan\", \"fwd\", \"front\", 96.5, 110, \"mpfi\", \"3.15\", \"3.58\", 9.0, \"101\", \"5800\", 24, 28, \"12945\"], [1, \"107\", \"honda\", \"gas\", \"std\", \"two\", \"sedan\", \"fwd\", \"front\", 96.5, 110, \"2bbl\", \"3.15\", \"3.58\", 9.1, \"100\", \"5500\", 25, 31, \"10345\"], [0, \"?\", \"isuzu\", \"gas\", \"std\", \"four\", \"sedan\", \"rwd\", \"front\", 94.3, 111, \"2bbl\", \"3.31\", \"3.23\", 8.5, \"78\", \"4800\", 24, 29, \"6785\"], [1, \"?\", \"isuzu\", \"gas\", \"std\", \"two\", \"sedan\", \"fwd\", \"front\", 94.5, 90, \"2bbl\", \"3.03\", \"3.11\", 9.6, \"70\", \"5400\", 38, 43, \"?\"], [0, \"?\", \"isuzu\", \"gas\", \"std\", \"four\", \"sedan\", \"fwd\", \"front\", 94.5, 90, \"2bbl\", \"3.03\", \"3.11\", 9.6, \"70\", \"5400\", 38, 43, \"?\"], [2, \"?\", \"isuzu\", \"gas\", \"std\", \"two\", \"hatchback\", \"rwd\", \"front\", 96.0, 119, \"spfi\", \"3.43\", \"3.23\", 9.2, \"90\", \"5000\", 24, 29, \"11048\"], [0, \"145\", \"jaguar\", \"gas\", \"std\", \"four\", \"sedan\", \"rwd\", \"front\", 113.0, 258, \"mpfi\", \"3.63\", \"4.17\", 8.1, \"176\", \"4750\", 15, 19, \"32250\"], [0, \"?\", \"jaguar\", \"gas\", \"std\", \"four\", \"sedan\", \"rwd\", \"front\", 113.0, 258, \"mpfi\", \"3.63\", \"4.17\", 8.1, \"176\", \"4750\", 15, 19, \"35550\"], [0, \"?\", \"jaguar\", \"gas\", \"std\", \"two\", \"sedan\", \"rwd\", \"front\", 102.0, 326, \"mpfi\", \"3.54\", \"2.76\", 11.5, \"262\", \"5000\", 13, 17, \"36000\"], [1, \"104\", \"mazda\", \"gas\", \"std\", \"two\", \"hatchback\", \"fwd\", \"front\", 93.1, 91, \"2bbl\", \"3.03\", \"3.15\", 9.0, \"68\", \"5000\", 30, 31, \"5195\"], [1, \"104\", \"mazda\", \"gas\", \"std\", \"two\", \"hatchback\", \"fwd\", \"front\", 93.1, 91, \"2bbl\", \"3.03\", \"3.15\", 9.0, \"68\", \"5000\", 31, 38, \"6095\"], [1, \"104\", \"mazda\", \"gas\", \"std\", \"two\", \"hatchback\", \"fwd\", \"front\", 93.1, 91, \"2bbl\", \"3.03\", \"3.15\", 9.0, \"68\", \"5000\", 31, 38, \"6795\"], [1, \"113\", \"mazda\", \"gas\", \"std\", \"four\", \"sedan\", \"fwd\", \"front\", 93.1, 91, \"2bbl\", \"3.03\", \"3.15\", 9.0, \"68\", \"5000\", 31, 38, \"6695\"], [1, \"113\", \"mazda\", \"gas\", \"std\", \"four\", \"sedan\", \"fwd\", \"front\", 93.1, 91, \"2bbl\", \"3.08\", \"3.15\", 9.0, \"68\", \"5000\", 31, 38, \"7395\"], [3, \"150\", \"mazda\", \"gas\", \"std\", \"two\", \"hatchback\", \"rwd\", \"front\", 95.3, 70, \"4bbl\", \"?\", \"?\", 9.4, \"101\", \"6000\", 17, 23, \"10945\"], [3, \"150\", \"mazda\", \"gas\", \"std\", \"two\", \"hatchback\", \"rwd\", \"front\", 95.3, 70, \"4bbl\", \"?\", \"?\", 9.4, \"101\", \"6000\", 17, 23, \"11845\"], [3, \"150\", \"mazda\", \"gas\", \"std\", \"two\", \"hatchback\", \"rwd\", \"front\", 95.3, 70, \"4bbl\", \"?\", \"?\", 9.4, \"101\", \"6000\", 17, 23, \"13645\"], [3, \"150\", \"mazda\", \"gas\", \"std\", \"two\", \"hatchback\", \"rwd\", \"front\", 95.3, 80, \"mpfi\", \"?\", \"?\", 9.4, \"135\", \"6000\", 16, 23, \"15645\"], [1, \"129\", \"mazda\", \"gas\", \"std\", \"two\", \"hatchback\", \"fwd\", \"front\", 98.8, 122, \"2bbl\", \"3.39\", \"3.39\", 8.6, \"84\", \"4800\", 26, 32, \"8845\"], [0, \"115\", \"mazda\", \"gas\", \"std\", \"four\", \"sedan\", \"fwd\", \"front\", 98.8, 122, \"2bbl\", \"3.39\", \"3.39\", 8.6, \"84\", \"4800\", 26, 32, \"8495\"], [1, \"129\", \"mazda\", \"gas\", \"std\", \"two\", \"hatchback\", \"fwd\", \"front\", 98.8, 122, \"2bbl\", \"3.39\", \"3.39\", 8.6, \"84\", \"4800\", 26, 32, \"10595\"], [0, \"115\", \"mazda\", \"gas\", \"std\", \"four\", \"sedan\", \"fwd\", \"front\", 98.8, 122, \"2bbl\", \"3.39\", \"3.39\", 8.6, \"84\", \"4800\", 26, 32, \"10245\"], [0, \"?\", \"mazda\", \"diesel\", \"std\", \"?\", \"sedan\", \"fwd\", \"front\", 98.8, 122, \"idi\", \"3.39\", \"3.39\", 22.7, \"64\", \"4650\", 36, 42, \"10795\"], [0, \"115\", \"mazda\", \"gas\", \"std\", \"four\", \"hatchback\", \"fwd\", \"front\", 98.8, 122, \"2bbl\", \"3.39\", \"3.39\", 8.6, \"84\", \"4800\", 26, 32, \"11245\"], [0, \"118\", \"mazda\", \"gas\", \"std\", \"four\", \"sedan\", \"rwd\", \"front\", 104.9, 140, \"mpfi\", \"3.76\", \"3.16\", 8.0, \"120\", \"5000\", 19, 27, \"18280\"], [0, \"?\", \"mazda\", \"diesel\", \"std\", \"four\", \"sedan\", \"rwd\", \"front\", 104.9, 134, \"idi\", \"3.43\", \"3.64\", 22.0, \"72\", \"4200\", 31, 39, \"18344\"], [-1, \"93\", \"mercedes-benz\", \"diesel\", \"turbo\", \"four\", \"sedan\", \"rwd\", \"front\", 110.0, 183, \"idi\", \"3.58\", \"3.64\", 21.5, \"123\", \"4350\", 22, 25, \"25552\"], [-1, \"93\", \"mercedes-benz\", \"diesel\", \"turbo\", \"four\", \"wagon\", \"rwd\", \"front\", 110.0, 183, \"idi\", \"3.58\", \"3.64\", 21.5, \"123\", \"4350\", 22, 25, \"28248\"], [0, \"93\", \"mercedes-benz\", \"diesel\", \"turbo\", \"two\", \"hardtop\", \"rwd\", \"front\", 106.7, 183, \"idi\", \"3.58\", \"3.64\", 21.5, \"123\", \"4350\", 22, 25, \"28176\"], [-1, \"93\", \"mercedes-benz\", \"diesel\", \"turbo\", \"four\", \"sedan\", \"rwd\", \"front\", 115.6, 183, \"idi\", \"3.58\", \"3.64\", 21.5, \"123\", \"4350\", 22, 25, \"31600\"], [-1, \"?\", \"mercedes-benz\", \"gas\", \"std\", \"four\", \"sedan\", \"rwd\", \"front\", 115.6, 234, \"mpfi\", \"3.46\", \"3.10\", 8.3, \"155\", \"4750\", 16, 18, \"34184\"], [3, \"142\", \"mercedes-benz\", \"gas\", \"std\", \"two\", \"convertible\", \"rwd\", \"front\", 96.6, 234, \"mpfi\", \"3.46\", \"3.10\", 8.3, \"155\", \"4750\", 16, 18, \"35056\"], [0, \"?\", \"mercedes-benz\", \"gas\", \"std\", \"four\", \"sedan\", \"rwd\", \"front\", 120.9, 308, \"mpfi\", \"3.80\", \"3.35\", 8.0, \"184\", \"4500\", 14, 16, \"40960\"], [1, \"?\", \"mercedes-benz\", \"gas\", \"std\", \"two\", \"hardtop\", \"rwd\", \"front\", 112.0, 304, \"mpfi\", \"3.80\", \"3.35\", 8.0, \"184\", \"4500\", 14, 16, \"45400\"], [1, \"?\", \"mercury\", \"gas\", \"turbo\", \"two\", \"hatchback\", \"rwd\", \"front\", 102.7, 140, \"mpfi\", \"3.78\", \"3.12\", 8.0, \"175\", \"5000\", 19, 24, \"16503\"], [2, \"161\", \"mitsubishi\", \"gas\", \"std\", \"two\", \"hatchback\", \"fwd\", \"front\", 93.7, 92, \"2bbl\", \"2.97\", \"3.23\", 9.4, \"68\", \"5500\", 37, 41, \"5389\"], [2, \"161\", \"mitsubishi\", \"gas\", \"std\", \"two\", \"hatchback\", \"fwd\", \"front\", 93.7, 92, \"2bbl\", \"2.97\", \"3.23\", 9.4, \"68\", \"5500\", 31, 38, \"6189\"], [2, \"161\", \"mitsubishi\", \"gas\", \"std\", \"two\", \"hatchback\", \"fwd\", \"front\", 93.7, 92, \"2bbl\", \"2.97\", \"3.23\", 9.4, \"68\", \"5500\", 31, 38, \"6669\"], [1, \"161\", \"mitsubishi\", \"gas\", \"turbo\", \"two\", \"hatchback\", \"fwd\", \"front\", 93.0, 98, \"spdi\", \"3.03\", \"3.39\", 7.6, \"102\", \"5500\", 24, 30, \"7689\"], [3, \"153\", \"mitsubishi\", \"gas\", \"turbo\", \"two\", \"hatchback\", \"fwd\", \"front\", 96.3, 110, \"spdi\", \"3.17\", \"3.46\", 7.5, \"116\", \"5500\", 23, 30, \"9959\"], [3, \"153\", \"mitsubishi\", \"gas\", \"std\", \"two\", \"hatchback\", \"fwd\", \"front\", 96.3, 122, \"2bbl\", \"3.35\", \"3.46\", 8.5, \"88\", \"5000\", 25, 32, \"8499\"], [3, \"?\", \"mitsubishi\", \"gas\", \"turbo\", \"two\", \"hatchback\", \"fwd\", \"front\", 95.9, 156, \"spdi\", \"3.58\", \"3.86\", 7.0, \"145\", \"5000\", 19, 24, \"12629\"], [3, \"?\", \"mitsubishi\", \"gas\", \"turbo\", \"two\", \"hatchback\", \"fwd\", \"front\", 95.9, 156, \"spdi\", \"3.59\", \"3.86\", 7.0, \"145\", \"5000\", 19, 24, \"14869\"], [3, \"?\", \"mitsubishi\", \"gas\", \"turbo\", \"two\", \"hatchback\", \"fwd\", \"front\", 95.9, 156, \"spdi\", \"3.59\", \"3.86\", 7.0, \"145\", \"5000\", 19, 24, \"14489\"], [1, \"125\", \"mitsubishi\", \"gas\", \"std\", \"four\", \"sedan\", \"fwd\", \"front\", 96.3, 122, \"2bbl\", \"3.35\", \"3.46\", 8.5, \"88\", \"5000\", 25, 32, \"6989\"], [1, \"125\", \"mitsubishi\", \"gas\", \"std\", \"four\", \"sedan\", \"fwd\", \"front\", 96.3, 122, \"2bbl\", \"3.35\", \"3.46\", 8.5, \"88\", \"5000\", 25, 32, \"8189\"], [1, \"125\", \"mitsubishi\", \"gas\", \"turbo\", \"four\", \"sedan\", \"fwd\", \"front\", 96.3, 110, \"spdi\", \"3.17\", \"3.46\", 7.5, \"116\", \"5500\", 23, 30, \"9279\"], [-1, \"137\", \"mitsubishi\", \"gas\", \"std\", \"four\", \"sedan\", \"fwd\", \"front\", 96.3, 110, \"spdi\", \"3.17\", \"3.46\", 7.5, \"116\", \"5500\", 23, 30, \"9279\"], [1, \"128\", \"nissan\", \"gas\", \"std\", \"two\", \"sedan\", \"fwd\", \"front\", 94.5, 97, \"2bbl\", \"3.15\", \"3.29\", 9.4, \"69\", \"5200\", 31, 37, \"5499\"], [1, \"128\", \"nissan\", \"diesel\", \"std\", \"two\", \"sedan\", \"fwd\", \"front\", 94.5, 103, \"idi\", \"2.99\", \"3.47\", 21.9, \"55\", \"4800\", 45, 50, \"7099\"], [1, \"128\", \"nissan\", \"gas\", \"std\", \"two\", \"sedan\", \"fwd\", \"front\", 94.5, 97, \"2bbl\", \"3.15\", \"3.29\", 9.4, \"69\", \"5200\", 31, 37, \"6649\"], [1, \"122\", \"nissan\", \"gas\", \"std\", \"four\", \"sedan\", \"fwd\", \"front\", 94.5, 97, \"2bbl\", \"3.15\", \"3.29\", 9.4, \"69\", \"5200\", 31, 37, \"6849\"], [1, \"103\", \"nissan\", \"gas\", \"std\", \"four\", \"wagon\", \"fwd\", \"front\", 94.5, 97, \"2bbl\", \"3.15\", \"3.29\", 9.4, \"69\", \"5200\", 31, 37, \"7349\"], [1, \"128\", \"nissan\", \"gas\", \"std\", \"two\", \"sedan\", \"fwd\", \"front\", 94.5, 97, \"2bbl\", \"3.15\", \"3.29\", 9.4, \"69\", \"5200\", 31, 37, \"7299\"], [1, \"128\", \"nissan\", \"gas\", \"std\", \"two\", \"hatchback\", \"fwd\", \"front\", 94.5, 97, \"2bbl\", \"3.15\", \"3.29\", 9.4, \"69\", \"5200\", 31, 37, \"7799\"], [1, \"122\", \"nissan\", \"gas\", \"std\", \"four\", \"sedan\", \"fwd\", \"front\", 94.5, 97, \"2bbl\", \"3.15\", \"3.29\", 9.4, \"69\", \"5200\", 31, 37, \"7499\"], [1, \"103\", \"nissan\", \"gas\", \"std\", \"four\", \"wagon\", \"fwd\", \"front\", 94.5, 97, \"2bbl\", \"3.15\", \"3.29\", 9.4, \"69\", \"5200\", 31, 37, \"7999\"], [2, \"168\", \"nissan\", \"gas\", \"std\", \"two\", \"hardtop\", \"fwd\", \"front\", 95.1, 97, \"2bbl\", \"3.15\", \"3.29\", 9.4, \"69\", \"5200\", 31, 37, \"8249\"], [0, \"106\", \"nissan\", \"gas\", \"std\", \"four\", \"hatchback\", \"fwd\", \"front\", 97.2, 120, \"2bbl\", \"3.33\", \"3.47\", 8.5, \"97\", \"5200\", 27, 34, \"8949\"], [0, \"106\", \"nissan\", \"gas\", \"std\", \"four\", \"sedan\", \"fwd\", \"front\", 97.2, 120, \"2bbl\", \"3.33\", \"3.47\", 8.5, \"97\", \"5200\", 27, 34, \"9549\"], [0, \"128\", \"nissan\", \"gas\", \"std\", \"four\", \"sedan\", \"fwd\", \"front\", 100.4, 181, \"mpfi\", \"3.43\", \"3.27\", 9.0, \"152\", \"5200\", 17, 22, \"13499\"], [0, \"108\", \"nissan\", \"gas\", \"std\", \"four\", \"wagon\", \"fwd\", \"front\", 100.4, 181, \"mpfi\", \"3.43\", \"3.27\", 9.0, \"152\", \"5200\", 17, 22, \"14399\"], [0, \"108\", \"nissan\", \"gas\", \"std\", \"four\", \"sedan\", \"fwd\", \"front\", 100.4, 181, \"mpfi\", \"3.43\", \"3.27\", 9.0, \"152\", \"5200\", 19, 25, \"13499\"], [3, \"194\", \"nissan\", \"gas\", \"std\", \"two\", \"hatchback\", \"rwd\", \"front\", 91.3, 181, \"mpfi\", \"3.43\", \"3.27\", 9.0, \"160\", \"5200\", 19, 25, \"17199\"], [3, \"194\", \"nissan\", \"gas\", \"turbo\", \"two\", \"hatchback\", \"rwd\", \"front\", 91.3, 181, \"mpfi\", \"3.43\", \"3.27\", 7.8, \"200\", \"5200\", 17, 23, \"19699\"], [1, \"231\", \"nissan\", \"gas\", \"std\", \"two\", \"hatchback\", \"rwd\", \"front\", 99.2, 181, \"mpfi\", \"3.43\", \"3.27\", 9.0, \"160\", \"5200\", 19, 25, \"18399\"], [0, \"161\", \"peugot\", \"gas\", \"std\", \"four\", \"sedan\", \"rwd\", \"front\", 107.9, 120, \"mpfi\", \"3.46\", \"3.19\", 8.4, \"97\", \"5000\", 19, 24, \"11900\"], [0, \"161\", \"peugot\", \"diesel\", \"turbo\", \"four\", \"sedan\", \"rwd\", \"front\", 107.9, 152, \"idi\", \"3.70\", \"3.52\", 21.0, \"95\", \"4150\", 28, 33, \"13200\"], [0, \"?\", \"peugot\", \"gas\", \"std\", \"four\", \"wagon\", \"rwd\", \"front\", 114.2, 120, \"mpfi\", \"3.46\", \"3.19\", 8.4, \"97\", \"5000\", 19, 24, \"12440\"], [0, \"?\", \"peugot\", \"diesel\", \"turbo\", \"four\", \"wagon\", \"rwd\", \"front\", 114.2, 152, \"idi\", \"3.70\", \"3.52\", 21.0, \"95\", \"4150\", 25, 25, \"13860\"], [0, \"161\", \"peugot\", \"gas\", \"std\", \"four\", \"sedan\", \"rwd\", \"front\", 107.9, 120, \"mpfi\", \"3.46\", \"2.19\", 8.4, \"95\", \"5000\", 19, 24, \"15580\"], [0, \"161\", \"peugot\", \"diesel\", \"turbo\", \"four\", \"sedan\", \"rwd\", \"front\", 107.9, 152, \"idi\", \"3.70\", \"3.52\", 21.0, \"95\", \"4150\", 28, 33, \"16900\"], [0, \"?\", \"peugot\", \"gas\", \"std\", \"four\", \"wagon\", \"rwd\", \"front\", 114.2, 120, \"mpfi\", \"3.46\", \"2.19\", 8.4, \"95\", \"5000\", 19, 24, \"16695\"], [0, \"?\", \"peugot\", \"diesel\", \"turbo\", \"four\", \"wagon\", \"rwd\", \"front\", 114.2, 152, \"idi\", \"3.70\", \"3.52\", 21.0, \"95\", \"4150\", 25, 25, \"17075\"], [0, \"161\", \"peugot\", \"gas\", \"std\", \"four\", \"sedan\", \"rwd\", \"front\", 107.9, 120, \"mpfi\", \"3.46\", \"3.19\", 8.4, \"97\", \"5000\", 19, 24, \"16630\"], [0, \"161\", \"peugot\", \"diesel\", \"turbo\", \"four\", \"sedan\", \"rwd\", \"front\", 107.9, 152, \"idi\", \"3.70\", \"3.52\", 21.0, \"95\", \"4150\", 28, 33, \"17950\"], [0, \"161\", \"peugot\", \"gas\", \"turbo\", \"four\", \"sedan\", \"rwd\", \"front\", 108.0, 134, \"mpfi\", \"3.61\", \"3.21\", 7.0, \"142\", \"5600\", 18, 24, \"18150\"], [1, \"119\", \"plymouth\", \"gas\", \"std\", \"two\", \"hatchback\", \"fwd\", \"front\", 93.7, 90, \"2bbl\", \"2.97\", \"3.23\", 9.4, \"68\", \"5500\", 37, 41, \"5572\"], [1, \"119\", \"plymouth\", \"gas\", \"turbo\", \"two\", \"hatchback\", \"fwd\", \"front\", 93.7, 98, \"spdi\", \"3.03\", \"3.39\", 7.6, \"102\", \"5500\", 24, 30, \"7957\"], [1, \"154\", \"plymouth\", \"gas\", \"std\", \"four\", \"hatchback\", \"fwd\", \"front\", 93.7, 90, \"2bbl\", \"2.97\", \"3.23\", 9.4, \"68\", \"5500\", 31, 38, \"6229\"], [1, \"154\", \"plymouth\", \"gas\", \"std\", \"four\", \"sedan\", \"fwd\", \"front\", 93.7, 90, \"2bbl\", \"2.97\", \"3.23\", 9.4, \"68\", \"5500\", 31, 38, \"6692\"], [1, \"154\", \"plymouth\", \"gas\", \"std\", \"four\", \"sedan\", \"fwd\", \"front\", 93.7, 98, \"2bbl\", \"2.97\", \"3.23\", 9.4, \"68\", \"5500\", 31, 38, \"7609\"], [-1, \"74\", \"plymouth\", \"gas\", \"std\", \"four\", \"wagon\", \"fwd\", \"front\", 103.3, 122, \"2bbl\", \"3.35\", \"3.46\", 8.5, \"88\", \"5000\", 24, 30, \"8921\"], [3, \"?\", \"plymouth\", \"gas\", \"turbo\", \"two\", \"hatchback\", \"rwd\", \"front\", 95.9, 156, \"spdi\", \"3.59\", \"3.86\", 7.0, \"145\", \"5000\", 19, 24, \"12764\"], [3, \"186\", \"porsche\", \"gas\", \"std\", \"two\", \"hatchback\", \"rwd\", \"front\", 94.5, 151, \"mpfi\", \"3.94\", \"3.11\", 9.5, \"143\", \"5500\", 19, 27, \"22018\"], [3, \"?\", \"porsche\", \"gas\", \"std\", \"two\", \"hardtop\", \"rwd\", \"rear\", 89.5, 194, \"mpfi\", \"3.74\", \"2.90\", 9.5, \"207\", \"5900\", 17, 25, \"32528\"], [3, \"?\", \"porsche\", \"gas\", \"std\", \"two\", \"hardtop\", \"rwd\", \"rear\", 89.5, 194, \"mpfi\", \"3.74\", \"2.90\", 9.5, \"207\", \"5900\", 17, 25, \"34028\"], [3, \"?\", \"porsche\", \"gas\", \"std\", \"two\", \"convertible\", \"rwd\", \"rear\", 89.5, 194, \"mpfi\", \"3.74\", \"2.90\", 9.5, \"207\", \"5900\", 17, 25, \"37028\"], [1, \"?\", \"porsche\", \"gas\", \"std\", \"two\", \"hatchback\", \"rwd\", \"front\", 98.4, 203, \"mpfi\", \"3.94\", \"3.11\", 10.0, \"288\", \"5750\", 17, 28, \"?\"], [0, \"?\", \"renault\", \"gas\", \"std\", \"four\", \"wagon\", \"fwd\", \"front\", 96.1, 132, \"mpfi\", \"3.46\", \"3.90\", 8.7, \"?\", \"?\", 23, 31, \"9295\"], [2, \"?\", \"renault\", \"gas\", \"std\", \"two\", \"hatchback\", \"fwd\", \"front\", 96.1, 132, \"mpfi\", \"3.46\", \"3.90\", 8.7, \"?\", \"?\", 23, 31, \"9895\"], [3, \"150\", \"saab\", \"gas\", \"std\", \"two\", \"hatchback\", \"fwd\", \"front\", 99.1, 121, \"mpfi\", \"3.54\", \"3.07\", 9.31, \"110\", \"5250\", 21, 28, \"11850\"], [2, \"104\", \"saab\", \"gas\", \"std\", \"four\", \"sedan\", \"fwd\", \"front\", 99.1, 121, \"mpfi\", \"3.54\", \"3.07\", 9.3, \"110\", \"5250\", 21, 28, \"12170\"], [3, \"150\", \"saab\", \"gas\", \"std\", \"two\", \"hatchback\", \"fwd\", \"front\", 99.1, 121, \"mpfi\", \"2.54\", \"2.07\", 9.3, \"110\", \"5250\", 21, 28, \"15040\"], [2, \"104\", \"saab\", \"gas\", \"std\", \"four\", \"sedan\", \"fwd\", \"front\", 99.1, 121, \"mpfi\", \"3.54\", \"3.07\", 9.3, \"110\", \"5250\", 21, 28, \"15510\"], [3, \"150\", \"saab\", \"gas\", \"turbo\", \"two\", \"hatchback\", \"fwd\", \"front\", 99.1, 121, \"mpfi\", \"3.54\", \"3.07\", 9.0, \"160\", \"5500\", 19, 26, \"18150\"], [2, \"104\", \"saab\", \"gas\", \"turbo\", \"four\", \"sedan\", \"fwd\", \"front\", 99.1, 121, \"mpfi\", \"3.54\", \"3.07\", 9.0, \"160\", \"5500\", 19, 26, \"18620\"], [2, \"83\", \"subaru\", \"gas\", \"std\", \"two\", \"hatchback\", \"fwd\", \"front\", 93.7, 97, \"2bbl\", \"3.62\", \"2.36\", 9.0, \"69\", \"4900\", 31, 36, \"5118\"], [2, \"83\", \"subaru\", \"gas\", \"std\", \"two\", \"hatchback\", \"fwd\", \"front\", 93.7, 108, \"2bbl\", \"3.62\", \"2.64\", 8.7, \"73\", \"4400\", 26, 31, \"7053\"], [2, \"83\", \"subaru\", \"gas\", \"std\", \"two\", \"hatchback\", \"4wd\", \"front\", 93.3, 108, \"2bbl\", \"3.62\", \"2.64\", 8.7, \"73\", \"4400\", 26, 31, \"7603\"], [0, \"102\", \"subaru\", \"gas\", \"std\", \"four\", \"sedan\", \"fwd\", \"front\", 97.2, 108, \"2bbl\", \"3.62\", \"2.64\", 9.5, \"82\", \"4800\", 32, 37, \"7126\"], [0, \"102\", \"subaru\", \"gas\", \"std\", \"four\", \"sedan\", \"fwd\", \"front\", 97.2, 108, \"2bbl\", \"3.62\", \"2.64\", 9.5, \"82\", \"4400\", 28, 33, \"7775\"], [0, \"102\", \"subaru\", \"gas\", \"std\", \"four\", \"sedan\", \"fwd\", \"front\", 97.2, 108, \"mpfi\", \"3.62\", \"2.64\", 9.0, \"94\", \"5200\", 26, 32, \"9960\"], [0, \"102\", \"subaru\", \"gas\", \"std\", \"four\", \"sedan\", \"4wd\", \"front\", 97.0, 108, \"2bbl\", \"3.62\", \"2.64\", 9.0, \"82\", \"4800\", 24, 25, \"9233\"], [0, \"102\", \"subaru\", \"gas\", \"turbo\", \"four\", \"sedan\", \"4wd\", \"front\", 97.0, 108, \"mpfi\", \"3.62\", \"2.64\", 7.7, \"111\", \"4800\", 24, 29, \"11259\"], [0, \"89\", \"subaru\", \"gas\", \"std\", \"four\", \"wagon\", \"fwd\", \"front\", 97.0, 108, \"2bbl\", \"3.62\", \"2.64\", 9.0, \"82\", \"4800\", 28, 32, \"7463\"], [0, \"89\", \"subaru\", \"gas\", \"std\", \"four\", \"wagon\", \"fwd\", \"front\", 97.0, 108, \"mpfi\", \"3.62\", \"2.64\", 9.0, \"94\", \"5200\", 25, 31, \"10198\"], [0, \"85\", \"subaru\", \"gas\", \"std\", \"four\", \"wagon\", \"4wd\", \"front\", 96.9, 108, \"2bbl\", \"3.62\", \"2.64\", 9.0, \"82\", \"4800\", 23, 29, \"8013\"], [0, \"85\", \"subaru\", \"gas\", \"turbo\", \"four\", \"wagon\", \"4wd\", \"front\", 96.9, 108, \"mpfi\", \"3.62\", \"2.64\", 7.7, \"111\", \"4800\", 23, 23, \"11694\"], [1, \"87\", \"toyota\", \"gas\", \"std\", \"two\", \"hatchback\", \"fwd\", \"front\", 95.7, 92, \"2bbl\", \"3.05\", \"3.03\", 9.0, \"62\", \"4800\", 35, 39, \"5348\"], [1, \"87\", \"toyota\", \"gas\", \"std\", \"two\", \"hatchback\", \"fwd\", \"front\", 95.7, 92, \"2bbl\", \"3.05\", \"3.03\", 9.0, \"62\", \"4800\", 31, 38, \"6338\"], [1, \"74\", \"toyota\", \"gas\", \"std\", \"four\", \"hatchback\", \"fwd\", \"front\", 95.7, 92, \"2bbl\", \"3.05\", \"3.03\", 9.0, \"62\", \"4800\", 31, 38, \"6488\"], [0, \"77\", \"toyota\", \"gas\", \"std\", \"four\", \"wagon\", \"fwd\", \"front\", 95.7, 92, \"2bbl\", \"3.05\", \"3.03\", 9.0, \"62\", \"4800\", 31, 37, \"6918\"], [0, \"81\", \"toyota\", \"gas\", \"std\", \"four\", \"wagon\", \"4wd\", \"front\", 95.7, 92, \"2bbl\", \"3.05\", \"3.03\", 9.0, \"62\", \"4800\", 27, 32, \"7898\"], [0, \"91\", \"toyota\", \"gas\", \"std\", \"four\", \"wagon\", \"4wd\", \"front\", 95.7, 92, \"2bbl\", \"3.05\", \"3.03\", 9.0, \"62\", \"4800\", 27, 32, \"8778\"], [0, \"91\", \"toyota\", \"gas\", \"std\", \"four\", \"sedan\", \"fwd\", \"front\", 95.7, 98, \"2bbl\", \"3.19\", \"3.03\", 9.0, \"70\", \"4800\", 30, 37, \"6938\"], [0, \"91\", \"toyota\", \"gas\", \"std\", \"four\", \"hatchback\", \"fwd\", \"front\", 95.7, 98, \"2bbl\", \"3.19\", \"3.03\", 9.0, \"70\", \"4800\", 30, 37, \"7198\"], [0, \"91\", \"toyota\", \"diesel\", \"std\", \"four\", \"sedan\", \"fwd\", \"front\", 95.7, 110, \"idi\", \"3.27\", \"3.35\", 22.5, \"56\", \"4500\", 34, 36, \"7898\"], [0, \"91\", \"toyota\", \"diesel\", \"std\", \"four\", \"hatchback\", \"fwd\", \"front\", 95.7, 110, \"idi\", \"3.27\", \"3.35\", 22.5, \"56\", \"4500\", 38, 47, \"7788\"], [0, \"91\", \"toyota\", \"gas\", \"std\", \"four\", \"sedan\", \"fwd\", \"front\", 95.7, 98, \"2bbl\", \"3.19\", \"3.03\", 9.0, \"70\", \"4800\", 38, 47, \"7738\"], [0, \"91\", \"toyota\", \"gas\", \"std\", \"four\", \"hatchback\", \"fwd\", \"front\", 95.7, 98, \"2bbl\", \"3.19\", \"3.03\", 9.0, \"70\", \"4800\", 28, 34, \"8358\"], [0, \"91\", \"toyota\", \"gas\", \"std\", \"four\", \"sedan\", \"fwd\", \"front\", 95.7, 98, \"2bbl\", \"3.19\", \"3.03\", 9.0, \"70\", \"4800\", 28, 34, \"9258\"], [1, \"168\", \"toyota\", \"gas\", \"std\", \"two\", \"sedan\", \"rwd\", \"front\", 94.5, 98, \"2bbl\", \"3.19\", \"3.03\", 9.0, \"70\", \"4800\", 29, 34, \"8058\"], [1, \"168\", \"toyota\", \"gas\", \"std\", \"two\", \"hatchback\", \"rwd\", \"front\", 94.5, 98, \"2bbl\", \"3.19\", \"3.03\", 9.0, \"70\", \"4800\", 29, 34, \"8238\"], [1, \"168\", \"toyota\", \"gas\", \"std\", \"two\", \"sedan\", \"rwd\", \"front\", 94.5, 98, \"mpfi\", \"3.24\", \"3.08\", 9.4, \"112\", \"6600\", 26, 29, \"9298\"], [1, \"168\", \"toyota\", \"gas\", \"std\", \"two\", \"hatchback\", \"rwd\", \"front\", 94.5, 98, \"mpfi\", \"3.24\", \"3.08\", 9.4, \"112\", \"6600\", 26, 29, \"9538\"], [2, \"134\", \"toyota\", \"gas\", \"std\", \"two\", \"hardtop\", \"rwd\", \"front\", 98.4, 146, \"mpfi\", \"3.62\", \"3.50\", 9.3, \"116\", \"4800\", 24, 30, \"8449\"], [2, \"134\", \"toyota\", \"gas\", \"std\", \"two\", \"hardtop\", \"rwd\", \"front\", 98.4, 146, \"mpfi\", \"3.62\", \"3.50\", 9.3, \"116\", \"4800\", 24, 30, \"9639\"], [2, \"134\", \"toyota\", \"gas\", \"std\", \"two\", \"hatchback\", \"rwd\", \"front\", 98.4, 146, \"mpfi\", \"3.62\", \"3.50\", 9.3, \"116\", \"4800\", 24, 30, \"9989\"], [2, \"134\", \"toyota\", \"gas\", \"std\", \"two\", \"hardtop\", \"rwd\", \"front\", 98.4, 146, \"mpfi\", \"3.62\", \"3.50\", 9.3, \"116\", \"4800\", 24, 30, \"11199\"], [2, \"134\", \"toyota\", \"gas\", \"std\", \"two\", \"hatchback\", \"rwd\", \"front\", 98.4, 146, \"mpfi\", \"3.62\", \"3.50\", 9.3, \"116\", \"4800\", 24, 30, \"11549\"], [2, \"134\", \"toyota\", \"gas\", \"std\", \"two\", \"convertible\", \"rwd\", \"front\", 98.4, 146, \"mpfi\", \"3.62\", \"3.50\", 9.3, \"116\", \"4800\", 24, 30, \"17669\"], [-1, \"65\", \"toyota\", \"gas\", \"std\", \"four\", \"sedan\", \"fwd\", \"front\", 102.4, 122, \"mpfi\", \"3.31\", \"3.54\", 8.7, \"92\", \"4200\", 29, 34, \"8948\"], [-1, \"65\", \"toyota\", \"diesel\", \"turbo\", \"four\", \"sedan\", \"fwd\", \"front\", 102.4, 110, \"idi\", \"3.27\", \"3.35\", 22.5, \"73\", \"4500\", 30, 33, \"10698\"], [-1, \"65\", \"toyota\", \"gas\", \"std\", \"four\", \"hatchback\", \"fwd\", \"front\", 102.4, 122, \"mpfi\", \"3.31\", \"3.54\", 8.7, \"92\", \"4200\", 27, 32, \"9988\"], [-1, \"65\", \"toyota\", \"gas\", \"std\", \"four\", \"sedan\", \"fwd\", \"front\", 102.4, 122, \"mpfi\", \"3.31\", \"3.54\", 8.7, \"92\", \"4200\", 27, 32, \"10898\"], [-1, \"65\", \"toyota\", \"gas\", \"std\", \"four\", \"hatchback\", \"fwd\", \"front\", 102.4, 122, \"mpfi\", \"3.31\", \"3.54\", 8.7, \"92\", \"4200\", 27, 32, \"11248\"], [3, \"197\", \"toyota\", \"gas\", \"std\", \"two\", \"hatchback\", \"rwd\", \"front\", 102.9, 171, \"mpfi\", \"3.27\", \"3.35\", 9.3, \"161\", \"5200\", 20, 24, \"16558\"], [3, \"197\", \"toyota\", \"gas\", \"std\", \"two\", \"hatchback\", \"rwd\", \"front\", 102.9, 171, \"mpfi\", \"3.27\", \"3.35\", 9.3, \"161\", \"5200\", 19, 24, \"15998\"], [-1, \"90\", \"toyota\", \"gas\", \"std\", \"four\", \"sedan\", \"rwd\", \"front\", 104.5, 171, \"mpfi\", \"3.27\", \"3.35\", 9.2, \"156\", \"5200\", 20, 24, \"15690\"], [-1, \"?\", \"toyota\", \"gas\", \"std\", \"four\", \"wagon\", \"rwd\", \"front\", 104.5, 161, \"mpfi\", \"3.27\", \"3.35\", 9.2, \"156\", \"5200\", 19, 24, \"15750\"], [2, \"122\", \"volkswagen\", \"diesel\", \"std\", \"two\", \"sedan\", \"fwd\", \"front\", 97.3, 97, \"idi\", \"3.01\", \"3.40\", 23.0, \"52\", \"4800\", 37, 46, \"7775\"], [2, \"122\", \"volkswagen\", \"gas\", \"std\", \"two\", \"sedan\", \"fwd\", \"front\", 97.3, 109, \"mpfi\", \"3.19\", \"3.40\", 9.0, \"85\", \"5250\", 27, 34, \"7975\"], [2, \"94\", \"volkswagen\", \"diesel\", \"std\", \"four\", \"sedan\", \"fwd\", \"front\", 97.3, 97, \"idi\", \"3.01\", \"3.40\", 23.0, \"52\", \"4800\", 37, 46, \"7995\"], [2, \"94\", \"volkswagen\", \"gas\", \"std\", \"four\", \"sedan\", \"fwd\", \"front\", 97.3, 109, \"mpfi\", \"3.19\", \"3.40\", 9.0, \"85\", \"5250\", 27, 34, \"8195\"], [2, \"94\", \"volkswagen\", \"gas\", \"std\", \"four\", \"sedan\", \"fwd\", \"front\", 97.3, 109, \"mpfi\", \"3.19\", \"3.40\", 9.0, \"85\", \"5250\", 27, 34, \"8495\"], [2, \"94\", \"volkswagen\", \"diesel\", \"turbo\", \"four\", \"sedan\", \"fwd\", \"front\", 97.3, 97, \"idi\", \"3.01\", \"3.40\", 23.0, \"68\", \"4500\", 37, 42, \"9495\"], [2, \"94\", \"volkswagen\", \"gas\", \"std\", \"four\", \"sedan\", \"fwd\", \"front\", 97.3, 109, \"mpfi\", \"3.19\", \"3.40\", 10.0, \"100\", \"5500\", 26, 32, \"9995\"], [3, \"?\", \"volkswagen\", \"gas\", \"std\", \"two\", \"convertible\", \"fwd\", \"front\", 94.5, 109, \"mpfi\", \"3.19\", \"3.40\", 8.5, \"90\", \"5500\", 24, 29, \"11595\"], [3, \"256\", \"volkswagen\", \"gas\", \"std\", \"two\", \"hatchback\", \"fwd\", \"front\", 94.5, 109, \"mpfi\", \"3.19\", \"3.40\", 8.5, \"90\", \"5500\", 24, 29, \"9980\"], [0, \"?\", \"volkswagen\", \"gas\", \"std\", \"four\", \"sedan\", \"fwd\", \"front\", 100.4, 136, \"mpfi\", \"3.19\", \"3.40\", 8.5, \"110\", \"5500\", 19, 24, \"13295\"], [0, \"?\", \"volkswagen\", \"diesel\", \"turbo\", \"four\", \"sedan\", \"fwd\", \"front\", 100.4, 97, \"idi\", \"3.01\", \"3.40\", 23.0, \"68\", \"4500\", 33, 38, \"13845\"], [0, \"?\", \"volkswagen\", \"gas\", \"std\", \"four\", \"wagon\", \"fwd\", \"front\", 100.4, 109, \"mpfi\", \"3.19\", \"3.40\", 9.0, \"88\", \"5500\", 25, 31, \"12290\"], [-2, \"103\", \"volvo\", \"gas\", \"std\", \"four\", \"sedan\", \"rwd\", \"front\", 104.3, 141, \"mpfi\", \"3.78\", \"3.15\", 9.5, \"114\", \"5400\", 23, 28, \"12940\"], [-1, \"74\", \"volvo\", \"gas\", \"std\", \"four\", \"wagon\", \"rwd\", \"front\", 104.3, 141, \"mpfi\", \"3.78\", \"3.15\", 9.5, \"114\", \"5400\", 23, 28, \"13415\"], [-2, \"103\", \"volvo\", \"gas\", \"std\", \"four\", \"sedan\", \"rwd\", \"front\", 104.3, 141, \"mpfi\", \"3.78\", \"3.15\", 9.5, \"114\", \"5400\", 24, 28, \"15985\"], [-1, \"74\", \"volvo\", \"gas\", \"std\", \"four\", \"wagon\", \"rwd\", \"front\", 104.3, 141, \"mpfi\", \"3.78\", \"3.15\", 9.5, \"114\", \"5400\", 24, 28, \"16515\"], [-2, \"103\", \"volvo\", \"gas\", \"turbo\", \"four\", \"sedan\", \"rwd\", \"front\", 104.3, 130, \"mpfi\", \"3.62\", \"3.15\", 7.5, \"162\", \"5100\", 17, 22, \"18420\"], [-1, \"74\", \"volvo\", \"gas\", \"turbo\", \"four\", \"wagon\", \"rwd\", \"front\", 104.3, 130, \"mpfi\", \"3.62\", \"3.15\", 7.5, \"162\", \"5100\", 17, 22, \"18950\"], [-1, \"95\", \"volvo\", \"gas\", \"std\", \"four\", \"sedan\", \"rwd\", \"front\", 109.1, 141, \"mpfi\", \"3.78\", \"3.15\", 9.5, \"114\", \"5400\", 23, 28, \"16845\"], [-1, \"95\", \"volvo\", \"gas\", \"turbo\", \"four\", \"sedan\", \"rwd\", \"front\", 109.1, 141, \"mpfi\", \"3.78\", \"3.15\", 8.7, \"160\", \"5300\", 19, 25, \"19045\"], [-1, \"95\", \"volvo\", \"gas\", \"std\", \"four\", \"sedan\", \"rwd\", \"front\", 109.1, 173, \"mpfi\", \"3.58\", \"2.87\", 8.8, \"134\", \"5500\", 18, 23, \"21485\"], [-1, \"95\", \"volvo\", \"diesel\", \"turbo\", \"four\", \"sedan\", \"rwd\", \"front\", 109.1, 145, \"idi\", \"3.01\", \"3.40\", 23.0, \"106\", \"4800\", 26, 27, \"22470\"], [-1, \"95\", \"volvo\", \"gas\", \"turbo\", \"four\", \"sedan\", \"rwd\", \"front\", 109.1, 141, \"mpfi\", \"3.78\", \"3.15\", 9.5, \"114\", \"5400\", 19, 25, \"22625\"]]};\n",
       "        dt_args = eval_functions(dt_args);\n",
       "        table = $('#422da683-4c2e-4bf5-8d81-23c785b40be1').DataTable(dt_args);\n",
       "    });\n",
       "})\n",
       "</script>\n",
       "</div>\n"
      ],
      "text/plain": [
       "<IPython.core.display.HTML object>"
      ]
     },
     "metadata": {},
     "output_type": "display_data"
    }
   ],
   "source": [
    "import itables.options as opt\n",
    "#opt.maxBytes = 1000000000\n",
    "opt.lengthMenu = [5, 10, 20, 50, 100, 200, 500]\n",
    "print(df.values.nbytes)\n",
    "show(df , maxBytes =0)"
   ]
  },
  {
   "cell_type": "code",
   "execution_count": 7,
   "metadata": {},
   "outputs": [
    {
     "data": {
      "text/plain": [
       "volvo    11\n",
       "Name: make, dtype: int64"
      ]
     },
     "execution_count": 7,
     "metadata": {},
     "output_type": "execute_result"
    }
   ],
   "source": [
    "df[df['make'] == 'volvo']['make'].value_counts()"
   ]
  },
  {
   "cell_type": "code",
   "execution_count": 11,
   "metadata": {},
   "outputs": [
    {
     "data": {
      "text/plain": [
       "<AxesSubplot:ylabel='Frequency'>"
      ]
     },
     "execution_count": 11,
     "metadata": {},
     "output_type": "execute_result"
    },
    {
     "data": {
      "image/png": "[encoded data removed]",
      "text/plain": [
       "<Figure size 432x288 with 1 Axes>"
      ]
     },
     "metadata": {
      "needs_background": "light"
     },
     "output_type": "display_data"
    }
   ],
   "source": [
    "df2 = df.select_dtypes(exclude = 'object')\n",
    "df2['city-mpg'].plot(kind = 'hist')"
   ]
  },
  {
   "cell_type": "code",
   "execution_count": 14,
   "metadata": {},
   "outputs": [
    {
     "data": {
      "text/plain": [
       "<AxesSubplot:ylabel='Frequency'>"
      ]
     },
     "execution_count": 14,
     "metadata": {},
     "output_type": "execute_result"
    },
    {
     "data": {
      "image/png": "[encoded data removed]",
      "text/plain": [
       "<Figure size 432x288 with 1 Axes>"
      ]
     },
     "metadata": {
      "needs_background": "light"
     },
     "output_type": "display_data"
    }
   ],
   "source": [
    "df[df['make'] == 'volvo']['city-mpg'].plot(kind = 'hist')"
   ]
  },
  {
   "cell_type": "code",
   "execution_count": 33,
   "metadata": {},
   "outputs": [
    {
     "name": "stderr",
     "output_type": "stream",
     "text": [
      "WARNING:itables.downsample:showing 205x20 of 205x26 as maxColumns=20. See https://mwouts.github.io/itables/#downsampling\n"
     ]
    },
    {
     "data": {
      "text/html": [
       "<div><table id=\"5a9bde2c-6066-49fd-bbd5-124c99a38c1b\" class=\"display\"><thead>\n",
       "    <tr style=\"text-align: right;\">\n",
       "      \n",
       "      <th>symboling</th>\n",
       "      <th>normalized-losses</th>\n",
       "      <th>make</th>\n",
       "      <th>fuel-type</th>\n",
       "      <th>aspiration</th>\n",
       "      <th>num-of-doors</th>\n",
       "      <th>body-style</th>\n",
       "      <th>drive-wheels</th>\n",
       "      <th>engine-location</th>\n",
       "      <th>wheel-base</th>\n",
       "      <th>engine-size</th>\n",
       "      <th>fuel-system</th>\n",
       "      <th>bore</th>\n",
       "      <th>stroke</th>\n",
       "      <th>compression-ratio</th>\n",
       "      <th>horsepower</th>\n",
       "      <th>peak-rpm</th>\n",
       "      <th>city-mpg</th>\n",
       "      <th>highway-mpg</th>\n",
       "      <th>price</th>\n",
       "    </tr>\n",
       "  </thead></table>\n",
       "<script type=\"text/javascript\">\n",
       "require([\"datatables\"], function (datatables) {\n",
       "    $(document).ready(function () {\n",
       "        var dt_args = {\"scrollY\": \"200px\", \"scrollCollapse\": true, \"paging\": false, \"columnDefs\": [{\"width\": \"70px\", \"targets\": \"_all\"}], \"lengthMenu\": [5, 10, 20, 50, 100, 200, 500], \"data\": [[3, \"?\", \"alfa-romero\", \"gas\", \"std\", \"two\", \"convertible\", \"rwd\", \"front\", 88.6, 130, \"mpfi\", \"3.47\", \"2.68\", 9.0, \"111\", \"5000\", 21, 27, \"13495\"], [3, \"?\", \"alfa-romero\", \"gas\", \"std\", \"two\", \"convertible\", \"rwd\", \"front\", 88.6, 130, \"mpfi\", \"3.47\", \"2.68\", 9.0, \"111\", \"5000\", 21, 27, \"16500\"], [1, \"?\", \"alfa-romero\", \"gas\", \"std\", \"two\", \"hatchback\", \"rwd\", \"front\", 94.5, 152, \"mpfi\", \"2.68\", \"3.47\", 9.0, \"154\", \"5000\", 19, 26, \"16500\"], [2, \"164\", \"audi\", \"gas\", \"std\", \"four\", \"sedan\", \"fwd\", \"front\", 99.8, 109, \"mpfi\", \"3.19\", \"3.40\", 10.0, \"102\", \"5500\", 24, 30, \"13950\"], [2, \"164\", \"audi\", \"gas\", \"std\", \"four\", \"sedan\", \"4wd\", \"front\", 99.4, 136, \"mpfi\", \"3.19\", \"3.40\", 8.0, \"115\", \"5500\", 18, 22, \"17450\"], [2, \"?\", \"audi\", \"gas\", \"std\", \"two\", \"sedan\", \"fwd\", \"front\", 99.8, 136, \"mpfi\", \"3.19\", \"3.40\", 8.5, \"110\", \"5500\", 19, 25, \"15250\"], [1, \"158\", \"audi\", \"gas\", \"std\", \"four\", \"sedan\", \"fwd\", \"front\", 105.8, 136, \"mpfi\", \"3.19\", \"3.40\", 8.5, \"110\", \"5500\", 19, 25, \"17710\"], [1, \"?\", \"audi\", \"gas\", \"std\", \"four\", \"wagon\", \"fwd\", \"front\", 105.8, 136, \"mpfi\", \"3.19\", \"3.40\", 8.5, \"110\", \"5500\", 19, 25, \"18920\"], [1, \"158\", \"audi\", \"gas\", \"turbo\", \"four\", \"sedan\", \"fwd\", \"front\", 105.8, 131, \"mpfi\", \"3.13\", \"3.40\", 8.3, \"140\", \"5500\", 17, 20, \"23875\"], [0, \"?\", \"audi\", \"gas\", \"turbo\", \"two\", \"hatchback\", \"4wd\", \"front\", 99.5, 131, \"mpfi\", \"3.13\", \"3.40\", 7.0, \"160\", \"5500\", 16, 22, \"?\"], [2, \"192\", \"bmw\", \"gas\", \"std\", \"two\", \"sedan\", \"rwd\", \"front\", 101.2, 108, \"mpfi\", \"3.50\", \"2.80\", 8.8, \"101\", \"5800\", 23, 29, \"16430\"], [0, \"192\", \"bmw\", \"gas\", \"std\", \"four\", \"sedan\", \"rwd\", \"front\", 101.2, 108, \"mpfi\", \"3.50\", \"2.80\", 8.8, \"101\", \"5800\", 23, 29, \"16925\"], [0, \"188\", \"bmw\", \"gas\", \"std\", \"two\", \"sedan\", \"rwd\", \"front\", 101.2, 164, \"mpfi\", \"3.31\", \"3.19\", 9.0, \"121\", \"4250\", 21, 28, \"20970\"], [0, \"188\", \"bmw\", \"gas\", \"std\", \"four\", \"sedan\", \"rwd\", \"front\", 101.2, 164, \"mpfi\", \"3.31\", \"3.19\", 9.0, \"121\", \"4250\", 21, 28, \"21105\"], [1, \"?\", \"bmw\", \"gas\", \"std\", \"four\", \"sedan\", \"rwd\", \"front\", 103.5, 164, \"mpfi\", \"3.31\", \"3.19\", 9.0, \"121\", \"4250\", 20, 25, \"24565\"], [0, \"?\", \"bmw\", \"gas\", \"std\", \"four\", \"sedan\", \"rwd\", \"front\", 103.5, 209, \"mpfi\", \"3.62\", \"3.39\", 8.0, \"182\", \"5400\", 16, 22, \"30760\"], [0, \"?\", \"bmw\", \"gas\", \"std\", \"two\", \"sedan\", \"rwd\", \"front\", 103.5, 209, \"mpfi\", \"3.62\", \"3.39\", 8.0, \"182\", \"5400\", 16, 22, \"41315\"], [0, \"?\", \"bmw\", \"gas\", \"std\", \"four\", \"sedan\", \"rwd\", \"front\", 110.0, 209, \"mpfi\", \"3.62\", \"3.39\", 8.0, \"182\", \"5400\", 15, 20, \"36880\"], [2, \"121\", \"chevrolet\", \"gas\", \"std\", \"two\", \"hatchback\", \"fwd\", \"front\", 88.4, 61, \"2bbl\", \"2.91\", \"3.03\", 9.5, \"48\", \"5100\", 47, 53, \"5151\"], [1, \"98\", \"chevrolet\", \"gas\", \"std\", \"two\", \"hatchback\", \"fwd\", \"front\", 94.5, 90, \"2bbl\", \"3.03\", \"3.11\", 9.6, \"70\", \"5400\", 38, 43, \"6295\"], [0, \"81\", \"chevrolet\", \"gas\", \"std\", \"four\", \"sedan\", \"fwd\", \"front\", 94.5, 90, \"2bbl\", \"3.03\", \"3.11\", 9.6, \"70\", \"5400\", 38, 43, \"6575\"], [1, \"118\", \"dodge\", \"gas\", \"std\", \"two\", \"hatchback\", \"fwd\", \"front\", 93.7, 90, \"2bbl\", \"2.97\", \"3.23\", 9.41, \"68\", \"5500\", 37, 41, \"5572\"], [1, \"118\", \"dodge\", \"gas\", \"std\", \"two\", \"hatchback\", \"fwd\", \"front\", 93.7, 90, \"2bbl\", \"2.97\", \"3.23\", 9.4, \"68\", \"5500\", 31, 38, \"6377\"], [1, \"118\", \"dodge\", \"gas\", \"turbo\", \"two\", \"hatchback\", \"fwd\", \"front\", 93.7, 98, \"mpfi\", \"3.03\", \"3.39\", 7.6, \"102\", \"5500\", 24, 30, \"7957\"], [1, \"148\", \"dodge\", \"gas\", \"std\", \"four\", \"hatchback\", \"fwd\", \"front\", 93.7, 90, \"2bbl\", \"2.97\", \"3.23\", 9.4, \"68\", \"5500\", 31, 38, \"6229\"], [1, \"148\", \"dodge\", \"gas\", \"std\", \"four\", \"sedan\", \"fwd\", \"front\", 93.7, 90, \"2bbl\", \"2.97\", \"3.23\", 9.4, \"68\", \"5500\", 31, 38, \"6692\"], [1, \"148\", \"dodge\", \"gas\", \"std\", \"four\", \"sedan\", \"fwd\", \"front\", 93.7, 90, \"2bbl\", \"2.97\", \"3.23\", 9.4, \"68\", \"5500\", 31, 38, \"7609\"], [1, \"148\", \"dodge\", \"gas\", \"turbo\", \"?\", \"sedan\", \"fwd\", \"front\", 93.7, 98, \"mpfi\", \"3.03\", \"3.39\", 7.6, \"102\", \"5500\", 24, 30, \"8558\"], [-1, \"110\", \"dodge\", \"gas\", \"std\", \"four\", \"wagon\", \"fwd\", \"front\", 103.3, 122, \"2bbl\", \"3.34\", \"3.46\", 8.5, \"88\", \"5000\", 24, 30, \"8921\"], [3, \"145\", \"dodge\", \"gas\", \"turbo\", \"two\", \"hatchback\", \"fwd\", \"front\", 95.9, 156, \"mfi\", \"3.60\", \"3.90\", 7.0, \"145\", \"5000\", 19, 24, \"12964\"], [2, \"137\", \"honda\", \"gas\", \"std\", \"two\", \"hatchback\", \"fwd\", \"front\", 86.6, 92, \"1bbl\", \"2.91\", \"3.41\", 9.6, \"58\", \"4800\", 49, 54, \"6479\"], [2, \"137\", \"honda\", \"gas\", \"std\", \"two\", \"hatchback\", \"fwd\", \"front\", 86.6, 92, \"1bbl\", \"2.91\", \"3.41\", 9.2, \"76\", \"6000\", 31, 38, \"6855\"], [1, \"101\", \"honda\", \"gas\", \"std\", \"two\", \"hatchback\", \"fwd\", \"front\", 93.7, 79, \"1bbl\", \"2.91\", \"3.07\", 10.1, \"60\", \"5500\", 38, 42, \"5399\"], [1, \"101\", \"honda\", \"gas\", \"std\", \"two\", \"hatchback\", \"fwd\", \"front\", 93.7, 92, \"1bbl\", \"2.91\", \"3.41\", 9.2, \"76\", \"6000\", 30, 34, \"6529\"], [1, \"101\", \"honda\", \"gas\", \"std\", \"two\", \"hatchback\", \"fwd\", \"front\", 93.7, 92, \"1bbl\", \"2.91\", \"3.41\", 9.2, \"76\", \"6000\", 30, 34, \"7129\"], [0, \"110\", \"honda\", \"gas\", \"std\", \"four\", \"sedan\", \"fwd\", \"front\", 96.5, 92, \"1bbl\", \"2.91\", \"3.41\", 9.2, \"76\", \"6000\", 30, 34, \"7295\"], [0, \"78\", \"honda\", \"gas\", \"std\", \"four\", \"wagon\", \"fwd\", \"front\", 96.5, 92, \"1bbl\", \"2.92\", \"3.41\", 9.2, \"76\", \"6000\", 30, 34, \"7295\"], [0, \"106\", \"honda\", \"gas\", \"std\", \"two\", \"hatchback\", \"fwd\", \"front\", 96.5, 110, \"1bbl\", \"3.15\", \"3.58\", 9.0, \"86\", \"5800\", 27, 33, \"7895\"], [0, \"106\", \"honda\", \"gas\", \"std\", \"two\", \"hatchback\", \"fwd\", \"front\", 96.5, 110, \"1bbl\", \"3.15\", \"3.58\", 9.0, \"86\", \"5800\", 27, 33, \"9095\"], [0, \"85\", \"honda\", \"gas\", \"std\", \"four\", \"sedan\", \"fwd\", \"front\", 96.5, 110, \"1bbl\", \"3.15\", \"3.58\", 9.0, \"86\", \"5800\", 27, 33, \"8845\"], [0, \"85\", \"honda\", \"gas\", \"std\", \"four\", \"sedan\", \"fwd\", \"front\", 96.5, 110, \"1bbl\", \"3.15\", \"3.58\", 9.0, \"86\", \"5800\", 27, 33, \"10295\"], [0, \"85\", \"honda\", \"gas\", \"std\", \"four\", \"sedan\", \"fwd\", \"front\", 96.5, 110, \"mpfi\", \"3.15\", \"3.58\", 9.0, \"101\", \"5800\", 24, 28, \"12945\"], [1, \"107\", \"honda\", \"gas\", \"std\", \"two\", \"sedan\", \"fwd\", \"front\", 96.5, 110, \"2bbl\", \"3.15\", \"3.58\", 9.1, \"100\", \"5500\", 25, 31, \"10345\"], [0, \"?\", \"isuzu\", \"gas\", \"std\", \"four\", \"sedan\", \"rwd\", \"front\", 94.3, 111, \"2bbl\", \"3.31\", \"3.23\", 8.5, \"78\", \"4800\", 24, 29, \"6785\"], [1, \"?\", \"isuzu\", \"gas\", \"std\", \"two\", \"sedan\", \"fwd\", \"front\", 94.5, 90, \"2bbl\", \"3.03\", \"3.11\", 9.6, \"70\", \"5400\", 38, 43, \"?\"], [0, \"?\", \"isuzu\", \"gas\", \"std\", \"four\", \"sedan\", \"fwd\", \"front\", 94.5, 90, \"2bbl\", \"3.03\", \"3.11\", 9.6, \"70\", \"5400\", 38, 43, \"?\"], [2, \"?\", \"isuzu\", \"gas\", \"std\", \"two\", \"hatchback\", \"rwd\", \"front\", 96.0, 119, \"spfi\", \"3.43\", \"3.23\", 9.2, \"90\", \"5000\", 24, 29, \"11048\"], [0, \"145\", \"jaguar\", \"gas\", \"std\", \"four\", \"sedan\", \"rwd\", \"front\", 113.0, 258, \"mpfi\", \"3.63\", \"4.17\", 8.1, \"176\", \"4750\", 15, 19, \"32250\"], [0, \"?\", \"jaguar\", \"gas\", \"std\", \"four\", \"sedan\", \"rwd\", \"front\", 113.0, 258, \"mpfi\", \"3.63\", \"4.17\", 8.1, \"176\", \"4750\", 15, 19, \"35550\"], [0, \"?\", \"jaguar\", \"gas\", \"std\", \"two\", \"sedan\", \"rwd\", \"front\", 102.0, 326, \"mpfi\", \"3.54\", \"2.76\", 11.5, \"262\", \"5000\", 13, 17, \"36000\"], [1, \"104\", \"mazda\", \"gas\", \"std\", \"two\", \"hatchback\", \"fwd\", \"front\", 93.1, 91, \"2bbl\", \"3.03\", \"3.15\", 9.0, \"68\", \"5000\", 30, 31, \"5195\"], [1, \"104\", \"mazda\", \"gas\", \"std\", \"two\", \"hatchback\", \"fwd\", \"front\", 93.1, 91, \"2bbl\", \"3.03\", \"3.15\", 9.0, \"68\", \"5000\", 31, 38, \"6095\"], [1, \"104\", \"mazda\", \"gas\", \"std\", \"two\", \"hatchback\", \"fwd\", \"front\", 93.1, 91, \"2bbl\", \"3.03\", \"3.15\", 9.0, \"68\", \"5000\", 31, 38, \"6795\"], [1, \"113\", \"mazda\", \"gas\", \"std\", \"four\", \"sedan\", \"fwd\", \"front\", 93.1, 91, \"2bbl\", \"3.03\", \"3.15\", 9.0, \"68\", \"5000\", 31, 38, \"6695\"], [1, \"113\", \"mazda\", \"gas\", \"std\", \"four\", \"sedan\", \"fwd\", \"front\", 93.1, 91, \"2bbl\", \"3.08\", \"3.15\", 9.0, \"68\", \"5000\", 31, 38, \"7395\"], [3, \"150\", \"mazda\", \"gas\", \"std\", \"two\", \"hatchback\", \"rwd\", \"front\", 95.3, 70, \"4bbl\", \"?\", \"?\", 9.4, \"101\", \"6000\", 17, 23, \"10945\"], [3, \"150\", \"mazda\", \"gas\", \"std\", \"two\", \"hatchback\", \"rwd\", \"front\", 95.3, 70, \"4bbl\", \"?\", \"?\", 9.4, \"101\", \"6000\", 17, 23, \"11845\"], [3, \"150\", \"mazda\", \"gas\", \"std\", \"two\", \"hatchback\", \"rwd\", \"front\", 95.3, 70, \"4bbl\", \"?\", \"?\", 9.4, \"101\", \"6000\", 17, 23, \"13645\"], [3, \"150\", \"mazda\", \"gas\", \"std\", \"two\", \"hatchback\", \"rwd\", \"front\", 95.3, 80, \"mpfi\", \"?\", \"?\", 9.4, \"135\", \"6000\", 16, 23, \"15645\"], [1, \"129\", \"mazda\", \"gas\", \"std\", \"two\", \"hatchback\", \"fwd\", \"front\", 98.8, 122, \"2bbl\", \"3.39\", \"3.39\", 8.6, \"84\", \"4800\", 26, 32, \"8845\"], [0, \"115\", \"mazda\", \"gas\", \"std\", \"four\", \"sedan\", \"fwd\", \"front\", 98.8, 122, \"2bbl\", \"3.39\", \"3.39\", 8.6, \"84\", \"4800\", 26, 32, \"8495\"], [1, \"129\", \"mazda\", \"gas\", \"std\", \"two\", \"hatchback\", \"fwd\", \"front\", 98.8, 122, \"2bbl\", \"3.39\", \"3.39\", 8.6, \"84\", \"4800\", 26, 32, \"10595\"], [0, \"115\", \"mazda\", \"gas\", \"std\", \"four\", \"sedan\", \"fwd\", \"front\", 98.8, 122, \"2bbl\", \"3.39\", \"3.39\", 8.6, \"84\", \"4800\", 26, 32, \"10245\"], [0, \"?\", \"mazda\", \"diesel\", \"std\", \"?\", \"sedan\", \"fwd\", \"front\", 98.8, 122, \"idi\", \"3.39\", \"3.39\", 22.7, \"64\", \"4650\", 36, 42, \"10795\"], [0, \"115\", \"mazda\", \"gas\", \"std\", \"four\", \"hatchback\", \"fwd\", \"front\", 98.8, 122, \"2bbl\", \"3.39\", \"3.39\", 8.6, \"84\", \"4800\", 26, 32, \"11245\"], [0, \"118\", \"mazda\", \"gas\", \"std\", \"four\", \"sedan\", \"rwd\", \"front\", 104.9, 140, \"mpfi\", \"3.76\", \"3.16\", 8.0, \"120\", \"5000\", 19, 27, \"18280\"], [0, \"?\", \"mazda\", \"diesel\", \"std\", \"four\", \"sedan\", \"rwd\", \"front\", 104.9, 134, \"idi\", \"3.43\", \"3.64\", 22.0, \"72\", \"4200\", 31, 39, \"18344\"], [-1, \"93\", \"mercedes-benz\", \"diesel\", \"turbo\", \"four\", \"sedan\", \"rwd\", \"front\", 110.0, 183, \"idi\", \"3.58\", \"3.64\", 21.5, \"123\", \"4350\", 22, 25, \"25552\"], [-1, \"93\", \"mercedes-benz\", \"diesel\", \"turbo\", \"four\", \"wagon\", \"rwd\", \"front\", 110.0, 183, \"idi\", \"3.58\", \"3.64\", 21.5, \"123\", \"4350\", 22, 25, \"28248\"], [0, \"93\", \"mercedes-benz\", \"diesel\", \"turbo\", \"two\", \"hardtop\", \"rwd\", \"front\", 106.7, 183, \"idi\", \"3.58\", \"3.64\", 21.5, \"123\", \"4350\", 22, 25, \"28176\"], [-1, \"93\", \"mercedes-benz\", \"diesel\", \"turbo\", \"four\", \"sedan\", \"rwd\", \"front\", 115.6, 183, \"idi\", \"3.58\", \"3.64\", 21.5, \"123\", \"4350\", 22, 25, \"31600\"], [-1, \"?\", \"mercedes-benz\", \"gas\", \"std\", \"four\", \"sedan\", \"rwd\", \"front\", 115.6, 234, \"mpfi\", \"3.46\", \"3.10\", 8.3, \"155\", \"4750\", 16, 18, \"34184\"], [3, \"142\", \"mercedes-benz\", \"gas\", \"std\", \"two\", \"convertible\", \"rwd\", \"front\", 96.6, 234, \"mpfi\", \"3.46\", \"3.10\", 8.3, \"155\", \"4750\", 16, 18, \"35056\"], [0, \"?\", \"mercedes-benz\", \"gas\", \"std\", \"four\", \"sedan\", \"rwd\", \"front\", 120.9, 308, \"mpfi\", \"3.80\", \"3.35\", 8.0, \"184\", \"4500\", 14, 16, \"40960\"], [1, \"?\", \"mercedes-benz\", \"gas\", \"std\", \"two\", \"hardtop\", \"rwd\", \"front\", 112.0, 304, \"mpfi\", \"3.80\", \"3.35\", 8.0, \"184\", \"4500\", 14, 16, \"45400\"], [1, \"?\", \"mercury\", \"gas\", \"turbo\", \"two\", \"hatchback\", \"rwd\", \"front\", 102.7, 140, \"mpfi\", \"3.78\", \"3.12\", 8.0, \"175\", \"5000\", 19, 24, \"16503\"], [2, \"161\", \"mitsubishi\", \"gas\", \"std\", \"two\", \"hatchback\", \"fwd\", \"front\", 93.7, 92, \"2bbl\", \"2.97\", \"3.23\", 9.4, \"68\", \"5500\", 37, 41, \"5389\"], [2, \"161\", \"mitsubishi\", \"gas\", \"std\", \"two\", \"hatchback\", \"fwd\", \"front\", 93.7, 92, \"2bbl\", \"2.97\", \"3.23\", 9.4, \"68\", \"5500\", 31, 38, \"6189\"], [2, \"161\", \"mitsubishi\", \"gas\", \"std\", \"two\", \"hatchback\", \"fwd\", \"front\", 93.7, 92, \"2bbl\", \"2.97\", \"3.23\", 9.4, \"68\", \"5500\", 31, 38, \"6669\"], [1, \"161\", \"mitsubishi\", \"gas\", \"turbo\", \"two\", \"hatchback\", \"fwd\", \"front\", 93.0, 98, \"spdi\", \"3.03\", \"3.39\", 7.6, \"102\", \"5500\", 24, 30, \"7689\"], [3, \"153\", \"mitsubishi\", \"gas\", \"turbo\", \"two\", \"hatchback\", \"fwd\", \"front\", 96.3, 110, \"spdi\", \"3.17\", \"3.46\", 7.5, \"116\", \"5500\", 23, 30, \"9959\"], [3, \"153\", \"mitsubishi\", \"gas\", \"std\", \"two\", \"hatchback\", \"fwd\", \"front\", 96.3, 122, \"2bbl\", \"3.35\", \"3.46\", 8.5, \"88\", \"5000\", 25, 32, \"8499\"], [3, \"?\", \"mitsubishi\", \"gas\", \"turbo\", \"two\", \"hatchback\", \"fwd\", \"front\", 95.9, 156, \"spdi\", \"3.58\", \"3.86\", 7.0, \"145\", \"5000\", 19, 24, \"12629\"], [3, \"?\", \"mitsubishi\", \"gas\", \"turbo\", \"two\", \"hatchback\", \"fwd\", \"front\", 95.9, 156, \"spdi\", \"3.59\", \"3.86\", 7.0, \"145\", \"5000\", 19, 24, \"14869\"], [3, \"?\", \"mitsubishi\", \"gas\", \"turbo\", \"two\", \"hatchback\", \"fwd\", \"front\", 95.9, 156, \"spdi\", \"3.59\", \"3.86\", 7.0, \"145\", \"5000\", 19, 24, \"14489\"], [1, \"125\", \"mitsubishi\", \"gas\", \"std\", \"four\", \"sedan\", \"fwd\", \"front\", 96.3, 122, \"2bbl\", \"3.35\", \"3.46\", 8.5, \"88\", \"5000\", 25, 32, \"6989\"], [1, \"125\", \"mitsubishi\", \"gas\", \"std\", \"four\", \"sedan\", \"fwd\", \"front\", 96.3, 122, \"2bbl\", \"3.35\", \"3.46\", 8.5, \"88\", \"5000\", 25, 32, \"8189\"], [1, \"125\", \"mitsubishi\", \"gas\", \"turbo\", \"four\", \"sedan\", \"fwd\", \"front\", 96.3, 110, \"spdi\", \"3.17\", \"3.46\", 7.5, \"116\", \"5500\", 23, 30, \"9279\"], [-1, \"137\", \"mitsubishi\", \"gas\", \"std\", \"four\", \"sedan\", \"fwd\", \"front\", 96.3, 110, \"spdi\", \"3.17\", \"3.46\", 7.5, \"116\", \"5500\", 23, 30, \"9279\"], [1, \"128\", \"nissan\", \"gas\", \"std\", \"two\", \"sedan\", \"fwd\", \"front\", 94.5, 97, \"2bbl\", \"3.15\", \"3.29\", 9.4, \"69\", \"5200\", 31, 37, \"5499\"], [1, \"128\", \"nissan\", \"diesel\", \"std\", \"two\", \"sedan\", \"fwd\", \"front\", 94.5, 103, \"idi\", \"2.99\", \"3.47\", 21.9, \"55\", \"4800\", 45, 50, \"7099\"], [1, \"128\", \"nissan\", \"gas\", \"std\", \"two\", \"sedan\", \"fwd\", \"front\", 94.5, 97, \"2bbl\", \"3.15\", \"3.29\", 9.4, \"69\", \"5200\", 31, 37, \"6649\"], [1, \"122\", \"nissan\", \"gas\", \"std\", \"four\", \"sedan\", \"fwd\", \"front\", 94.5, 97, \"2bbl\", \"3.15\", \"3.29\", 9.4, \"69\", \"5200\", 31, 37, \"6849\"], [1, \"103\", \"nissan\", \"gas\", \"std\", \"four\", \"wagon\", \"fwd\", \"front\", 94.5, 97, \"2bbl\", \"3.15\", \"3.29\", 9.4, \"69\", \"5200\", 31, 37, \"7349\"], [1, \"128\", \"nissan\", \"gas\", \"std\", \"two\", \"sedan\", \"fwd\", \"front\", 94.5, 97, \"2bbl\", \"3.15\", \"3.29\", 9.4, \"69\", \"5200\", 31, 37, \"7299\"], [1, \"128\", \"nissan\", \"gas\", \"std\", \"two\", \"hatchback\", \"fwd\", \"front\", 94.5, 97, \"2bbl\", \"3.15\", \"3.29\", 9.4, \"69\", \"5200\", 31, 37, \"7799\"], [1, \"122\", \"nissan\", \"gas\", \"std\", \"four\", \"sedan\", \"fwd\", \"front\", 94.5, 97, \"2bbl\", \"3.15\", \"3.29\", 9.4, \"69\", \"5200\", 31, 37, \"7499\"], [1, \"103\", \"nissan\", \"gas\", \"std\", \"four\", \"wagon\", \"fwd\", \"front\", 94.5, 97, \"2bbl\", \"3.15\", \"3.29\", 9.4, \"69\", \"5200\", 31, 37, \"7999\"], [2, \"168\", \"nissan\", \"gas\", \"std\", \"two\", \"hardtop\", \"fwd\", \"front\", 95.1, 97, \"2bbl\", \"3.15\", \"3.29\", 9.4, \"69\", \"5200\", 31, 37, \"8249\"], [0, \"106\", \"nissan\", \"gas\", \"std\", \"four\", \"hatchback\", \"fwd\", \"front\", 97.2, 120, \"2bbl\", \"3.33\", \"3.47\", 8.5, \"97\", \"5200\", 27, 34, \"8949\"], [0, \"106\", \"nissan\", \"gas\", \"std\", \"four\", \"sedan\", \"fwd\", \"front\", 97.2, 120, \"2bbl\", \"3.33\", \"3.47\", 8.5, \"97\", \"5200\", 27, 34, \"9549\"], [0, \"128\", \"nissan\", \"gas\", \"std\", \"four\", \"sedan\", \"fwd\", \"front\", 100.4, 181, \"mpfi\", \"3.43\", \"3.27\", 9.0, \"152\", \"5200\", 17, 22, \"13499\"], [0, \"108\", \"nissan\", \"gas\", \"std\", \"four\", \"wagon\", \"fwd\", \"front\", 100.4, 181, \"mpfi\", \"3.43\", \"3.27\", 9.0, \"152\", \"5200\", 17, 22, \"14399\"], [0, \"108\", \"nissan\", \"gas\", \"std\", \"four\", \"sedan\", \"fwd\", \"front\", 100.4, 181, \"mpfi\", \"3.43\", \"3.27\", 9.0, \"152\", \"5200\", 19, 25, \"13499\"], [3, \"194\", \"nissan\", \"gas\", \"std\", \"two\", \"hatchback\", \"rwd\", \"front\", 91.3, 181, \"mpfi\", \"3.43\", \"3.27\", 9.0, \"160\", \"5200\", 19, 25, \"17199\"], [3, \"194\", \"nissan\", \"gas\", \"turbo\", \"two\", \"hatchback\", \"rwd\", \"front\", 91.3, 181, \"mpfi\", \"3.43\", \"3.27\", 7.8, \"200\", \"5200\", 17, 23, \"19699\"], [1, \"231\", \"nissan\", \"gas\", \"std\", \"two\", \"hatchback\", \"rwd\", \"front\", 99.2, 181, \"mpfi\", \"3.43\", \"3.27\", 9.0, \"160\", \"5200\", 19, 25, \"18399\"], [0, \"161\", \"peugot\", \"gas\", \"std\", \"four\", \"sedan\", \"rwd\", \"front\", 107.9, 120, \"mpfi\", \"3.46\", \"3.19\", 8.4, \"97\", \"5000\", 19, 24, \"11900\"], [0, \"161\", \"peugot\", \"diesel\", \"turbo\", \"four\", \"sedan\", \"rwd\", \"front\", 107.9, 152, \"idi\", \"3.70\", \"3.52\", 21.0, \"95\", \"4150\", 28, 33, \"13200\"], [0, \"?\", \"peugot\", \"gas\", \"std\", \"four\", \"wagon\", \"rwd\", \"front\", 114.2, 120, \"mpfi\", \"3.46\", \"3.19\", 8.4, \"97\", \"5000\", 19, 24, \"12440\"], [0, \"?\", \"peugot\", \"diesel\", \"turbo\", \"four\", \"wagon\", \"rwd\", \"front\", 114.2, 152, \"idi\", \"3.70\", \"3.52\", 21.0, \"95\", \"4150\", 25, 25, \"13860\"], [0, \"161\", \"peugot\", \"gas\", \"std\", \"four\", \"sedan\", \"rwd\", \"front\", 107.9, 120, \"mpfi\", \"3.46\", \"2.19\", 8.4, \"95\", \"5000\", 19, 24, \"15580\"], [0, \"161\", \"peugot\", \"diesel\", \"turbo\", \"four\", \"sedan\", \"rwd\", \"front\", 107.9, 152, \"idi\", \"3.70\", \"3.52\", 21.0, \"95\", \"4150\", 28, 33, \"16900\"], [0, \"?\", \"peugot\", \"gas\", \"std\", \"four\", \"wagon\", \"rwd\", \"front\", 114.2, 120, \"mpfi\", \"3.46\", \"2.19\", 8.4, \"95\", \"5000\", 19, 24, \"16695\"], [0, \"?\", \"peugot\", \"diesel\", \"turbo\", \"four\", \"wagon\", \"rwd\", \"front\", 114.2, 152, \"idi\", \"3.70\", \"3.52\", 21.0, \"95\", \"4150\", 25, 25, \"17075\"], [0, \"161\", \"peugot\", \"gas\", \"std\", \"four\", \"sedan\", \"rwd\", \"front\", 107.9, 120, \"mpfi\", \"3.46\", \"3.19\", 8.4, \"97\", \"5000\", 19, 24, \"16630\"], [0, \"161\", \"peugot\", \"diesel\", \"turbo\", \"four\", \"sedan\", \"rwd\", \"front\", 107.9, 152, \"idi\", \"3.70\", \"3.52\", 21.0, \"95\", \"4150\", 28, 33, \"17950\"], [0, \"161\", \"peugot\", \"gas\", \"turbo\", \"four\", \"sedan\", \"rwd\", \"front\", 108.0, 134, \"mpfi\", \"3.61\", \"3.21\", 7.0, \"142\", \"5600\", 18, 24, \"18150\"], [1, \"119\", \"plymouth\", \"gas\", \"std\", \"two\", \"hatchback\", \"fwd\", \"front\", 93.7, 90, \"2bbl\", \"2.97\", \"3.23\", 9.4, \"68\", \"5500\", 37, 41, \"5572\"], [1, \"119\", \"plymouth\", \"gas\", \"turbo\", \"two\", \"hatchback\", \"fwd\", \"front\", 93.7, 98, \"spdi\", \"3.03\", \"3.39\", 7.6, \"102\", \"5500\", 24, 30, \"7957\"], [1, \"154\", \"plymouth\", \"gas\", \"std\", \"four\", \"hatchback\", \"fwd\", \"front\", 93.7, 90, \"2bbl\", \"2.97\", \"3.23\", 9.4, \"68\", \"5500\", 31, 38, \"6229\"], [1, \"154\", \"plymouth\", \"gas\", \"std\", \"four\", \"sedan\", \"fwd\", \"front\", 93.7, 90, \"2bbl\", \"2.97\", \"3.23\", 9.4, \"68\", \"5500\", 31, 38, \"6692\"], [1, \"154\", \"plymouth\", \"gas\", \"std\", \"four\", \"sedan\", \"fwd\", \"front\", 93.7, 98, \"2bbl\", \"2.97\", \"3.23\", 9.4, \"68\", \"5500\", 31, 38, \"7609\"], [-1, \"74\", \"plymouth\", \"gas\", \"std\", \"four\", \"wagon\", \"fwd\", \"front\", 103.3, 122, \"2bbl\", \"3.35\", \"3.46\", 8.5, \"88\", \"5000\", 24, 30, \"8921\"], [3, \"?\", \"plymouth\", \"gas\", \"turbo\", \"two\", \"hatchback\", \"rwd\", \"front\", 95.9, 156, \"spdi\", \"3.59\", \"3.86\", 7.0, \"145\", \"5000\", 19, 24, \"12764\"], [3, \"186\", \"porsche\", \"gas\", \"std\", \"two\", \"hatchback\", \"rwd\", \"front\", 94.5, 151, \"mpfi\", \"3.94\", \"3.11\", 9.5, \"143\", \"5500\", 19, 27, \"22018\"], [3, \"?\", \"porsche\", \"gas\", \"std\", \"two\", \"hardtop\", \"rwd\", \"rear\", 89.5, 194, \"mpfi\", \"3.74\", \"2.90\", 9.5, \"207\", \"5900\", 17, 25, \"32528\"], [3, \"?\", \"porsche\", \"gas\", \"std\", \"two\", \"hardtop\", \"rwd\", \"rear\", 89.5, 194, \"mpfi\", \"3.74\", \"2.90\", 9.5, \"207\", \"5900\", 17, 25, \"34028\"], [3, \"?\", \"porsche\", \"gas\", \"std\", \"two\", \"convertible\", \"rwd\", \"rear\", 89.5, 194, \"mpfi\", \"3.74\", \"2.90\", 9.5, \"207\", \"5900\", 17, 25, \"37028\"], [1, \"?\", \"porsche\", \"gas\", \"std\", \"two\", \"hatchback\", \"rwd\", \"front\", 98.4, 203, \"mpfi\", \"3.94\", \"3.11\", 10.0, \"288\", \"5750\", 17, 28, \"?\"], [0, \"?\", \"renault\", \"gas\", \"std\", \"four\", \"wagon\", \"fwd\", \"front\", 96.1, 132, \"mpfi\", \"3.46\", \"3.90\", 8.7, \"?\", \"?\", 23, 31, \"9295\"], [2, \"?\", \"renault\", \"gas\", \"std\", \"two\", \"hatchback\", \"fwd\", \"front\", 96.1, 132, \"mpfi\", \"3.46\", \"3.90\", 8.7, \"?\", \"?\", 23, 31, \"9895\"], [3, \"150\", \"saab\", \"gas\", \"std\", \"two\", \"hatchback\", \"fwd\", \"front\", 99.1, 121, \"mpfi\", \"3.54\", \"3.07\", 9.31, \"110\", \"5250\", 21, 28, \"11850\"], [2, \"104\", \"saab\", \"gas\", \"std\", \"four\", \"sedan\", \"fwd\", \"front\", 99.1, 121, \"mpfi\", \"3.54\", \"3.07\", 9.3, \"110\", \"5250\", 21, 28, \"12170\"], [3, \"150\", \"saab\", \"gas\", \"std\", \"two\", \"hatchback\", \"fwd\", \"front\", 99.1, 121, \"mpfi\", \"2.54\", \"2.07\", 9.3, \"110\", \"5250\", 21, 28, \"15040\"], [2, \"104\", \"saab\", \"gas\", \"std\", \"four\", \"sedan\", \"fwd\", \"front\", 99.1, 121, \"mpfi\", \"3.54\", \"3.07\", 9.3, \"110\", \"5250\", 21, 28, \"15510\"], [3, \"150\", \"saab\", \"gas\", \"turbo\", \"two\", \"hatchback\", \"fwd\", \"front\", 99.1, 121, \"mpfi\", \"3.54\", \"3.07\", 9.0, \"160\", \"5500\", 19, 26, \"18150\"], [2, \"104\", \"saab\", \"gas\", \"turbo\", \"four\", \"sedan\", \"fwd\", \"front\", 99.1, 121, \"mpfi\", \"3.54\", \"3.07\", 9.0, \"160\", \"5500\", 19, 26, \"18620\"], [2, \"83\", \"subaru\", \"gas\", \"std\", \"two\", \"hatchback\", \"fwd\", \"front\", 93.7, 97, \"2bbl\", \"3.62\", \"2.36\", 9.0, \"69\", \"4900\", 31, 36, \"5118\"], [2, \"83\", \"subaru\", \"gas\", \"std\", \"two\", \"hatchback\", \"fwd\", \"front\", 93.7, 108, \"2bbl\", \"3.62\", \"2.64\", 8.7, \"73\", \"4400\", 26, 31, \"7053\"], [2, \"83\", \"subaru\", \"gas\", \"std\", \"two\", \"hatchback\", \"4wd\", \"front\", 93.3, 108, \"2bbl\", \"3.62\", \"2.64\", 8.7, \"73\", \"4400\", 26, 31, \"7603\"], [0, \"102\", \"subaru\", \"gas\", \"std\", \"four\", \"sedan\", \"fwd\", \"front\", 97.2, 108, \"2bbl\", \"3.62\", \"2.64\", 9.5, \"82\", \"4800\", 32, 37, \"7126\"], [0, \"102\", \"subaru\", \"gas\", \"std\", \"four\", \"sedan\", \"fwd\", \"front\", 97.2, 108, \"2bbl\", \"3.62\", \"2.64\", 9.5, \"82\", \"4400\", 28, 33, \"7775\"], [0, \"102\", \"subaru\", \"gas\", \"std\", \"four\", \"sedan\", \"fwd\", \"front\", 97.2, 108, \"mpfi\", \"3.62\", \"2.64\", 9.0, \"94\", \"5200\", 26, 32, \"9960\"], [0, \"102\", \"subaru\", \"gas\", \"std\", \"four\", \"sedan\", \"4wd\", \"front\", 97.0, 108, \"2bbl\", \"3.62\", \"2.64\", 9.0, \"82\", \"4800\", 24, 25, \"9233\"], [0, \"102\", \"subaru\", \"gas\", \"turbo\", \"four\", \"sedan\", \"4wd\", \"front\", 97.0, 108, \"mpfi\", \"3.62\", \"2.64\", 7.7, \"111\", \"4800\", 24, 29, \"11259\"], [0, \"89\", \"subaru\", \"gas\", \"std\", \"four\", \"wagon\", \"fwd\", \"front\", 97.0, 108, \"2bbl\", \"3.62\", \"2.64\", 9.0, \"82\", \"4800\", 28, 32, \"7463\"], [0, \"89\", \"subaru\", \"gas\", \"std\", \"four\", \"wagon\", \"fwd\", \"front\", 97.0, 108, \"mpfi\", \"3.62\", \"2.64\", 9.0, \"94\", \"5200\", 25, 31, \"10198\"], [0, \"85\", \"subaru\", \"gas\", \"std\", \"four\", \"wagon\", \"4wd\", \"front\", 96.9, 108, \"2bbl\", \"3.62\", \"2.64\", 9.0, \"82\", \"4800\", 23, 29, \"8013\"], [0, \"85\", \"subaru\", \"gas\", \"turbo\", \"four\", \"wagon\", \"4wd\", \"front\", 96.9, 108, \"mpfi\", \"3.62\", \"2.64\", 7.7, \"111\", \"4800\", 23, 23, \"11694\"], [1, \"87\", \"toyota\", \"gas\", \"std\", \"two\", \"hatchback\", \"fwd\", \"front\", 95.7, 92, \"2bbl\", \"3.05\", \"3.03\", 9.0, \"62\", \"4800\", 35, 39, \"5348\"], [1, \"87\", \"toyota\", \"gas\", \"std\", \"two\", \"hatchback\", \"fwd\", \"front\", 95.7, 92, \"2bbl\", \"3.05\", \"3.03\", 9.0, \"62\", \"4800\", 31, 38, \"6338\"], [1, \"74\", \"toyota\", \"gas\", \"std\", \"four\", \"hatchback\", \"fwd\", \"front\", 95.7, 92, \"2bbl\", \"3.05\", \"3.03\", 9.0, \"62\", \"4800\", 31, 38, \"6488\"], [0, \"77\", \"toyota\", \"gas\", \"std\", \"four\", \"wagon\", \"fwd\", \"front\", 95.7, 92, \"2bbl\", \"3.05\", \"3.03\", 9.0, \"62\", \"4800\", 31, 37, \"6918\"], [0, \"81\", \"toyota\", \"gas\", \"std\", \"four\", \"wagon\", \"4wd\", \"front\", 95.7, 92, \"2bbl\", \"3.05\", \"3.03\", 9.0, \"62\", \"4800\", 27, 32, \"7898\"], [0, \"91\", \"toyota\", \"gas\", \"std\", \"four\", \"wagon\", \"4wd\", \"front\", 95.7, 92, \"2bbl\", \"3.05\", \"3.03\", 9.0, \"62\", \"4800\", 27, 32, \"8778\"], [0, \"91\", \"toyota\", \"gas\", \"std\", \"four\", \"sedan\", \"fwd\", \"front\", 95.7, 98, \"2bbl\", \"3.19\", \"3.03\", 9.0, \"70\", \"4800\", 30, 37, \"6938\"], [0, \"91\", \"toyota\", \"gas\", \"std\", \"four\", \"hatchback\", \"fwd\", \"front\", 95.7, 98, \"2bbl\", \"3.19\", \"3.03\", 9.0, \"70\", \"4800\", 30, 37, \"7198\"], [0, \"91\", \"toyota\", \"diesel\", \"std\", \"four\", \"sedan\", \"fwd\", \"front\", 95.7, 110, \"idi\", \"3.27\", \"3.35\", 22.5, \"56\", \"4500\", 34, 36, \"7898\"], [0, \"91\", \"toyota\", \"diesel\", \"std\", \"four\", \"hatchback\", \"fwd\", \"front\", 95.7, 110, \"idi\", \"3.27\", \"3.35\", 22.5, \"56\", \"4500\", 38, 47, \"7788\"], [0, \"91\", \"toyota\", \"gas\", \"std\", \"four\", \"sedan\", \"fwd\", \"front\", 95.7, 98, \"2bbl\", \"3.19\", \"3.03\", 9.0, \"70\", \"4800\", 38, 47, \"7738\"], [0, \"91\", \"toyota\", \"gas\", \"std\", \"four\", \"hatchback\", \"fwd\", \"front\", 95.7, 98, \"2bbl\", \"3.19\", \"3.03\", 9.0, \"70\", \"4800\", 28, 34, \"8358\"], [0, \"91\", \"toyota\", \"gas\", \"std\", \"four\", \"sedan\", \"fwd\", \"front\", 95.7, 98, \"2bbl\", \"3.19\", \"3.03\", 9.0, \"70\", \"4800\", 28, 34, \"9258\"], [1, \"168\", \"toyota\", \"gas\", \"std\", \"two\", \"sedan\", \"rwd\", \"front\", 94.5, 98, \"2bbl\", \"3.19\", \"3.03\", 9.0, \"70\", \"4800\", 29, 34, \"8058\"], [1, \"168\", \"toyota\", \"gas\", \"std\", \"two\", \"hatchback\", \"rwd\", \"front\", 94.5, 98, \"2bbl\", \"3.19\", \"3.03\", 9.0, \"70\", \"4800\", 29, 34, \"8238\"], [1, \"168\", \"toyota\", \"gas\", \"std\", \"two\", \"sedan\", \"rwd\", \"front\", 94.5, 98, \"mpfi\", \"3.24\", \"3.08\", 9.4, \"112\", \"6600\", 26, 29, \"9298\"], [1, \"168\", \"toyota\", \"gas\", \"std\", \"two\", \"hatchback\", \"rwd\", \"front\", 94.5, 98, \"mpfi\", \"3.24\", \"3.08\", 9.4, \"112\", \"6600\", 26, 29, \"9538\"], [2, \"134\", \"toyota\", \"gas\", \"std\", \"two\", \"hardtop\", \"rwd\", \"front\", 98.4, 146, \"mpfi\", \"3.62\", \"3.50\", 9.3, \"116\", \"4800\", 24, 30, \"8449\"], [2, \"134\", \"toyota\", \"gas\", \"std\", \"two\", \"hardtop\", \"rwd\", \"front\", 98.4, 146, \"mpfi\", \"3.62\", \"3.50\", 9.3, \"116\", \"4800\", 24, 30, \"9639\"], [2, \"134\", \"toyota\", \"gas\", \"std\", \"two\", \"hatchback\", \"rwd\", \"front\", 98.4, 146, \"mpfi\", \"3.62\", \"3.50\", 9.3, \"116\", \"4800\", 24, 30, \"9989\"], [2, \"134\", \"toyota\", \"gas\", \"std\", \"two\", \"hardtop\", \"rwd\", \"front\", 98.4, 146, \"mpfi\", \"3.62\", \"3.50\", 9.3, \"116\", \"4800\", 24, 30, \"11199\"], [2, \"134\", \"toyota\", \"gas\", \"std\", \"two\", \"hatchback\", \"rwd\", \"front\", 98.4, 146, \"mpfi\", \"3.62\", \"3.50\", 9.3, \"116\", \"4800\", 24, 30, \"11549\"], [2, \"134\", \"toyota\", \"gas\", \"std\", \"two\", \"convertible\", \"rwd\", \"front\", 98.4, 146, \"mpfi\", \"3.62\", \"3.50\", 9.3, \"116\", \"4800\", 24, 30, \"17669\"], [-1, \"65\", \"toyota\", \"gas\", \"std\", \"four\", \"sedan\", \"fwd\", \"front\", 102.4, 122, \"mpfi\", \"3.31\", \"3.54\", 8.7, \"92\", \"4200\", 29, 34, \"8948\"], [-1, \"65\", \"toyota\", \"diesel\", \"turbo\", \"four\", \"sedan\", \"fwd\", \"front\", 102.4, 110, \"idi\", \"3.27\", \"3.35\", 22.5, \"73\", \"4500\", 30, 33, \"10698\"], [-1, \"65\", \"toyota\", \"gas\", \"std\", \"four\", \"hatchback\", \"fwd\", \"front\", 102.4, 122, \"mpfi\", \"3.31\", \"3.54\", 8.7, \"92\", \"4200\", 27, 32, \"9988\"], [-1, \"65\", \"toyota\", \"gas\", \"std\", \"four\", \"sedan\", \"fwd\", \"front\", 102.4, 122, \"mpfi\", \"3.31\", \"3.54\", 8.7, \"92\", \"4200\", 27, 32, \"10898\"], [-1, \"65\", \"toyota\", \"gas\", \"std\", \"four\", \"hatchback\", \"fwd\", \"front\", 102.4, 122, \"mpfi\", \"3.31\", \"3.54\", 8.7, \"92\", \"4200\", 27, 32, \"11248\"], [3, \"197\", \"toyota\", \"gas\", \"std\", \"two\", \"hatchback\", \"rwd\", \"front\", 102.9, 171, \"mpfi\", \"3.27\", \"3.35\", 9.3, \"161\", \"5200\", 20, 24, \"16558\"], [3, \"197\", \"toyota\", \"gas\", \"std\", \"two\", \"hatchback\", \"rwd\", \"front\", 102.9, 171, \"mpfi\", \"3.27\", \"3.35\", 9.3, \"161\", \"5200\", 19, 24, \"15998\"], [-1, \"90\", \"toyota\", \"gas\", \"std\", \"four\", \"sedan\", \"rwd\", \"front\", 104.5, 171, \"mpfi\", \"3.27\", \"3.35\", 9.2, \"156\", \"5200\", 20, 24, \"15690\"], [-1, \"?\", \"toyota\", \"gas\", \"std\", \"four\", \"wagon\", \"rwd\", \"front\", 104.5, 161, \"mpfi\", \"3.27\", \"3.35\", 9.2, \"156\", \"5200\", 19, 24, \"15750\"], [2, \"122\", \"volkswagen\", \"diesel\", \"std\", \"two\", \"sedan\", \"fwd\", \"front\", 97.3, 97, \"idi\", \"3.01\", \"3.40\", 23.0, \"52\", \"4800\", 37, 46, \"7775\"], [2, \"122\", \"volkswagen\", \"gas\", \"std\", \"two\", \"sedan\", \"fwd\", \"front\", 97.3, 109, \"mpfi\", \"3.19\", \"3.40\", 9.0, \"85\", \"5250\", 27, 34, \"7975\"], [2, \"94\", \"volkswagen\", \"diesel\", \"std\", \"four\", \"sedan\", \"fwd\", \"front\", 97.3, 97, \"idi\", \"3.01\", \"3.40\", 23.0, \"52\", \"4800\", 37, 46, \"7995\"], [2, \"94\", \"volkswagen\", \"gas\", \"std\", \"four\", \"sedan\", \"fwd\", \"front\", 97.3, 109, \"mpfi\", \"3.19\", \"3.40\", 9.0, \"85\", \"5250\", 27, 34, \"8195\"], [2, \"94\", \"volkswagen\", \"gas\", \"std\", \"four\", \"sedan\", \"fwd\", \"front\", 97.3, 109, \"mpfi\", \"3.19\", \"3.40\", 9.0, \"85\", \"5250\", 27, 34, \"8495\"], [2, \"94\", \"volkswagen\", \"diesel\", \"turbo\", \"four\", \"sedan\", \"fwd\", \"front\", 97.3, 97, \"idi\", \"3.01\", \"3.40\", 23.0, \"68\", \"4500\", 37, 42, \"9495\"], [2, \"94\", \"volkswagen\", \"gas\", \"std\", \"four\", \"sedan\", \"fwd\", \"front\", 97.3, 109, \"mpfi\", \"3.19\", \"3.40\", 10.0, \"100\", \"5500\", 26, 32, \"9995\"], [3, \"?\", \"volkswagen\", \"gas\", \"std\", \"two\", \"convertible\", \"fwd\", \"front\", 94.5, 109, \"mpfi\", \"3.19\", \"3.40\", 8.5, \"90\", \"5500\", 24, 29, \"11595\"], [3, \"256\", \"volkswagen\", \"gas\", \"std\", \"two\", \"hatchback\", \"fwd\", \"front\", 94.5, 109, \"mpfi\", \"3.19\", \"3.40\", 8.5, \"90\", \"5500\", 24, 29, \"9980\"], [0, \"?\", \"volkswagen\", \"gas\", \"std\", \"four\", \"sedan\", \"fwd\", \"front\", 100.4, 136, \"mpfi\", \"3.19\", \"3.40\", 8.5, \"110\", \"5500\", 19, 24, \"13295\"], [0, \"?\", \"volkswagen\", \"diesel\", \"turbo\", \"four\", \"sedan\", \"fwd\", \"front\", 100.4, 97, \"idi\", \"3.01\", \"3.40\", 23.0, \"68\", \"4500\", 33, 38, \"13845\"], [0, \"?\", \"volkswagen\", \"gas\", \"std\", \"four\", \"wagon\", \"fwd\", \"front\", 100.4, 109, \"mpfi\", \"3.19\", \"3.40\", 9.0, \"88\", \"5500\", 25, 31, \"12290\"], [-2, \"103\", \"volvo\", \"gas\", \"std\", \"four\", \"sedan\", \"rwd\", \"front\", 104.3, 141, \"mpfi\", \"3.78\", \"3.15\", 9.5, \"114\", \"5400\", 23, 28, \"12940\"], [-1, \"74\", \"volvo\", \"gas\", \"std\", \"four\", \"wagon\", \"rwd\", \"front\", 104.3, 141, \"mpfi\", \"3.78\", \"3.15\", 9.5, \"114\", \"5400\", 23, 28, \"13415\"], [-2, \"103\", \"volvo\", \"gas\", \"std\", \"four\", \"sedan\", \"rwd\", \"front\", 104.3, 141, \"mpfi\", \"3.78\", \"3.15\", 9.5, \"114\", \"5400\", 24, 28, \"15985\"], [-1, \"74\", \"volvo\", \"gas\", \"std\", \"four\", \"wagon\", \"rwd\", \"front\", 104.3, 141, \"mpfi\", \"3.78\", \"3.15\", 9.5, \"114\", \"5400\", 24, 28, \"16515\"], [-2, \"103\", \"volvo\", \"gas\", \"turbo\", \"four\", \"sedan\", \"rwd\", \"front\", 104.3, 130, \"mpfi\", \"3.62\", \"3.15\", 7.5, \"162\", \"5100\", 17, 22, \"18420\"], [-1, \"74\", \"volvo\", \"gas\", \"turbo\", \"four\", \"wagon\", \"rwd\", \"front\", 104.3, 130, \"mpfi\", \"3.62\", \"3.15\", 7.5, \"162\", \"5100\", 17, 22, \"18950\"], [-1, \"95\", \"volvo\", \"gas\", \"std\", \"four\", \"sedan\", \"rwd\", \"front\", 109.1, 141, \"mpfi\", \"3.78\", \"3.15\", 9.5, \"114\", \"5400\", 23, 28, \"16845\"], [-1, \"95\", \"volvo\", \"gas\", \"turbo\", \"four\", \"sedan\", \"rwd\", \"front\", 109.1, 141, \"mpfi\", \"3.78\", \"3.15\", 8.7, \"160\", \"5300\", 19, 25, \"19045\"], [-1, \"95\", \"volvo\", \"gas\", \"std\", \"four\", \"sedan\", \"rwd\", \"front\", 109.1, 173, \"mpfi\", \"3.58\", \"2.87\", 8.8, \"134\", \"5500\", 18, 23, \"21485\"], [-1, \"95\", \"volvo\", \"diesel\", \"turbo\", \"four\", \"sedan\", \"rwd\", \"front\", 109.1, 145, \"idi\", \"3.01\", \"3.40\", 23.0, \"106\", \"4800\", 26, 27, \"22470\"], [-1, \"95\", \"volvo\", \"gas\", \"turbo\", \"four\", \"sedan\", \"rwd\", \"front\", 109.1, 141, \"mpfi\", \"3.78\", \"3.15\", 9.5, \"114\", \"5400\", 19, 25, \"22625\"]]};\n",
       "        dt_args = eval_functions(dt_args);\n",
       "        table = $('#5a9bde2c-6066-49fd-bbd5-124c99a38c1b').DataTable(dt_args);\n",
       "    });\n",
       "})\n",
       "</script>\n",
       "</div>\n"
      ],
      "text/plain": [
       "<IPython.core.display.HTML object>"
      ]
     },
     "metadata": {},
     "output_type": "display_data"
    }
   ],
   "source": [
    "show(df, scrollY=\"200px\", scrollCollapse=True, paging=False) # showing table in full"
   ]
  },
  {
   "cell_type": "markdown",
   "metadata": {},
   "source": [
    "# Table display and styling\n"
   ]
  },
  {
   "cell_type": "code",
   "execution_count": 16,
   "metadata": {},
   "outputs": [],
   "source": [
    "import itables"
   ]
  },
  {
   "cell_type": "code",
   "execution_count": 17,
   "metadata": {},
   "outputs": [
    {
     "data": {
      "text/plain": [
       "['display']"
      ]
     },
     "execution_count": 17,
     "metadata": {},
     "output_type": "execute_result"
    }
   ],
   "source": [
    "itables.options.classes"
   ]
  },
  {
   "cell_type": "code",
   "execution_count": 18,
   "metadata": {},
   "outputs": [
    {
     "data": {
      "text/plain": [
       "['display']"
      ]
     },
     "execution_count": 18,
     "metadata": {},
     "output_type": "execute_result"
    }
   ],
   "source": [
    "opt.classes"
   ]
  },
  {
   "cell_type": "code",
   "execution_count": 37,
   "metadata": {},
   "outputs": [
    {
     "name": "stderr",
     "output_type": "stream",
     "text": [
      "WARNING:itables.downsample:showing 205x20 of 205x26 as maxColumns=20. See https://mwouts.github.io/itables/#downsampling\n"
     ]
    },
    {
     "data": {
      "text/html": [
       "<div><table id=\"55660897-ba43-4151-8c69-3b3012dc11b1\" class=\"display cell-border\"><thead>\n",
       "    <tr style=\"text-align: right;\">\n",
       "      \n",
       "      <th>symboling</th>\n",
       "      <th>normalized-losses</th>\n",
       "      <th>make</th>\n",
       "      <th>fuel-type</th>\n",
       "      <th>aspiration</th>\n",
       "      <th>num-of-doors</th>\n",
       "      <th>body-style</th>\n",
       "      <th>drive-wheels</th>\n",
       "      <th>engine-location</th>\n",
       "      <th>wheel-base</th>\n",
       "      <th>engine-size</th>\n",
       "      <th>fuel-system</th>\n",
       "      <th>bore</th>\n",
       "      <th>stroke</th>\n",
       "      <th>compression-ratio</th>\n",
       "      <th>horsepower</th>\n",
       "      <th>peak-rpm</th>\n",
       "      <th>city-mpg</th>\n",
       "      <th>highway-mpg</th>\n",
       "      <th>price</th>\n",
       "    </tr>\n",
       "  </thead></table>\n",
       "<script type=\"text/javascript\">\n",
       "require([\"datatables\"], function (datatables) {\n",
       "    $(document).ready(function () {\n",
       "        var dt_args = {\"columnDefs\": [{\"width\": \"70px\", \"targets\": \"_all\"}], \"lengthMenu\": [5, 10, 20, 50, 100, 200, 500], \"data\": [[3, \"?\", \"alfa-romero\", \"gas\", \"std\", \"two\", \"convertible\", \"rwd\", \"front\", 88.6, 130, \"mpfi\", \"3.47\", \"2.68\", 9.0, \"111\", \"5000\", 21, 27, \"13495\"], [3, \"?\", \"alfa-romero\", \"gas\", \"std\", \"two\", \"convertible\", \"rwd\", \"front\", 88.6, 130, \"mpfi\", \"3.47\", \"2.68\", 9.0, \"111\", \"5000\", 21, 27, \"16500\"], [1, \"?\", \"alfa-romero\", \"gas\", \"std\", \"two\", \"hatchback\", \"rwd\", \"front\", 94.5, 152, \"mpfi\", \"2.68\", \"3.47\", 9.0, \"154\", \"5000\", 19, 26, \"16500\"], [2, \"164\", \"audi\", \"gas\", \"std\", \"four\", \"sedan\", \"fwd\", \"front\", 99.8, 109, \"mpfi\", \"3.19\", \"3.40\", 10.0, \"102\", \"5500\", 24, 30, \"13950\"], [2, \"164\", \"audi\", \"gas\", \"std\", \"four\", \"sedan\", \"4wd\", \"front\", 99.4, 136, \"mpfi\", \"3.19\", \"3.40\", 8.0, \"115\", \"5500\", 18, 22, \"17450\"], [2, \"?\", \"audi\", \"gas\", \"std\", \"two\", \"sedan\", \"fwd\", \"front\", 99.8, 136, \"mpfi\", \"3.19\", \"3.40\", 8.5, \"110\", \"5500\", 19, 25, \"15250\"], [1, \"158\", \"audi\", \"gas\", \"std\", \"four\", \"sedan\", \"fwd\", \"front\", 105.8, 136, \"mpfi\", \"3.19\", \"3.40\", 8.5, \"110\", \"5500\", 19, 25, \"17710\"], [1, \"?\", \"audi\", \"gas\", \"std\", \"four\", \"wagon\", \"fwd\", \"front\", 105.8, 136, \"mpfi\", \"3.19\", \"3.40\", 8.5, \"110\", \"5500\", 19, 25, \"18920\"], [1, \"158\", \"audi\", \"gas\", \"turbo\", \"four\", \"sedan\", \"fwd\", \"front\", 105.8, 131, \"mpfi\", \"3.13\", \"3.40\", 8.3, \"140\", \"5500\", 17, 20, \"23875\"], [0, \"?\", \"audi\", \"gas\", \"turbo\", \"two\", \"hatchback\", \"4wd\", \"front\", 99.5, 131, \"mpfi\", \"3.13\", \"3.40\", 7.0, \"160\", \"5500\", 16, 22, \"?\"], [2, \"192\", \"bmw\", \"gas\", \"std\", \"two\", \"sedan\", \"rwd\", \"front\", 101.2, 108, \"mpfi\", \"3.50\", \"2.80\", 8.8, \"101\", \"5800\", 23, 29, \"16430\"], [0, \"192\", \"bmw\", \"gas\", \"std\", \"four\", \"sedan\", \"rwd\", \"front\", 101.2, 108, \"mpfi\", \"3.50\", \"2.80\", 8.8, \"101\", \"5800\", 23, 29, \"16925\"], [0, \"188\", \"bmw\", \"gas\", \"std\", \"two\", \"sedan\", \"rwd\", \"front\", 101.2, 164, \"mpfi\", \"3.31\", \"3.19\", 9.0, \"121\", \"4250\", 21, 28, \"20970\"], [0, \"188\", \"bmw\", \"gas\", \"std\", \"four\", \"sedan\", \"rwd\", \"front\", 101.2, 164, \"mpfi\", \"3.31\", \"3.19\", 9.0, \"121\", \"4250\", 21, 28, \"21105\"], [1, \"?\", \"bmw\", \"gas\", \"std\", \"four\", \"sedan\", \"rwd\", \"front\", 103.5, 164, \"mpfi\", \"3.31\", \"3.19\", 9.0, \"121\", \"4250\", 20, 25, \"24565\"], [0, \"?\", \"bmw\", \"gas\", \"std\", \"four\", \"sedan\", \"rwd\", \"front\", 103.5, 209, \"mpfi\", \"3.62\", \"3.39\", 8.0, \"182\", \"5400\", 16, 22, \"30760\"], [0, \"?\", \"bmw\", \"gas\", \"std\", \"two\", \"sedan\", \"rwd\", \"front\", 103.5, 209, \"mpfi\", \"3.62\", \"3.39\", 8.0, \"182\", \"5400\", 16, 22, \"41315\"], [0, \"?\", \"bmw\", \"gas\", \"std\", \"four\", \"sedan\", \"rwd\", \"front\", 110.0, 209, \"mpfi\", \"3.62\", \"3.39\", 8.0, \"182\", \"5400\", 15, 20, \"36880\"], [2, \"121\", \"chevrolet\", \"gas\", \"std\", \"two\", \"hatchback\", \"fwd\", \"front\", 88.4, 61, \"2bbl\", \"2.91\", \"3.03\", 9.5, \"48\", \"5100\", 47, 53, \"5151\"], [1, \"98\", \"chevrolet\", \"gas\", \"std\", \"two\", \"hatchback\", \"fwd\", \"front\", 94.5, 90, \"2bbl\", \"3.03\", \"3.11\", 9.6, \"70\", \"5400\", 38, 43, \"6295\"], [0, \"81\", \"chevrolet\", \"gas\", \"std\", \"four\", \"sedan\", \"fwd\", \"front\", 94.5, 90, \"2bbl\", \"3.03\", \"3.11\", 9.6, \"70\", \"5400\", 38, 43, \"6575\"], [1, \"118\", \"dodge\", \"gas\", \"std\", \"two\", \"hatchback\", \"fwd\", \"front\", 93.7, 90, \"2bbl\", \"2.97\", \"3.23\", 9.41, \"68\", \"5500\", 37, 41, \"5572\"], [1, \"118\", \"dodge\", \"gas\", \"std\", \"two\", \"hatchback\", \"fwd\", \"front\", 93.7, 90, \"2bbl\", \"2.97\", \"3.23\", 9.4, \"68\", \"5500\", 31, 38, \"6377\"], [1, \"118\", \"dodge\", \"gas\", \"turbo\", \"two\", \"hatchback\", \"fwd\", \"front\", 93.7, 98, \"mpfi\", \"3.03\", \"3.39\", 7.6, \"102\", \"5500\", 24, 30, \"7957\"], [1, \"148\", \"dodge\", \"gas\", \"std\", \"four\", \"hatchback\", \"fwd\", \"front\", 93.7, 90, \"2bbl\", \"2.97\", \"3.23\", 9.4, \"68\", \"5500\", 31, 38, \"6229\"], [1, \"148\", \"dodge\", \"gas\", \"std\", \"four\", \"sedan\", \"fwd\", \"front\", 93.7, 90, \"2bbl\", \"2.97\", \"3.23\", 9.4, \"68\", \"5500\", 31, 38, \"6692\"], [1, \"148\", \"dodge\", \"gas\", \"std\", \"four\", \"sedan\", \"fwd\", \"front\", 93.7, 90, \"2bbl\", \"2.97\", \"3.23\", 9.4, \"68\", \"5500\", 31, 38, \"7609\"], [1, \"148\", \"dodge\", \"gas\", \"turbo\", \"?\", \"sedan\", \"fwd\", \"front\", 93.7, 98, \"mpfi\", \"3.03\", \"3.39\", 7.6, \"102\", \"5500\", 24, 30, \"8558\"], [-1, \"110\", \"dodge\", \"gas\", \"std\", \"four\", \"wagon\", \"fwd\", \"front\", 103.3, 122, \"2bbl\", \"3.34\", \"3.46\", 8.5, \"88\", \"5000\", 24, 30, \"8921\"], [3, \"145\", \"dodge\", \"gas\", \"turbo\", \"two\", \"hatchback\", \"fwd\", \"front\", 95.9, 156, \"mfi\", \"3.60\", \"3.90\", 7.0, \"145\", \"5000\", 19, 24, \"12964\"], [2, \"137\", \"honda\", \"gas\", \"std\", \"two\", \"hatchback\", \"fwd\", \"front\", 86.6, 92, \"1bbl\", \"2.91\", \"3.41\", 9.6, \"58\", \"4800\", 49, 54, \"6479\"], [2, \"137\", \"honda\", \"gas\", \"std\", \"two\", \"hatchback\", \"fwd\", \"front\", 86.6, 92, \"1bbl\", \"2.91\", \"3.41\", 9.2, \"76\", \"6000\", 31, 38, \"6855\"], [1, \"101\", \"honda\", \"gas\", \"std\", \"two\", \"hatchback\", \"fwd\", \"front\", 93.7, 79, \"1bbl\", \"2.91\", \"3.07\", 10.1, \"60\", \"5500\", 38, 42, \"5399\"], [1, \"101\", \"honda\", \"gas\", \"std\", \"two\", \"hatchback\", \"fwd\", \"front\", 93.7, 92, \"1bbl\", \"2.91\", \"3.41\", 9.2, \"76\", \"6000\", 30, 34, \"6529\"], [1, \"101\", \"honda\", \"gas\", \"std\", \"two\", \"hatchback\", \"fwd\", \"front\", 93.7, 92, \"1bbl\", \"2.91\", \"3.41\", 9.2, \"76\", \"6000\", 30, 34, \"7129\"], [0, \"110\", \"honda\", \"gas\", \"std\", \"four\", \"sedan\", \"fwd\", \"front\", 96.5, 92, \"1bbl\", \"2.91\", \"3.41\", 9.2, \"76\", \"6000\", 30, 34, \"7295\"], [0, \"78\", \"honda\", \"gas\", \"std\", \"four\", \"wagon\", \"fwd\", \"front\", 96.5, 92, \"1bbl\", \"2.92\", \"3.41\", 9.2, \"76\", \"6000\", 30, 34, \"7295\"], [0, \"106\", \"honda\", \"gas\", \"std\", \"two\", \"hatchback\", \"fwd\", \"front\", 96.5, 110, \"1bbl\", \"3.15\", \"3.58\", 9.0, \"86\", \"5800\", 27, 33, \"7895\"], [0, \"106\", \"honda\", \"gas\", \"std\", \"two\", \"hatchback\", \"fwd\", \"front\", 96.5, 110, \"1bbl\", \"3.15\", \"3.58\", 9.0, \"86\", \"5800\", 27, 33, \"9095\"], [0, \"85\", \"honda\", \"gas\", \"std\", \"four\", \"sedan\", \"fwd\", \"front\", 96.5, 110, \"1bbl\", \"3.15\", \"3.58\", 9.0, \"86\", \"5800\", 27, 33, \"8845\"], [0, \"85\", \"honda\", \"gas\", \"std\", \"four\", \"sedan\", \"fwd\", \"front\", 96.5, 110, \"1bbl\", \"3.15\", \"3.58\", 9.0, \"86\", \"5800\", 27, 33, \"10295\"], [0, \"85\", \"honda\", \"gas\", \"std\", \"four\", \"sedan\", \"fwd\", \"front\", 96.5, 110, \"mpfi\", \"3.15\", \"3.58\", 9.0, \"101\", \"5800\", 24, 28, \"12945\"], [1, \"107\", \"honda\", \"gas\", \"std\", \"two\", \"sedan\", \"fwd\", \"front\", 96.5, 110, \"2bbl\", \"3.15\", \"3.58\", 9.1, \"100\", \"5500\", 25, 31, \"10345\"], [0, \"?\", \"isuzu\", \"gas\", \"std\", \"four\", \"sedan\", \"rwd\", \"front\", 94.3, 111, \"2bbl\", \"3.31\", \"3.23\", 8.5, \"78\", \"4800\", 24, 29, \"6785\"], [1, \"?\", \"isuzu\", \"gas\", \"std\", \"two\", \"sedan\", \"fwd\", \"front\", 94.5, 90, \"2bbl\", \"3.03\", \"3.11\", 9.6, \"70\", \"5400\", 38, 43, \"?\"], [0, \"?\", \"isuzu\", \"gas\", \"std\", \"four\", \"sedan\", \"fwd\", \"front\", 94.5, 90, \"2bbl\", \"3.03\", \"3.11\", 9.6, \"70\", \"5400\", 38, 43, \"?\"], [2, \"?\", \"isuzu\", \"gas\", \"std\", \"two\", \"hatchback\", \"rwd\", \"front\", 96.0, 119, \"spfi\", \"3.43\", \"3.23\", 9.2, \"90\", \"5000\", 24, 29, \"11048\"], [0, \"145\", \"jaguar\", \"gas\", \"std\", \"four\", \"sedan\", \"rwd\", \"front\", 113.0, 258, \"mpfi\", \"3.63\", \"4.17\", 8.1, \"176\", \"4750\", 15, 19, \"32250\"], [0, \"?\", \"jaguar\", \"gas\", \"std\", \"four\", \"sedan\", \"rwd\", \"front\", 113.0, 258, \"mpfi\", \"3.63\", \"4.17\", 8.1, \"176\", \"4750\", 15, 19, \"35550\"], [0, \"?\", \"jaguar\", \"gas\", \"std\", \"two\", \"sedan\", \"rwd\", \"front\", 102.0, 326, \"mpfi\", \"3.54\", \"2.76\", 11.5, \"262\", \"5000\", 13, 17, \"36000\"], [1, \"104\", \"mazda\", \"gas\", \"std\", \"two\", \"hatchback\", \"fwd\", \"front\", 93.1, 91, \"2bbl\", \"3.03\", \"3.15\", 9.0, \"68\", \"5000\", 30, 31, \"5195\"], [1, \"104\", \"mazda\", \"gas\", \"std\", \"two\", \"hatchback\", \"fwd\", \"front\", 93.1, 91, \"2bbl\", \"3.03\", \"3.15\", 9.0, \"68\", \"5000\", 31, 38, \"6095\"], [1, \"104\", \"mazda\", \"gas\", \"std\", \"two\", \"hatchback\", \"fwd\", \"front\", 93.1, 91, \"2bbl\", \"3.03\", \"3.15\", 9.0, \"68\", \"5000\", 31, 38, \"6795\"], [1, \"113\", \"mazda\", \"gas\", \"std\", \"four\", \"sedan\", \"fwd\", \"front\", 93.1, 91, \"2bbl\", \"3.03\", \"3.15\", 9.0, \"68\", \"5000\", 31, 38, \"6695\"], [1, \"113\", \"mazda\", \"gas\", \"std\", \"four\", \"sedan\", \"fwd\", \"front\", 93.1, 91, \"2bbl\", \"3.08\", \"3.15\", 9.0, \"68\", \"5000\", 31, 38, \"7395\"], [3, \"150\", \"mazda\", \"gas\", \"std\", \"two\", \"hatchback\", \"rwd\", \"front\", 95.3, 70, \"4bbl\", \"?\", \"?\", 9.4, \"101\", \"6000\", 17, 23, \"10945\"], [3, \"150\", \"mazda\", \"gas\", \"std\", \"two\", \"hatchback\", \"rwd\", \"front\", 95.3, 70, \"4bbl\", \"?\", \"?\", 9.4, \"101\", \"6000\", 17, 23, \"11845\"], [3, \"150\", \"mazda\", \"gas\", \"std\", \"two\", \"hatchback\", \"rwd\", \"front\", 95.3, 70, \"4bbl\", \"?\", \"?\", 9.4, \"101\", \"6000\", 17, 23, \"13645\"], [3, \"150\", \"mazda\", \"gas\", \"std\", \"two\", \"hatchback\", \"rwd\", \"front\", 95.3, 80, \"mpfi\", \"?\", \"?\", 9.4, \"135\", \"6000\", 16, 23, \"15645\"], [1, \"129\", \"mazda\", \"gas\", \"std\", \"two\", \"hatchback\", \"fwd\", \"front\", 98.8, 122, \"2bbl\", \"3.39\", \"3.39\", 8.6, \"84\", \"4800\", 26, 32, \"8845\"], [0, \"115\", \"mazda\", \"gas\", \"std\", \"four\", \"sedan\", \"fwd\", \"front\", 98.8, 122, \"2bbl\", \"3.39\", \"3.39\", 8.6, \"84\", \"4800\", 26, 32, \"8495\"], [1, \"129\", \"mazda\", \"gas\", \"std\", \"two\", \"hatchback\", \"fwd\", \"front\", 98.8, 122, \"2bbl\", \"3.39\", \"3.39\", 8.6, \"84\", \"4800\", 26, 32, \"10595\"], [0, \"115\", \"mazda\", \"gas\", \"std\", \"four\", \"sedan\", \"fwd\", \"front\", 98.8, 122, \"2bbl\", \"3.39\", \"3.39\", 8.6, \"84\", \"4800\", 26, 32, \"10245\"], [0, \"?\", \"mazda\", \"diesel\", \"std\", \"?\", \"sedan\", \"fwd\", \"front\", 98.8, 122, \"idi\", \"3.39\", \"3.39\", 22.7, \"64\", \"4650\", 36, 42, \"10795\"], [0, \"115\", \"mazda\", \"gas\", \"std\", \"four\", \"hatchback\", \"fwd\", \"front\", 98.8, 122, \"2bbl\", \"3.39\", \"3.39\", 8.6, \"84\", \"4800\", 26, 32, \"11245\"], [0, \"118\", \"mazda\", \"gas\", \"std\", \"four\", \"sedan\", \"rwd\", \"front\", 104.9, 140, \"mpfi\", \"3.76\", \"3.16\", 8.0, \"120\", \"5000\", 19, 27, \"18280\"], [0, \"?\", \"mazda\", \"diesel\", \"std\", \"four\", \"sedan\", \"rwd\", \"front\", 104.9, 134, \"idi\", \"3.43\", \"3.64\", 22.0, \"72\", \"4200\", 31, 39, \"18344\"], [-1, \"93\", \"mercedes-benz\", \"diesel\", \"turbo\", \"four\", \"sedan\", \"rwd\", \"front\", 110.0, 183, \"idi\", \"3.58\", \"3.64\", 21.5, \"123\", \"4350\", 22, 25, \"25552\"], [-1, \"93\", \"mercedes-benz\", \"diesel\", \"turbo\", \"four\", \"wagon\", \"rwd\", \"front\", 110.0, 183, \"idi\", \"3.58\", \"3.64\", 21.5, \"123\", \"4350\", 22, 25, \"28248\"], [0, \"93\", \"mercedes-benz\", \"diesel\", \"turbo\", \"two\", \"hardtop\", \"rwd\", \"front\", 106.7, 183, \"idi\", \"3.58\", \"3.64\", 21.5, \"123\", \"4350\", 22, 25, \"28176\"], [-1, \"93\", \"mercedes-benz\", \"diesel\", \"turbo\", \"four\", \"sedan\", \"rwd\", \"front\", 115.6, 183, \"idi\", \"3.58\", \"3.64\", 21.5, \"123\", \"4350\", 22, 25, \"31600\"], [-1, \"?\", \"mercedes-benz\", \"gas\", \"std\", \"four\", \"sedan\", \"rwd\", \"front\", 115.6, 234, \"mpfi\", \"3.46\", \"3.10\", 8.3, \"155\", \"4750\", 16, 18, \"34184\"], [3, \"142\", \"mercedes-benz\", \"gas\", \"std\", \"two\", \"convertible\", \"rwd\", \"front\", 96.6, 234, \"mpfi\", \"3.46\", \"3.10\", 8.3, \"155\", \"4750\", 16, 18, \"35056\"], [0, \"?\", \"mercedes-benz\", \"gas\", \"std\", \"four\", \"sedan\", \"rwd\", \"front\", 120.9, 308, \"mpfi\", \"3.80\", \"3.35\", 8.0, \"184\", \"4500\", 14, 16, \"40960\"], [1, \"?\", \"mercedes-benz\", \"gas\", \"std\", \"two\", \"hardtop\", \"rwd\", \"front\", 112.0, 304, \"mpfi\", \"3.80\", \"3.35\", 8.0, \"184\", \"4500\", 14, 16, \"45400\"], [1, \"?\", \"mercury\", \"gas\", \"turbo\", \"two\", \"hatchback\", \"rwd\", \"front\", 102.7, 140, \"mpfi\", \"3.78\", \"3.12\", 8.0, \"175\", \"5000\", 19, 24, \"16503\"], [2, \"161\", \"mitsubishi\", \"gas\", \"std\", \"two\", \"hatchback\", \"fwd\", \"front\", 93.7, 92, \"2bbl\", \"2.97\", \"3.23\", 9.4, \"68\", \"5500\", 37, 41, \"5389\"], [2, \"161\", \"mitsubishi\", \"gas\", \"std\", \"two\", \"hatchback\", \"fwd\", \"front\", 93.7, 92, \"2bbl\", \"2.97\", \"3.23\", 9.4, \"68\", \"5500\", 31, 38, \"6189\"], [2, \"161\", \"mitsubishi\", \"gas\", \"std\", \"two\", \"hatchback\", \"fwd\", \"front\", 93.7, 92, \"2bbl\", \"2.97\", \"3.23\", 9.4, \"68\", \"5500\", 31, 38, \"6669\"], [1, \"161\", \"mitsubishi\", \"gas\", \"turbo\", \"two\", \"hatchback\", \"fwd\", \"front\", 93.0, 98, \"spdi\", \"3.03\", \"3.39\", 7.6, \"102\", \"5500\", 24, 30, \"7689\"], [3, \"153\", \"mitsubishi\", \"gas\", \"turbo\", \"two\", \"hatchback\", \"fwd\", \"front\", 96.3, 110, \"spdi\", \"3.17\", \"3.46\", 7.5, \"116\", \"5500\", 23, 30, \"9959\"], [3, \"153\", \"mitsubishi\", \"gas\", \"std\", \"two\", \"hatchback\", \"fwd\", \"front\", 96.3, 122, \"2bbl\", \"3.35\", \"3.46\", 8.5, \"88\", \"5000\", 25, 32, \"8499\"], [3, \"?\", \"mitsubishi\", \"gas\", \"turbo\", \"two\", \"hatchback\", \"fwd\", \"front\", 95.9, 156, \"spdi\", \"3.58\", \"3.86\", 7.0, \"145\", \"5000\", 19, 24, \"12629\"], [3, \"?\", \"mitsubishi\", \"gas\", \"turbo\", \"two\", \"hatchback\", \"fwd\", \"front\", 95.9, 156, \"spdi\", \"3.59\", \"3.86\", 7.0, \"145\", \"5000\", 19, 24, \"14869\"], [3, \"?\", \"mitsubishi\", \"gas\", \"turbo\", \"two\", \"hatchback\", \"fwd\", \"front\", 95.9, 156, \"spdi\", \"3.59\", \"3.86\", 7.0, \"145\", \"5000\", 19, 24, \"14489\"], [1, \"125\", \"mitsubishi\", \"gas\", \"std\", \"four\", \"sedan\", \"fwd\", \"front\", 96.3, 122, \"2bbl\", \"3.35\", \"3.46\", 8.5, \"88\", \"5000\", 25, 32, \"6989\"], [1, \"125\", \"mitsubishi\", \"gas\", \"std\", \"four\", \"sedan\", \"fwd\", \"front\", 96.3, 122, \"2bbl\", \"3.35\", \"3.46\", 8.5, \"88\", \"5000\", 25, 32, \"8189\"], [1, \"125\", \"mitsubishi\", \"gas\", \"turbo\", \"four\", \"sedan\", \"fwd\", \"front\", 96.3, 110, \"spdi\", \"3.17\", \"3.46\", 7.5, \"116\", \"5500\", 23, 30, \"9279\"], [-1, \"137\", \"mitsubishi\", \"gas\", \"std\", \"four\", \"sedan\", \"fwd\", \"front\", 96.3, 110, \"spdi\", \"3.17\", \"3.46\", 7.5, \"116\", \"5500\", 23, 30, \"9279\"], [1, \"128\", \"nissan\", \"gas\", \"std\", \"two\", \"sedan\", \"fwd\", \"front\", 94.5, 97, \"2bbl\", \"3.15\", \"3.29\", 9.4, \"69\", \"5200\", 31, 37, \"5499\"], [1, \"128\", \"nissan\", \"diesel\", \"std\", \"two\", \"sedan\", \"fwd\", \"front\", 94.5, 103, \"idi\", \"2.99\", \"3.47\", 21.9, \"55\", \"4800\", 45, 50, \"7099\"], [1, \"128\", \"nissan\", \"gas\", \"std\", \"two\", \"sedan\", \"fwd\", \"front\", 94.5, 97, \"2bbl\", \"3.15\", \"3.29\", 9.4, \"69\", \"5200\", 31, 37, \"6649\"], [1, \"122\", \"nissan\", \"gas\", \"std\", \"four\", \"sedan\", \"fwd\", \"front\", 94.5, 97, \"2bbl\", \"3.15\", \"3.29\", 9.4, \"69\", \"5200\", 31, 37, \"6849\"], [1, \"103\", \"nissan\", \"gas\", \"std\", \"four\", \"wagon\", \"fwd\", \"front\", 94.5, 97, \"2bbl\", \"3.15\", \"3.29\", 9.4, \"69\", \"5200\", 31, 37, \"7349\"], [1, \"128\", \"nissan\", \"gas\", \"std\", \"two\", \"sedan\", \"fwd\", \"front\", 94.5, 97, \"2bbl\", \"3.15\", \"3.29\", 9.4, \"69\", \"5200\", 31, 37, \"7299\"], [1, \"128\", \"nissan\", \"gas\", \"std\", \"two\", \"hatchback\", \"fwd\", \"front\", 94.5, 97, \"2bbl\", \"3.15\", \"3.29\", 9.4, \"69\", \"5200\", 31, 37, \"7799\"], [1, \"122\", \"nissan\", \"gas\", \"std\", \"four\", \"sedan\", \"fwd\", \"front\", 94.5, 97, \"2bbl\", \"3.15\", \"3.29\", 9.4, \"69\", \"5200\", 31, 37, \"7499\"], [1, \"103\", \"nissan\", \"gas\", \"std\", \"four\", \"wagon\", \"fwd\", \"front\", 94.5, 97, \"2bbl\", \"3.15\", \"3.29\", 9.4, \"69\", \"5200\", 31, 37, \"7999\"], [2, \"168\", \"nissan\", \"gas\", \"std\", \"two\", \"hardtop\", \"fwd\", \"front\", 95.1, 97, \"2bbl\", \"3.15\", \"3.29\", 9.4, \"69\", \"5200\", 31, 37, \"8249\"], [0, \"106\", \"nissan\", \"gas\", \"std\", \"four\", \"hatchback\", \"fwd\", \"front\", 97.2, 120, \"2bbl\", \"3.33\", \"3.47\", 8.5, \"97\", \"5200\", 27, 34, \"8949\"], [0, \"106\", \"nissan\", \"gas\", \"std\", \"four\", \"sedan\", \"fwd\", \"front\", 97.2, 120, \"2bbl\", \"3.33\", \"3.47\", 8.5, \"97\", \"5200\", 27, 34, \"9549\"], [0, \"128\", \"nissan\", \"gas\", \"std\", \"four\", \"sedan\", \"fwd\", \"front\", 100.4, 181, \"mpfi\", \"3.43\", \"3.27\", 9.0, \"152\", \"5200\", 17, 22, \"13499\"], [0, \"108\", \"nissan\", \"gas\", \"std\", \"four\", \"wagon\", \"fwd\", \"front\", 100.4, 181, \"mpfi\", \"3.43\", \"3.27\", 9.0, \"152\", \"5200\", 17, 22, \"14399\"], [0, \"108\", \"nissan\", \"gas\", \"std\", \"four\", \"sedan\", \"fwd\", \"front\", 100.4, 181, \"mpfi\", \"3.43\", \"3.27\", 9.0, \"152\", \"5200\", 19, 25, \"13499\"], [3, \"194\", \"nissan\", \"gas\", \"std\", \"two\", \"hatchback\", \"rwd\", \"front\", 91.3, 181, \"mpfi\", \"3.43\", \"3.27\", 9.0, \"160\", \"5200\", 19, 25, \"17199\"], [3, \"194\", \"nissan\", \"gas\", \"turbo\", \"two\", \"hatchback\", \"rwd\", \"front\", 91.3, 181, \"mpfi\", \"3.43\", \"3.27\", 7.8, \"200\", \"5200\", 17, 23, \"19699\"], [1, \"231\", \"nissan\", \"gas\", \"std\", \"two\", \"hatchback\", \"rwd\", \"front\", 99.2, 181, \"mpfi\", \"3.43\", \"3.27\", 9.0, \"160\", \"5200\", 19, 25, \"18399\"], [0, \"161\", \"peugot\", \"gas\", \"std\", \"four\", \"sedan\", \"rwd\", \"front\", 107.9, 120, \"mpfi\", \"3.46\", \"3.19\", 8.4, \"97\", \"5000\", 19, 24, \"11900\"], [0, \"161\", \"peugot\", \"diesel\", \"turbo\", \"four\", \"sedan\", \"rwd\", \"front\", 107.9, 152, \"idi\", \"3.70\", \"3.52\", 21.0, \"95\", \"4150\", 28, 33, \"13200\"], [0, \"?\", \"peugot\", \"gas\", \"std\", \"four\", \"wagon\", \"rwd\", \"front\", 114.2, 120, \"mpfi\", \"3.46\", \"3.19\", 8.4, \"97\", \"5000\", 19, 24, \"12440\"], [0, \"?\", \"peugot\", \"diesel\", \"turbo\", \"four\", \"wagon\", \"rwd\", \"front\", 114.2, 152, \"idi\", \"3.70\", \"3.52\", 21.0, \"95\", \"4150\", 25, 25, \"13860\"], [0, \"161\", \"peugot\", \"gas\", \"std\", \"four\", \"sedan\", \"rwd\", \"front\", 107.9, 120, \"mpfi\", \"3.46\", \"2.19\", 8.4, \"95\", \"5000\", 19, 24, \"15580\"], [0, \"161\", \"peugot\", \"diesel\", \"turbo\", \"four\", \"sedan\", \"rwd\", \"front\", 107.9, 152, \"idi\", \"3.70\", \"3.52\", 21.0, \"95\", \"4150\", 28, 33, \"16900\"], [0, \"?\", \"peugot\", \"gas\", \"std\", \"four\", \"wagon\", \"rwd\", \"front\", 114.2, 120, \"mpfi\", \"3.46\", \"2.19\", 8.4, \"95\", \"5000\", 19, 24, \"16695\"], [0, \"?\", \"peugot\", \"diesel\", \"turbo\", \"four\", \"wagon\", \"rwd\", \"front\", 114.2, 152, \"idi\", \"3.70\", \"3.52\", 21.0, \"95\", \"4150\", 25, 25, \"17075\"], [0, \"161\", \"peugot\", \"gas\", \"std\", \"four\", \"sedan\", \"rwd\", \"front\", 107.9, 120, \"mpfi\", \"3.46\", \"3.19\", 8.4, \"97\", \"5000\", 19, 24, \"16630\"], [0, \"161\", \"peugot\", \"diesel\", \"turbo\", \"four\", \"sedan\", \"rwd\", \"front\", 107.9, 152, \"idi\", \"3.70\", \"3.52\", 21.0, \"95\", \"4150\", 28, 33, \"17950\"], [0, \"161\", \"peugot\", \"gas\", \"turbo\", \"four\", \"sedan\", \"rwd\", \"front\", 108.0, 134, \"mpfi\", \"3.61\", \"3.21\", 7.0, \"142\", \"5600\", 18, 24, \"18150\"], [1, \"119\", \"plymouth\", \"gas\", \"std\", \"two\", \"hatchback\", \"fwd\", \"front\", 93.7, 90, \"2bbl\", \"2.97\", \"3.23\", 9.4, \"68\", \"5500\", 37, 41, \"5572\"], [1, \"119\", \"plymouth\", \"gas\", \"turbo\", \"two\", \"hatchback\", \"fwd\", \"front\", 93.7, 98, \"spdi\", \"3.03\", \"3.39\", 7.6, \"102\", \"5500\", 24, 30, \"7957\"], [1, \"154\", \"plymouth\", \"gas\", \"std\", \"four\", \"hatchback\", \"fwd\", \"front\", 93.7, 90, \"2bbl\", \"2.97\", \"3.23\", 9.4, \"68\", \"5500\", 31, 38, \"6229\"], [1, \"154\", \"plymouth\", \"gas\", \"std\", \"four\", \"sedan\", \"fwd\", \"front\", 93.7, 90, \"2bbl\", \"2.97\", \"3.23\", 9.4, \"68\", \"5500\", 31, 38, \"6692\"], [1, \"154\", \"plymouth\", \"gas\", \"std\", \"four\", \"sedan\", \"fwd\", \"front\", 93.7, 98, \"2bbl\", \"2.97\", \"3.23\", 9.4, \"68\", \"5500\", 31, 38, \"7609\"], [-1, \"74\", \"plymouth\", \"gas\", \"std\", \"four\", \"wagon\", \"fwd\", \"front\", 103.3, 122, \"2bbl\", \"3.35\", \"3.46\", 8.5, \"88\", \"5000\", 24, 30, \"8921\"], [3, \"?\", \"plymouth\", \"gas\", \"turbo\", \"two\", \"hatchback\", \"rwd\", \"front\", 95.9, 156, \"spdi\", \"3.59\", \"3.86\", 7.0, \"145\", \"5000\", 19, 24, \"12764\"], [3, \"186\", \"porsche\", \"gas\", \"std\", \"two\", \"hatchback\", \"rwd\", \"front\", 94.5, 151, \"mpfi\", \"3.94\", \"3.11\", 9.5, \"143\", \"5500\", 19, 27, \"22018\"], [3, \"?\", \"porsche\", \"gas\", \"std\", \"two\", \"hardtop\", \"rwd\", \"rear\", 89.5, 194, \"mpfi\", \"3.74\", \"2.90\", 9.5, \"207\", \"5900\", 17, 25, \"32528\"], [3, \"?\", \"porsche\", \"gas\", \"std\", \"two\", \"hardtop\", \"rwd\", \"rear\", 89.5, 194, \"mpfi\", \"3.74\", \"2.90\", 9.5, \"207\", \"5900\", 17, 25, \"34028\"], [3, \"?\", \"porsche\", \"gas\", \"std\", \"two\", \"convertible\", \"rwd\", \"rear\", 89.5, 194, \"mpfi\", \"3.74\", \"2.90\", 9.5, \"207\", \"5900\", 17, 25, \"37028\"], [1, \"?\", \"porsche\", \"gas\", \"std\", \"two\", \"hatchback\", \"rwd\", \"front\", 98.4, 203, \"mpfi\", \"3.94\", \"3.11\", 10.0, \"288\", \"5750\", 17, 28, \"?\"], [0, \"?\", \"renault\", \"gas\", \"std\", \"four\", \"wagon\", \"fwd\", \"front\", 96.1, 132, \"mpfi\", \"3.46\", \"3.90\", 8.7, \"?\", \"?\", 23, 31, \"9295\"], [2, \"?\", \"renault\", \"gas\", \"std\", \"two\", \"hatchback\", \"fwd\", \"front\", 96.1, 132, \"mpfi\", \"3.46\", \"3.90\", 8.7, \"?\", \"?\", 23, 31, \"9895\"], [3, \"150\", \"saab\", \"gas\", \"std\", \"two\", \"hatchback\", \"fwd\", \"front\", 99.1, 121, \"mpfi\", \"3.54\", \"3.07\", 9.31, \"110\", \"5250\", 21, 28, \"11850\"], [2, \"104\", \"saab\", \"gas\", \"std\", \"four\", \"sedan\", \"fwd\", \"front\", 99.1, 121, \"mpfi\", \"3.54\", \"3.07\", 9.3, \"110\", \"5250\", 21, 28, \"12170\"], [3, \"150\", \"saab\", \"gas\", \"std\", \"two\", \"hatchback\", \"fwd\", \"front\", 99.1, 121, \"mpfi\", \"2.54\", \"2.07\", 9.3, \"110\", \"5250\", 21, 28, \"15040\"], [2, \"104\", \"saab\", \"gas\", \"std\", \"four\", \"sedan\", \"fwd\", \"front\", 99.1, 121, \"mpfi\", \"3.54\", \"3.07\", 9.3, \"110\", \"5250\", 21, 28, \"15510\"], [3, \"150\", \"saab\", \"gas\", \"turbo\", \"two\", \"hatchback\", \"fwd\", \"front\", 99.1, 121, \"mpfi\", \"3.54\", \"3.07\", 9.0, \"160\", \"5500\", 19, 26, \"18150\"], [2, \"104\", \"saab\", \"gas\", \"turbo\", \"four\", \"sedan\", \"fwd\", \"front\", 99.1, 121, \"mpfi\", \"3.54\", \"3.07\", 9.0, \"160\", \"5500\", 19, 26, \"18620\"], [2, \"83\", \"subaru\", \"gas\", \"std\", \"two\", \"hatchback\", \"fwd\", \"front\", 93.7, 97, \"2bbl\", \"3.62\", \"2.36\", 9.0, \"69\", \"4900\", 31, 36, \"5118\"], [2, \"83\", \"subaru\", \"gas\", \"std\", \"two\", \"hatchback\", \"fwd\", \"front\", 93.7, 108, \"2bbl\", \"3.62\", \"2.64\", 8.7, \"73\", \"4400\", 26, 31, \"7053\"], [2, \"83\", \"subaru\", \"gas\", \"std\", \"two\", \"hatchback\", \"4wd\", \"front\", 93.3, 108, \"2bbl\", \"3.62\", \"2.64\", 8.7, \"73\", \"4400\", 26, 31, \"7603\"], [0, \"102\", \"subaru\", \"gas\", \"std\", \"four\", \"sedan\", \"fwd\", \"front\", 97.2, 108, \"2bbl\", \"3.62\", \"2.64\", 9.5, \"82\", \"4800\", 32, 37, \"7126\"], [0, \"102\", \"subaru\", \"gas\", \"std\", \"four\", \"sedan\", \"fwd\", \"front\", 97.2, 108, \"2bbl\", \"3.62\", \"2.64\", 9.5, \"82\", \"4400\", 28, 33, \"7775\"], [0, \"102\", \"subaru\", \"gas\", \"std\", \"four\", \"sedan\", \"fwd\", \"front\", 97.2, 108, \"mpfi\", \"3.62\", \"2.64\", 9.0, \"94\", \"5200\", 26, 32, \"9960\"], [0, \"102\", \"subaru\", \"gas\", \"std\", \"four\", \"sedan\", \"4wd\", \"front\", 97.0, 108, \"2bbl\", \"3.62\", \"2.64\", 9.0, \"82\", \"4800\", 24, 25, \"9233\"], [0, \"102\", \"subaru\", \"gas\", \"turbo\", \"four\", \"sedan\", \"4wd\", \"front\", 97.0, 108, \"mpfi\", \"3.62\", \"2.64\", 7.7, \"111\", \"4800\", 24, 29, \"11259\"], [0, \"89\", \"subaru\", \"gas\", \"std\", \"four\", \"wagon\", \"fwd\", \"front\", 97.0, 108, \"2bbl\", \"3.62\", \"2.64\", 9.0, \"82\", \"4800\", 28, 32, \"7463\"], [0, \"89\", \"subaru\", \"gas\", \"std\", \"four\", \"wagon\", \"fwd\", \"front\", 97.0, 108, \"mpfi\", \"3.62\", \"2.64\", 9.0, \"94\", \"5200\", 25, 31, \"10198\"], [0, \"85\", \"subaru\", \"gas\", \"std\", \"four\", \"wagon\", \"4wd\", \"front\", 96.9, 108, \"2bbl\", \"3.62\", \"2.64\", 9.0, \"82\", \"4800\", 23, 29, \"8013\"], [0, \"85\", \"subaru\", \"gas\", \"turbo\", \"four\", \"wagon\", \"4wd\", \"front\", 96.9, 108, \"mpfi\", \"3.62\", \"2.64\", 7.7, \"111\", \"4800\", 23, 23, \"11694\"], [1, \"87\", \"toyota\", \"gas\", \"std\", \"two\", \"hatchback\", \"fwd\", \"front\", 95.7, 92, \"2bbl\", \"3.05\", \"3.03\", 9.0, \"62\", \"4800\", 35, 39, \"5348\"], [1, \"87\", \"toyota\", \"gas\", \"std\", \"two\", \"hatchback\", \"fwd\", \"front\", 95.7, 92, \"2bbl\", \"3.05\", \"3.03\", 9.0, \"62\", \"4800\", 31, 38, \"6338\"], [1, \"74\", \"toyota\", \"gas\", \"std\", \"four\", \"hatchback\", \"fwd\", \"front\", 95.7, 92, \"2bbl\", \"3.05\", \"3.03\", 9.0, \"62\", \"4800\", 31, 38, \"6488\"], [0, \"77\", \"toyota\", \"gas\", \"std\", \"four\", \"wagon\", \"fwd\", \"front\", 95.7, 92, \"2bbl\", \"3.05\", \"3.03\", 9.0, \"62\", \"4800\", 31, 37, \"6918\"], [0, \"81\", \"toyota\", \"gas\", \"std\", \"four\", \"wagon\", \"4wd\", \"front\", 95.7, 92, \"2bbl\", \"3.05\", \"3.03\", 9.0, \"62\", \"4800\", 27, 32, \"7898\"], [0, \"91\", \"toyota\", \"gas\", \"std\", \"four\", \"wagon\", \"4wd\", \"front\", 95.7, 92, \"2bbl\", \"3.05\", \"3.03\", 9.0, \"62\", \"4800\", 27, 32, \"8778\"], [0, \"91\", \"toyota\", \"gas\", \"std\", \"four\", \"sedan\", \"fwd\", \"front\", 95.7, 98, \"2bbl\", \"3.19\", \"3.03\", 9.0, \"70\", \"4800\", 30, 37, \"6938\"], [0, \"91\", \"toyota\", \"gas\", \"std\", \"four\", \"hatchback\", \"fwd\", \"front\", 95.7, 98, \"2bbl\", \"3.19\", \"3.03\", 9.0, \"70\", \"4800\", 30, 37, \"7198\"], [0, \"91\", \"toyota\", \"diesel\", \"std\", \"four\", \"sedan\", \"fwd\", \"front\", 95.7, 110, \"idi\", \"3.27\", \"3.35\", 22.5, \"56\", \"4500\", 34, 36, \"7898\"], [0, \"91\", \"toyota\", \"diesel\", \"std\", \"four\", \"hatchback\", \"fwd\", \"front\", 95.7, 110, \"idi\", \"3.27\", \"3.35\", 22.5, \"56\", \"4500\", 38, 47, \"7788\"], [0, \"91\", \"toyota\", \"gas\", \"std\", \"four\", \"sedan\", \"fwd\", \"front\", 95.7, 98, \"2bbl\", \"3.19\", \"3.03\", 9.0, \"70\", \"4800\", 38, 47, \"7738\"], [0, \"91\", \"toyota\", \"gas\", \"std\", \"four\", \"hatchback\", \"fwd\", \"front\", 95.7, 98, \"2bbl\", \"3.19\", \"3.03\", 9.0, \"70\", \"4800\", 28, 34, \"8358\"], [0, \"91\", \"toyota\", \"gas\", \"std\", \"four\", \"sedan\", \"fwd\", \"front\", 95.7, 98, \"2bbl\", \"3.19\", \"3.03\", 9.0, \"70\", \"4800\", 28, 34, \"9258\"], [1, \"168\", \"toyota\", \"gas\", \"std\", \"two\", \"sedan\", \"rwd\", \"front\", 94.5, 98, \"2bbl\", \"3.19\", \"3.03\", 9.0, \"70\", \"4800\", 29, 34, \"8058\"], [1, \"168\", \"toyota\", \"gas\", \"std\", \"two\", \"hatchback\", \"rwd\", \"front\", 94.5, 98, \"2bbl\", \"3.19\", \"3.03\", 9.0, \"70\", \"4800\", 29, 34, \"8238\"], [1, \"168\", \"toyota\", \"gas\", \"std\", \"two\", \"sedan\", \"rwd\", \"front\", 94.5, 98, \"mpfi\", \"3.24\", \"3.08\", 9.4, \"112\", \"6600\", 26, 29, \"9298\"], [1, \"168\", \"toyota\", \"gas\", \"std\", \"two\", \"hatchback\", \"rwd\", \"front\", 94.5, 98, \"mpfi\", \"3.24\", \"3.08\", 9.4, \"112\", \"6600\", 26, 29, \"9538\"], [2, \"134\", \"toyota\", \"gas\", \"std\", \"two\", \"hardtop\", \"rwd\", \"front\", 98.4, 146, \"mpfi\", \"3.62\", \"3.50\", 9.3, \"116\", \"4800\", 24, 30, \"8449\"], [2, \"134\", \"toyota\", \"gas\", \"std\", \"two\", \"hardtop\", \"rwd\", \"front\", 98.4, 146, \"mpfi\", \"3.62\", \"3.50\", 9.3, \"116\", \"4800\", 24, 30, \"9639\"], [2, \"134\", \"toyota\", \"gas\", \"std\", \"two\", \"hatchback\", \"rwd\", \"front\", 98.4, 146, \"mpfi\", \"3.62\", \"3.50\", 9.3, \"116\", \"4800\", 24, 30, \"9989\"], [2, \"134\", \"toyota\", \"gas\", \"std\", \"two\", \"hardtop\", \"rwd\", \"front\", 98.4, 146, \"mpfi\", \"3.62\", \"3.50\", 9.3, \"116\", \"4800\", 24, 30, \"11199\"], [2, \"134\", \"toyota\", \"gas\", \"std\", \"two\", \"hatchback\", \"rwd\", \"front\", 98.4, 146, \"mpfi\", \"3.62\", \"3.50\", 9.3, \"116\", \"4800\", 24, 30, \"11549\"], [2, \"134\", \"toyota\", \"gas\", \"std\", \"two\", \"convertible\", \"rwd\", \"front\", 98.4, 146, \"mpfi\", \"3.62\", \"3.50\", 9.3, \"116\", \"4800\", 24, 30, \"17669\"], [-1, \"65\", \"toyota\", \"gas\", \"std\", \"four\", \"sedan\", \"fwd\", \"front\", 102.4, 122, \"mpfi\", \"3.31\", \"3.54\", 8.7, \"92\", \"4200\", 29, 34, \"8948\"], [-1, \"65\", \"toyota\", \"diesel\", \"turbo\", \"four\", \"sedan\", \"fwd\", \"front\", 102.4, 110, \"idi\", \"3.27\", \"3.35\", 22.5, \"73\", \"4500\", 30, 33, \"10698\"], [-1, \"65\", \"toyota\", \"gas\", \"std\", \"four\", \"hatchback\", \"fwd\", \"front\", 102.4, 122, \"mpfi\", \"3.31\", \"3.54\", 8.7, \"92\", \"4200\", 27, 32, \"9988\"], [-1, \"65\", \"toyota\", \"gas\", \"std\", \"four\", \"sedan\", \"fwd\", \"front\", 102.4, 122, \"mpfi\", \"3.31\", \"3.54\", 8.7, \"92\", \"4200\", 27, 32, \"10898\"], [-1, \"65\", \"toyota\", \"gas\", \"std\", \"four\", \"hatchback\", \"fwd\", \"front\", 102.4, 122, \"mpfi\", \"3.31\", \"3.54\", 8.7, \"92\", \"4200\", 27, 32, \"11248\"], [3, \"197\", \"toyota\", \"gas\", \"std\", \"two\", \"hatchback\", \"rwd\", \"front\", 102.9, 171, \"mpfi\", \"3.27\", \"3.35\", 9.3, \"161\", \"5200\", 20, 24, \"16558\"], [3, \"197\", \"toyota\", \"gas\", \"std\", \"two\", \"hatchback\", \"rwd\", \"front\", 102.9, 171, \"mpfi\", \"3.27\", \"3.35\", 9.3, \"161\", \"5200\", 19, 24, \"15998\"], [-1, \"90\", \"toyota\", \"gas\", \"std\", \"four\", \"sedan\", \"rwd\", \"front\", 104.5, 171, \"mpfi\", \"3.27\", \"3.35\", 9.2, \"156\", \"5200\", 20, 24, \"15690\"], [-1, \"?\", \"toyota\", \"gas\", \"std\", \"four\", \"wagon\", \"rwd\", \"front\", 104.5, 161, \"mpfi\", \"3.27\", \"3.35\", 9.2, \"156\", \"5200\", 19, 24, \"15750\"], [2, \"122\", \"volkswagen\", \"diesel\", \"std\", \"two\", \"sedan\", \"fwd\", \"front\", 97.3, 97, \"idi\", \"3.01\", \"3.40\", 23.0, \"52\", \"4800\", 37, 46, \"7775\"], [2, \"122\", \"volkswagen\", \"gas\", \"std\", \"two\", \"sedan\", \"fwd\", \"front\", 97.3, 109, \"mpfi\", \"3.19\", \"3.40\", 9.0, \"85\", \"5250\", 27, 34, \"7975\"], [2, \"94\", \"volkswagen\", \"diesel\", \"std\", \"four\", \"sedan\", \"fwd\", \"front\", 97.3, 97, \"idi\", \"3.01\", \"3.40\", 23.0, \"52\", \"4800\", 37, 46, \"7995\"], [2, \"94\", \"volkswagen\", \"gas\", \"std\", \"four\", \"sedan\", \"fwd\", \"front\", 97.3, 109, \"mpfi\", \"3.19\", \"3.40\", 9.0, \"85\", \"5250\", 27, 34, \"8195\"], [2, \"94\", \"volkswagen\", \"gas\", \"std\", \"four\", \"sedan\", \"fwd\", \"front\", 97.3, 109, \"mpfi\", \"3.19\", \"3.40\", 9.0, \"85\", \"5250\", 27, 34, \"8495\"], [2, \"94\", \"volkswagen\", \"diesel\", \"turbo\", \"four\", \"sedan\", \"fwd\", \"front\", 97.3, 97, \"idi\", \"3.01\", \"3.40\", 23.0, \"68\", \"4500\", 37, 42, \"9495\"], [2, \"94\", \"volkswagen\", \"gas\", \"std\", \"four\", \"sedan\", \"fwd\", \"front\", 97.3, 109, \"mpfi\", \"3.19\", \"3.40\", 10.0, \"100\", \"5500\", 26, 32, \"9995\"], [3, \"?\", \"volkswagen\", \"gas\", \"std\", \"two\", \"convertible\", \"fwd\", \"front\", 94.5, 109, \"mpfi\", \"3.19\", \"3.40\", 8.5, \"90\", \"5500\", 24, 29, \"11595\"], [3, \"256\", \"volkswagen\", \"gas\", \"std\", \"two\", \"hatchback\", \"fwd\", \"front\", 94.5, 109, \"mpfi\", \"3.19\", \"3.40\", 8.5, \"90\", \"5500\", 24, 29, \"9980\"], [0, \"?\", \"volkswagen\", \"gas\", \"std\", \"four\", \"sedan\", \"fwd\", \"front\", 100.4, 136, \"mpfi\", \"3.19\", \"3.40\", 8.5, \"110\", \"5500\", 19, 24, \"13295\"], [0, \"?\", \"volkswagen\", \"diesel\", \"turbo\", \"four\", \"sedan\", \"fwd\", \"front\", 100.4, 97, \"idi\", \"3.01\", \"3.40\", 23.0, \"68\", \"4500\", 33, 38, \"13845\"], [0, \"?\", \"volkswagen\", \"gas\", \"std\", \"four\", \"wagon\", \"fwd\", \"front\", 100.4, 109, \"mpfi\", \"3.19\", \"3.40\", 9.0, \"88\", \"5500\", 25, 31, \"12290\"], [-2, \"103\", \"volvo\", \"gas\", \"std\", \"four\", \"sedan\", \"rwd\", \"front\", 104.3, 141, \"mpfi\", \"3.78\", \"3.15\", 9.5, \"114\", \"5400\", 23, 28, \"12940\"], [-1, \"74\", \"volvo\", \"gas\", \"std\", \"four\", \"wagon\", \"rwd\", \"front\", 104.3, 141, \"mpfi\", \"3.78\", \"3.15\", 9.5, \"114\", \"5400\", 23, 28, \"13415\"], [-2, \"103\", \"volvo\", \"gas\", \"std\", \"four\", \"sedan\", \"rwd\", \"front\", 104.3, 141, \"mpfi\", \"3.78\", \"3.15\", 9.5, \"114\", \"5400\", 24, 28, \"15985\"], [-1, \"74\", \"volvo\", \"gas\", \"std\", \"four\", \"wagon\", \"rwd\", \"front\", 104.3, 141, \"mpfi\", \"3.78\", \"3.15\", 9.5, \"114\", \"5400\", 24, 28, \"16515\"], [-2, \"103\", \"volvo\", \"gas\", \"turbo\", \"four\", \"sedan\", \"rwd\", \"front\", 104.3, 130, \"mpfi\", \"3.62\", \"3.15\", 7.5, \"162\", \"5100\", 17, 22, \"18420\"], [-1, \"74\", \"volvo\", \"gas\", \"turbo\", \"four\", \"wagon\", \"rwd\", \"front\", 104.3, 130, \"mpfi\", \"3.62\", \"3.15\", 7.5, \"162\", \"5100\", 17, 22, \"18950\"], [-1, \"95\", \"volvo\", \"gas\", \"std\", \"four\", \"sedan\", \"rwd\", \"front\", 109.1, 141, \"mpfi\", \"3.78\", \"3.15\", 9.5, \"114\", \"5400\", 23, 28, \"16845\"], [-1, \"95\", \"volvo\", \"gas\", \"turbo\", \"four\", \"sedan\", \"rwd\", \"front\", 109.1, 141, \"mpfi\", \"3.78\", \"3.15\", 8.7, \"160\", \"5300\", 19, 25, \"19045\"], [-1, \"95\", \"volvo\", \"gas\", \"std\", \"four\", \"sedan\", \"rwd\", \"front\", 109.1, 173, \"mpfi\", \"3.58\", \"2.87\", 8.8, \"134\", \"5500\", 18, 23, \"21485\"], [-1, \"95\", \"volvo\", \"diesel\", \"turbo\", \"four\", \"sedan\", \"rwd\", \"front\", 109.1, 145, \"idi\", \"3.01\", \"3.40\", 23.0, \"106\", \"4800\", 26, 27, \"22470\"], [-1, \"95\", \"volvo\", \"gas\", \"turbo\", \"four\", \"sedan\", \"rwd\", \"front\", 109.1, 141, \"mpfi\", \"3.78\", \"3.15\", 9.5, \"114\", \"5400\", 19, 25, \"22625\"]]};\n",
       "        dt_args = eval_functions(dt_args);\n",
       "        table = $('#55660897-ba43-4151-8c69-3b3012dc11b1').DataTable(dt_args);\n",
       "    });\n",
       "})\n",
       "</script>\n",
       "</div>\n"
      ],
      "text/plain": [
       "<IPython.core.display.HTML object>"
      ]
     },
     "metadata": {},
     "output_type": "display_data"
    }
   ],
   "source": [
    "opt.classes = [\"display\", \"cell-border\"] # \"compact\" can also be used instead \"cell-border\"\n",
    "show(df)"
   ]
  },
  {
   "cell_type": "markdown",
   "metadata": {},
   "source": [
    "# To show the cells in red color if they have any negative value"
   ]
  },
  {
   "cell_type": "code",
   "execution_count": 45,
   "metadata": {},
   "outputs": [
    {
     "name": "stderr",
     "output_type": "stream",
     "text": [
      "WARNING:itables.downsample:showing 205x20 of 205x26 as maxColumns=20. See https://mwouts.github.io/itables/#downsampling\n"
     ]
    },
    {
     "data": {
      "text/html": [
       "<div><table id=\"36bf295b-9746-40c3-8bc4-cd1d6c527b0d\" class=\"display cell-border\"><thead>\n",
       "    <tr style=\"text-align: right;\">\n",
       "      \n",
       "      <th>symboling</th>\n",
       "      <th>normalized-losses</th>\n",
       "      <th>make</th>\n",
       "      <th>fuel-type</th>\n",
       "      <th>aspiration</th>\n",
       "      <th>num-of-doors</th>\n",
       "      <th>body-style</th>\n",
       "      <th>drive-wheels</th>\n",
       "      <th>engine-location</th>\n",
       "      <th>wheel-base</th>\n",
       "      <th>engine-size</th>\n",
       "      <th>fuel-system</th>\n",
       "      <th>bore</th>\n",
       "      <th>stroke</th>\n",
       "      <th>compression-ratio</th>\n",
       "      <th>horsepower</th>\n",
       "      <th>peak-rpm</th>\n",
       "      <th>city-mpg</th>\n",
       "      <th>highway-mpg</th>\n",
       "      <th>price</th>\n",
       "    </tr>\n",
       "  </thead></table>\n",
       "<script type=\"text/javascript\">\n",
       "require([\"datatables\"], function (datatables) {\n",
       "    $(document).ready(function () {\n",
       "        var dt_args = {\"columnDefs\": [{\"targets\": \"_all\", \"width\": \"200px\", \"createdCell\": \"function (td, cellData, rowData, row, col) {\\n      if ( cellData < 0 ) {\\n        $(td).css('color', 'blue')\\n      }\\n    }\"}], \"lengthMenu\": [5, 10, 20, 50, 100, 200, 500], \"data\": [[3, \"?\", \"alfa-romero\", \"gas\", \"std\", \"two\", \"convertible\", \"rwd\", \"front\", 88.6, 130, \"mpfi\", \"3.47\", \"2.68\", 9.0, \"111\", \"5000\", 21, 27, \"13495\"], [3, \"?\", \"alfa-romero\", \"gas\", \"std\", \"two\", \"convertible\", \"rwd\", \"front\", 88.6, 130, \"mpfi\", \"3.47\", \"2.68\", 9.0, \"111\", \"5000\", 21, 27, \"16500\"], [1, \"?\", \"alfa-romero\", \"gas\", \"std\", \"two\", \"hatchback\", \"rwd\", \"front\", 94.5, 152, \"mpfi\", \"2.68\", \"3.47\", 9.0, \"154\", \"5000\", 19, 26, \"16500\"], [2, \"164\", \"audi\", \"gas\", \"std\", \"four\", \"sedan\", \"fwd\", \"front\", 99.8, 109, \"mpfi\", \"3.19\", \"3.40\", 10.0, \"102\", \"5500\", 24, 30, \"13950\"], [2, \"164\", \"audi\", \"gas\", \"std\", \"four\", \"sedan\", \"4wd\", \"front\", 99.4, 136, \"mpfi\", \"3.19\", \"3.40\", 8.0, \"115\", \"5500\", 18, 22, \"17450\"], [2, \"?\", \"audi\", \"gas\", \"std\", \"two\", \"sedan\", \"fwd\", \"front\", 99.8, 136, \"mpfi\", \"3.19\", \"3.40\", 8.5, \"110\", \"5500\", 19, 25, \"15250\"], [1, \"158\", \"audi\", \"gas\", \"std\", \"four\", \"sedan\", \"fwd\", \"front\", 105.8, 136, \"mpfi\", \"3.19\", \"3.40\", 8.5, \"110\", \"5500\", 19, 25, \"17710\"], [1, \"?\", \"audi\", \"gas\", \"std\", \"four\", \"wagon\", \"fwd\", \"front\", 105.8, 136, \"mpfi\", \"3.19\", \"3.40\", 8.5, \"110\", \"5500\", 19, 25, \"18920\"], [1, \"158\", \"audi\", \"gas\", \"turbo\", \"four\", \"sedan\", \"fwd\", \"front\", 105.8, 131, \"mpfi\", \"3.13\", \"3.40\", 8.3, \"140\", \"5500\", 17, 20, \"23875\"], [0, \"?\", \"audi\", \"gas\", \"turbo\", \"two\", \"hatchback\", \"4wd\", \"front\", 99.5, 131, \"mpfi\", \"3.13\", \"3.40\", 7.0, \"160\", \"5500\", 16, 22, \"?\"], [2, \"192\", \"bmw\", \"gas\", \"std\", \"two\", \"sedan\", \"rwd\", \"front\", 101.2, 108, \"mpfi\", \"3.50\", \"2.80\", 8.8, \"101\", \"5800\", 23, 29, \"16430\"], [0, \"192\", \"bmw\", \"gas\", \"std\", \"four\", \"sedan\", \"rwd\", \"front\", 101.2, 108, \"mpfi\", \"3.50\", \"2.80\", 8.8, \"101\", \"5800\", 23, 29, \"16925\"], [0, \"188\", \"bmw\", \"gas\", \"std\", \"two\", \"sedan\", \"rwd\", \"front\", 101.2, 164, \"mpfi\", \"3.31\", \"3.19\", 9.0, \"121\", \"4250\", 21, 28, \"20970\"], [0, \"188\", \"bmw\", \"gas\", \"std\", \"four\", \"sedan\", \"rwd\", \"front\", 101.2, 164, \"mpfi\", \"3.31\", \"3.19\", 9.0, \"121\", \"4250\", 21, 28, \"21105\"], [1, \"?\", \"bmw\", \"gas\", \"std\", \"four\", \"sedan\", \"rwd\", \"front\", 103.5, 164, \"mpfi\", \"3.31\", \"3.19\", 9.0, \"121\", \"4250\", 20, 25, \"24565\"], [0, \"?\", \"bmw\", \"gas\", \"std\", \"four\", \"sedan\", \"rwd\", \"front\", 103.5, 209, \"mpfi\", \"3.62\", \"3.39\", 8.0, \"182\", \"5400\", 16, 22, \"30760\"], [0, \"?\", \"bmw\", \"gas\", \"std\", \"two\", \"sedan\", \"rwd\", \"front\", 103.5, 209, \"mpfi\", \"3.62\", \"3.39\", 8.0, \"182\", \"5400\", 16, 22, \"41315\"], [0, \"?\", \"bmw\", \"gas\", \"std\", \"four\", \"sedan\", \"rwd\", \"front\", 110.0, 209, \"mpfi\", \"3.62\", \"3.39\", 8.0, \"182\", \"5400\", 15, 20, \"36880\"], [2, \"121\", \"chevrolet\", \"gas\", \"std\", \"two\", \"hatchback\", \"fwd\", \"front\", 88.4, 61, \"2bbl\", \"2.91\", \"3.03\", 9.5, \"48\", \"5100\", 47, 53, \"5151\"], [1, \"98\", \"chevrolet\", \"gas\", \"std\", \"two\", \"hatchback\", \"fwd\", \"front\", 94.5, 90, \"2bbl\", \"3.03\", \"3.11\", 9.6, \"70\", \"5400\", 38, 43, \"6295\"], [0, \"81\", \"chevrolet\", \"gas\", \"std\", \"four\", \"sedan\", \"fwd\", \"front\", 94.5, 90, \"2bbl\", \"3.03\", \"3.11\", 9.6, \"70\", \"5400\", 38, 43, \"6575\"], [1, \"118\", \"dodge\", \"gas\", \"std\", \"two\", \"hatchback\", \"fwd\", \"front\", 93.7, 90, \"2bbl\", \"2.97\", \"3.23\", 9.41, \"68\", \"5500\", 37, 41, \"5572\"], [1, \"118\", \"dodge\", \"gas\", \"std\", \"two\", \"hatchback\", \"fwd\", \"front\", 93.7, 90, \"2bbl\", \"2.97\", \"3.23\", 9.4, \"68\", \"5500\", 31, 38, \"6377\"], [1, \"118\", \"dodge\", \"gas\", \"turbo\", \"two\", \"hatchback\", \"fwd\", \"front\", 93.7, 98, \"mpfi\", \"3.03\", \"3.39\", 7.6, \"102\", \"5500\", 24, 30, \"7957\"], [1, \"148\", \"dodge\", \"gas\", \"std\", \"four\", \"hatchback\", \"fwd\", \"front\", 93.7, 90, \"2bbl\", \"2.97\", \"3.23\", 9.4, \"68\", \"5500\", 31, 38, \"6229\"], [1, \"148\", \"dodge\", \"gas\", \"std\", \"four\", \"sedan\", \"fwd\", \"front\", 93.7, 90, \"2bbl\", \"2.97\", \"3.23\", 9.4, \"68\", \"5500\", 31, 38, \"6692\"], [1, \"148\", \"dodge\", \"gas\", \"std\", \"four\", \"sedan\", \"fwd\", \"front\", 93.7, 90, \"2bbl\", \"2.97\", \"3.23\", 9.4, \"68\", \"5500\", 31, 38, \"7609\"], [1, \"148\", \"dodge\", \"gas\", \"turbo\", \"?\", \"sedan\", \"fwd\", \"front\", 93.7, 98, \"mpfi\", \"3.03\", \"3.39\", 7.6, \"102\", \"5500\", 24, 30, \"8558\"], [-1, \"110\", \"dodge\", \"gas\", \"std\", \"four\", \"wagon\", \"fwd\", \"front\", 103.3, 122, \"2bbl\", \"3.34\", \"3.46\", 8.5, \"88\", \"5000\", 24, 30, \"8921\"], [3, \"145\", \"dodge\", \"gas\", \"turbo\", \"two\", \"hatchback\", \"fwd\", \"front\", 95.9, 156, \"mfi\", \"3.60\", \"3.90\", 7.0, \"145\", \"5000\", 19, 24, \"12964\"], [2, \"137\", \"honda\", \"gas\", \"std\", \"two\", \"hatchback\", \"fwd\", \"front\", 86.6, 92, \"1bbl\", \"2.91\", \"3.41\", 9.6, \"58\", \"4800\", 49, 54, \"6479\"], [2, \"137\", \"honda\", \"gas\", \"std\", \"two\", \"hatchback\", \"fwd\", \"front\", 86.6, 92, \"1bbl\", \"2.91\", \"3.41\", 9.2, \"76\", \"6000\", 31, 38, \"6855\"], [1, \"101\", \"honda\", \"gas\", \"std\", \"two\", \"hatchback\", \"fwd\", \"front\", 93.7, 79, \"1bbl\", \"2.91\", \"3.07\", 10.1, \"60\", \"5500\", 38, 42, \"5399\"], [1, \"101\", \"honda\", \"gas\", \"std\", \"two\", \"hatchback\", \"fwd\", \"front\", 93.7, 92, \"1bbl\", \"2.91\", \"3.41\", 9.2, \"76\", \"6000\", 30, 34, \"6529\"], [1, \"101\", \"honda\", \"gas\", \"std\", \"two\", \"hatchback\", \"fwd\", \"front\", 93.7, 92, \"1bbl\", \"2.91\", \"3.41\", 9.2, \"76\", \"6000\", 30, 34, \"7129\"], [0, \"110\", \"honda\", \"gas\", \"std\", \"four\", \"sedan\", \"fwd\", \"front\", 96.5, 92, \"1bbl\", \"2.91\", \"3.41\", 9.2, \"76\", \"6000\", 30, 34, \"7295\"], [0, \"78\", \"honda\", \"gas\", \"std\", \"four\", \"wagon\", \"fwd\", \"front\", 96.5, 92, \"1bbl\", \"2.92\", \"3.41\", 9.2, \"76\", \"6000\", 30, 34, \"7295\"], [0, \"106\", \"honda\", \"gas\", \"std\", \"two\", \"hatchback\", \"fwd\", \"front\", 96.5, 110, \"1bbl\", \"3.15\", \"3.58\", 9.0, \"86\", \"5800\", 27, 33, \"7895\"], [0, \"106\", \"honda\", \"gas\", \"std\", \"two\", \"hatchback\", \"fwd\", \"front\", 96.5, 110, \"1bbl\", \"3.15\", \"3.58\", 9.0, \"86\", \"5800\", 27, 33, \"9095\"], [0, \"85\", \"honda\", \"gas\", \"std\", \"four\", \"sedan\", \"fwd\", \"front\", 96.5, 110, \"1bbl\", \"3.15\", \"3.58\", 9.0, \"86\", \"5800\", 27, 33, \"8845\"], [0, \"85\", \"honda\", \"gas\", \"std\", \"four\", \"sedan\", \"fwd\", \"front\", 96.5, 110, \"1bbl\", \"3.15\", \"3.58\", 9.0, \"86\", \"5800\", 27, 33, \"10295\"], [0, \"85\", \"honda\", \"gas\", \"std\", \"four\", \"sedan\", \"fwd\", \"front\", 96.5, 110, \"mpfi\", \"3.15\", \"3.58\", 9.0, \"101\", \"5800\", 24, 28, \"12945\"], [1, \"107\", \"honda\", \"gas\", \"std\", \"two\", \"sedan\", \"fwd\", \"front\", 96.5, 110, \"2bbl\", \"3.15\", \"3.58\", 9.1, \"100\", \"5500\", 25, 31, \"10345\"], [0, \"?\", \"isuzu\", \"gas\", \"std\", \"four\", \"sedan\", \"rwd\", \"front\", 94.3, 111, \"2bbl\", \"3.31\", \"3.23\", 8.5, \"78\", \"4800\", 24, 29, \"6785\"], [1, \"?\", \"isuzu\", \"gas\", \"std\", \"two\", \"sedan\", \"fwd\", \"front\", 94.5, 90, \"2bbl\", \"3.03\", \"3.11\", 9.6, \"70\", \"5400\", 38, 43, \"?\"], [0, \"?\", \"isuzu\", \"gas\", \"std\", \"four\", \"sedan\", \"fwd\", \"front\", 94.5, 90, \"2bbl\", \"3.03\", \"3.11\", 9.6, \"70\", \"5400\", 38, 43, \"?\"], [2, \"?\", \"isuzu\", \"gas\", \"std\", \"two\", \"hatchback\", \"rwd\", \"front\", 96.0, 119, \"spfi\", \"3.43\", \"3.23\", 9.2, \"90\", \"5000\", 24, 29, \"11048\"], [0, \"145\", \"jaguar\", \"gas\", \"std\", \"four\", \"sedan\", \"rwd\", \"front\", 113.0, 258, \"mpfi\", \"3.63\", \"4.17\", 8.1, \"176\", \"4750\", 15, 19, \"32250\"], [0, \"?\", \"jaguar\", \"gas\", \"std\", \"four\", \"sedan\", \"rwd\", \"front\", 113.0, 258, \"mpfi\", \"3.63\", \"4.17\", 8.1, \"176\", \"4750\", 15, 19, \"35550\"], [0, \"?\", \"jaguar\", \"gas\", \"std\", \"two\", \"sedan\", \"rwd\", \"front\", 102.0, 326, \"mpfi\", \"3.54\", \"2.76\", 11.5, \"262\", \"5000\", 13, 17, \"36000\"], [1, \"104\", \"mazda\", \"gas\", \"std\", \"two\", \"hatchback\", \"fwd\", \"front\", 93.1, 91, \"2bbl\", \"3.03\", \"3.15\", 9.0, \"68\", \"5000\", 30, 31, \"5195\"], [1, \"104\", \"mazda\", \"gas\", \"std\", \"two\", \"hatchback\", \"fwd\", \"front\", 93.1, 91, \"2bbl\", \"3.03\", \"3.15\", 9.0, \"68\", \"5000\", 31, 38, \"6095\"], [1, \"104\", \"mazda\", \"gas\", \"std\", \"two\", \"hatchback\", \"fwd\", \"front\", 93.1, 91, \"2bbl\", \"3.03\", \"3.15\", 9.0, \"68\", \"5000\", 31, 38, \"6795\"], [1, \"113\", \"mazda\", \"gas\", \"std\", \"four\", \"sedan\", \"fwd\", \"front\", 93.1, 91, \"2bbl\", \"3.03\", \"3.15\", 9.0, \"68\", \"5000\", 31, 38, \"6695\"], [1, \"113\", \"mazda\", \"gas\", \"std\", \"four\", \"sedan\", \"fwd\", \"front\", 93.1, 91, \"2bbl\", \"3.08\", \"3.15\", 9.0, \"68\", \"5000\", 31, 38, \"7395\"], [3, \"150\", \"mazda\", \"gas\", \"std\", \"two\", \"hatchback\", \"rwd\", \"front\", 95.3, 70, \"4bbl\", \"?\", \"?\", 9.4, \"101\", \"6000\", 17, 23, \"10945\"], [3, \"150\", \"mazda\", \"gas\", \"std\", \"two\", \"hatchback\", \"rwd\", \"front\", 95.3, 70, \"4bbl\", \"?\", \"?\", 9.4, \"101\", \"6000\", 17, 23, \"11845\"], [3, \"150\", \"mazda\", \"gas\", \"std\", \"two\", \"hatchback\", \"rwd\", \"front\", 95.3, 70, \"4bbl\", \"?\", \"?\", 9.4, \"101\", \"6000\", 17, 23, \"13645\"], [3, \"150\", \"mazda\", \"gas\", \"std\", \"two\", \"hatchback\", \"rwd\", \"front\", 95.3, 80, \"mpfi\", \"?\", \"?\", 9.4, \"135\", \"6000\", 16, 23, \"15645\"], [1, \"129\", \"mazda\", \"gas\", \"std\", \"two\", \"hatchback\", \"fwd\", \"front\", 98.8, 122, \"2bbl\", \"3.39\", \"3.39\", 8.6, \"84\", \"4800\", 26, 32, \"8845\"], [0, \"115\", \"mazda\", \"gas\", \"std\", \"four\", \"sedan\", \"fwd\", \"front\", 98.8, 122, \"2bbl\", \"3.39\", \"3.39\", 8.6, \"84\", \"4800\", 26, 32, \"8495\"], [1, \"129\", \"mazda\", \"gas\", \"std\", \"two\", \"hatchback\", \"fwd\", \"front\", 98.8, 122, \"2bbl\", \"3.39\", \"3.39\", 8.6, \"84\", \"4800\", 26, 32, \"10595\"], [0, \"115\", \"mazda\", \"gas\", \"std\", \"four\", \"sedan\", \"fwd\", \"front\", 98.8, 122, \"2bbl\", \"3.39\", \"3.39\", 8.6, \"84\", \"4800\", 26, 32, \"10245\"], [0, \"?\", \"mazda\", \"diesel\", \"std\", \"?\", \"sedan\", \"fwd\", \"front\", 98.8, 122, \"idi\", \"3.39\", \"3.39\", 22.7, \"64\", \"4650\", 36, 42, \"10795\"], [0, \"115\", \"mazda\", \"gas\", \"std\", \"four\", \"hatchback\", \"fwd\", \"front\", 98.8, 122, \"2bbl\", \"3.39\", \"3.39\", 8.6, \"84\", \"4800\", 26, 32, \"11245\"], [0, \"118\", \"mazda\", \"gas\", \"std\", \"four\", \"sedan\", \"rwd\", \"front\", 104.9, 140, \"mpfi\", \"3.76\", \"3.16\", 8.0, \"120\", \"5000\", 19, 27, \"18280\"], [0, \"?\", \"mazda\", \"diesel\", \"std\", \"four\", \"sedan\", \"rwd\", \"front\", 104.9, 134, \"idi\", \"3.43\", \"3.64\", 22.0, \"72\", \"4200\", 31, 39, \"18344\"], [-1, \"93\", \"mercedes-benz\", \"diesel\", \"turbo\", \"four\", \"sedan\", \"rwd\", \"front\", 110.0, 183, \"idi\", \"3.58\", \"3.64\", 21.5, \"123\", \"4350\", 22, 25, \"25552\"], [-1, \"93\", \"mercedes-benz\", \"diesel\", \"turbo\", \"four\", \"wagon\", \"rwd\", \"front\", 110.0, 183, \"idi\", \"3.58\", \"3.64\", 21.5, \"123\", \"4350\", 22, 25, \"28248\"], [0, \"93\", \"mercedes-benz\", \"diesel\", \"turbo\", \"two\", \"hardtop\", \"rwd\", \"front\", 106.7, 183, \"idi\", \"3.58\", \"3.64\", 21.5, \"123\", \"4350\", 22, 25, \"28176\"], [-1, \"93\", \"mercedes-benz\", \"diesel\", \"turbo\", \"four\", \"sedan\", \"rwd\", \"front\", 115.6, 183, \"idi\", \"3.58\", \"3.64\", 21.5, \"123\", \"4350\", 22, 25, \"31600\"], [-1, \"?\", \"mercedes-benz\", \"gas\", \"std\", \"four\", \"sedan\", \"rwd\", \"front\", 115.6, 234, \"mpfi\", \"3.46\", \"3.10\", 8.3, \"155\", \"4750\", 16, 18, \"34184\"], [3, \"142\", \"mercedes-benz\", \"gas\", \"std\", \"two\", \"convertible\", \"rwd\", \"front\", 96.6, 234, \"mpfi\", \"3.46\", \"3.10\", 8.3, \"155\", \"4750\", 16, 18, \"35056\"], [0, \"?\", \"mercedes-benz\", \"gas\", \"std\", \"four\", \"sedan\", \"rwd\", \"front\", 120.9, 308, \"mpfi\", \"3.80\", \"3.35\", 8.0, \"184\", \"4500\", 14, 16, \"40960\"], [1, \"?\", \"mercedes-benz\", \"gas\", \"std\", \"two\", \"hardtop\", \"rwd\", \"front\", 112.0, 304, \"mpfi\", \"3.80\", \"3.35\", 8.0, \"184\", \"4500\", 14, 16, \"45400\"], [1, \"?\", \"mercury\", \"gas\", \"turbo\", \"two\", \"hatchback\", \"rwd\", \"front\", 102.7, 140, \"mpfi\", \"3.78\", \"3.12\", 8.0, \"175\", \"5000\", 19, 24, \"16503\"], [2, \"161\", \"mitsubishi\", \"gas\", \"std\", \"two\", \"hatchback\", \"fwd\", \"front\", 93.7, 92, \"2bbl\", \"2.97\", \"3.23\", 9.4, \"68\", \"5500\", 37, 41, \"5389\"], [2, \"161\", \"mitsubishi\", \"gas\", \"std\", \"two\", \"hatchback\", \"fwd\", \"front\", 93.7, 92, \"2bbl\", \"2.97\", \"3.23\", 9.4, \"68\", \"5500\", 31, 38, \"6189\"], [2, \"161\", \"mitsubishi\", \"gas\", \"std\", \"two\", \"hatchback\", \"fwd\", \"front\", 93.7, 92, \"2bbl\", \"2.97\", \"3.23\", 9.4, \"68\", \"5500\", 31, 38, \"6669\"], [1, \"161\", \"mitsubishi\", \"gas\", \"turbo\", \"two\", \"hatchback\", \"fwd\", \"front\", 93.0, 98, \"spdi\", \"3.03\", \"3.39\", 7.6, \"102\", \"5500\", 24, 30, \"7689\"], [3, \"153\", \"mitsubishi\", \"gas\", \"turbo\", \"two\", \"hatchback\", \"fwd\", \"front\", 96.3, 110, \"spdi\", \"3.17\", \"3.46\", 7.5, \"116\", \"5500\", 23, 30, \"9959\"], [3, \"153\", \"mitsubishi\", \"gas\", \"std\", \"two\", \"hatchback\", \"fwd\", \"front\", 96.3, 122, \"2bbl\", \"3.35\", \"3.46\", 8.5, \"88\", \"5000\", 25, 32, \"8499\"], [3, \"?\", \"mitsubishi\", \"gas\", \"turbo\", \"two\", \"hatchback\", \"fwd\", \"front\", 95.9, 156, \"spdi\", \"3.58\", \"3.86\", 7.0, \"145\", \"5000\", 19, 24, \"12629\"], [3, \"?\", \"mitsubishi\", \"gas\", \"turbo\", \"two\", \"hatchback\", \"fwd\", \"front\", 95.9, 156, \"spdi\", \"3.59\", \"3.86\", 7.0, \"145\", \"5000\", 19, 24, \"14869\"], [3, \"?\", \"mitsubishi\", \"gas\", \"turbo\", \"two\", \"hatchback\", \"fwd\", \"front\", 95.9, 156, \"spdi\", \"3.59\", \"3.86\", 7.0, \"145\", \"5000\", 19, 24, \"14489\"], [1, \"125\", \"mitsubishi\", \"gas\", \"std\", \"four\", \"sedan\", \"fwd\", \"front\", 96.3, 122, \"2bbl\", \"3.35\", \"3.46\", 8.5, \"88\", \"5000\", 25, 32, \"6989\"], [1, \"125\", \"mitsubishi\", \"gas\", \"std\", \"four\", \"sedan\", \"fwd\", \"front\", 96.3, 122, \"2bbl\", \"3.35\", \"3.46\", 8.5, \"88\", \"5000\", 25, 32, \"8189\"], [1, \"125\", \"mitsubishi\", \"gas\", \"turbo\", \"four\", \"sedan\", \"fwd\", \"front\", 96.3, 110, \"spdi\", \"3.17\", \"3.46\", 7.5, \"116\", \"5500\", 23, 30, \"9279\"], [-1, \"137\", \"mitsubishi\", \"gas\", \"std\", \"four\", \"sedan\", \"fwd\", \"front\", 96.3, 110, \"spdi\", \"3.17\", \"3.46\", 7.5, \"116\", \"5500\", 23, 30, \"9279\"], [1, \"128\", \"nissan\", \"gas\", \"std\", \"two\", \"sedan\", \"fwd\", \"front\", 94.5, 97, \"2bbl\", \"3.15\", \"3.29\", 9.4, \"69\", \"5200\", 31, 37, \"5499\"], [1, \"128\", \"nissan\", \"diesel\", \"std\", \"two\", \"sedan\", \"fwd\", \"front\", 94.5, 103, \"idi\", \"2.99\", \"3.47\", 21.9, \"55\", \"4800\", 45, 50, \"7099\"], [1, \"128\", \"nissan\", \"gas\", \"std\", \"two\", \"sedan\", \"fwd\", \"front\", 94.5, 97, \"2bbl\", \"3.15\", \"3.29\", 9.4, \"69\", \"5200\", 31, 37, \"6649\"], [1, \"122\", \"nissan\", \"gas\", \"std\", \"four\", \"sedan\", \"fwd\", \"front\", 94.5, 97, \"2bbl\", \"3.15\", \"3.29\", 9.4, \"69\", \"5200\", 31, 37, \"6849\"], [1, \"103\", \"nissan\", \"gas\", \"std\", \"four\", \"wagon\", \"fwd\", \"front\", 94.5, 97, \"2bbl\", \"3.15\", \"3.29\", 9.4, \"69\", \"5200\", 31, 37, \"7349\"], [1, \"128\", \"nissan\", \"gas\", \"std\", \"two\", \"sedan\", \"fwd\", \"front\", 94.5, 97, \"2bbl\", \"3.15\", \"3.29\", 9.4, \"69\", \"5200\", 31, 37, \"7299\"], [1, \"128\", \"nissan\", \"gas\", \"std\", \"two\", \"hatchback\", \"fwd\", \"front\", 94.5, 97, \"2bbl\", \"3.15\", \"3.29\", 9.4, \"69\", \"5200\", 31, 37, \"7799\"], [1, \"122\", \"nissan\", \"gas\", \"std\", \"four\", \"sedan\", \"fwd\", \"front\", 94.5, 97, \"2bbl\", \"3.15\", \"3.29\", 9.4, \"69\", \"5200\", 31, 37, \"7499\"], [1, \"103\", \"nissan\", \"gas\", \"std\", \"four\", \"wagon\", \"fwd\", \"front\", 94.5, 97, \"2bbl\", \"3.15\", \"3.29\", 9.4, \"69\", \"5200\", 31, 37, \"7999\"], [2, \"168\", \"nissan\", \"gas\", \"std\", \"two\", \"hardtop\", \"fwd\", \"front\", 95.1, 97, \"2bbl\", \"3.15\", \"3.29\", 9.4, \"69\", \"5200\", 31, 37, \"8249\"], [0, \"106\", \"nissan\", \"gas\", \"std\", \"four\", \"hatchback\", \"fwd\", \"front\", 97.2, 120, \"2bbl\", \"3.33\", \"3.47\", 8.5, \"97\", \"5200\", 27, 34, \"8949\"], [0, \"106\", \"nissan\", \"gas\", \"std\", \"four\", \"sedan\", \"fwd\", \"front\", 97.2, 120, \"2bbl\", \"3.33\", \"3.47\", 8.5, \"97\", \"5200\", 27, 34, \"9549\"], [0, \"128\", \"nissan\", \"gas\", \"std\", \"four\", \"sedan\", \"fwd\", \"front\", 100.4, 181, \"mpfi\", \"3.43\", \"3.27\", 9.0, \"152\", \"5200\", 17, 22, \"13499\"], [0, \"108\", \"nissan\", \"gas\", \"std\", \"four\", \"wagon\", \"fwd\", \"front\", 100.4, 181, \"mpfi\", \"3.43\", \"3.27\", 9.0, \"152\", \"5200\", 17, 22, \"14399\"], [0, \"108\", \"nissan\", \"gas\", \"std\", \"four\", \"sedan\", \"fwd\", \"front\", 100.4, 181, \"mpfi\", \"3.43\", \"3.27\", 9.0, \"152\", \"5200\", 19, 25, \"13499\"], [3, \"194\", \"nissan\", \"gas\", \"std\", \"two\", \"hatchback\", \"rwd\", \"front\", 91.3, 181, \"mpfi\", \"3.43\", \"3.27\", 9.0, \"160\", \"5200\", 19, 25, \"17199\"], [3, \"194\", \"nissan\", \"gas\", \"turbo\", \"two\", \"hatchback\", \"rwd\", \"front\", 91.3, 181, \"mpfi\", \"3.43\", \"3.27\", 7.8, \"200\", \"5200\", 17, 23, \"19699\"], [1, \"231\", \"nissan\", \"gas\", \"std\", \"two\", \"hatchback\", \"rwd\", \"front\", 99.2, 181, \"mpfi\", \"3.43\", \"3.27\", 9.0, \"160\", \"5200\", 19, 25, \"18399\"], [0, \"161\", \"peugot\", \"gas\", \"std\", \"four\", \"sedan\", \"rwd\", \"front\", 107.9, 120, \"mpfi\", \"3.46\", \"3.19\", 8.4, \"97\", \"5000\", 19, 24, \"11900\"], [0, \"161\", \"peugot\", \"diesel\", \"turbo\", \"four\", \"sedan\", \"rwd\", \"front\", 107.9, 152, \"idi\", \"3.70\", \"3.52\", 21.0, \"95\", \"4150\", 28, 33, \"13200\"], [0, \"?\", \"peugot\", \"gas\", \"std\", \"four\", \"wagon\", \"rwd\", \"front\", 114.2, 120, \"mpfi\", \"3.46\", \"3.19\", 8.4, \"97\", \"5000\", 19, 24, \"12440\"], [0, \"?\", \"peugot\", \"diesel\", \"turbo\", \"four\", \"wagon\", \"rwd\", \"front\", 114.2, 152, \"idi\", \"3.70\", \"3.52\", 21.0, \"95\", \"4150\", 25, 25, \"13860\"], [0, \"161\", \"peugot\", \"gas\", \"std\", \"four\", \"sedan\", \"rwd\", \"front\", 107.9, 120, \"mpfi\", \"3.46\", \"2.19\", 8.4, \"95\", \"5000\", 19, 24, \"15580\"], [0, \"161\", \"peugot\", \"diesel\", \"turbo\", \"four\", \"sedan\", \"rwd\", \"front\", 107.9, 152, \"idi\", \"3.70\", \"3.52\", 21.0, \"95\", \"4150\", 28, 33, \"16900\"], [0, \"?\", \"peugot\", \"gas\", \"std\", \"four\", \"wagon\", \"rwd\", \"front\", 114.2, 120, \"mpfi\", \"3.46\", \"2.19\", 8.4, \"95\", \"5000\", 19, 24, \"16695\"], [0, \"?\", \"peugot\", \"diesel\", \"turbo\", \"four\", \"wagon\", \"rwd\", \"front\", 114.2, 152, \"idi\", \"3.70\", \"3.52\", 21.0, \"95\", \"4150\", 25, 25, \"17075\"], [0, \"161\", \"peugot\", \"gas\", \"std\", \"four\", \"sedan\", \"rwd\", \"front\", 107.9, 120, \"mpfi\", \"3.46\", \"3.19\", 8.4, \"97\", \"5000\", 19, 24, \"16630\"], [0, \"161\", \"peugot\", \"diesel\", \"turbo\", \"four\", \"sedan\", \"rwd\", \"front\", 107.9, 152, \"idi\", \"3.70\", \"3.52\", 21.0, \"95\", \"4150\", 28, 33, \"17950\"], [0, \"161\", \"peugot\", \"gas\", \"turbo\", \"four\", \"sedan\", \"rwd\", \"front\", 108.0, 134, \"mpfi\", \"3.61\", \"3.21\", 7.0, \"142\", \"5600\", 18, 24, \"18150\"], [1, \"119\", \"plymouth\", \"gas\", \"std\", \"two\", \"hatchback\", \"fwd\", \"front\", 93.7, 90, \"2bbl\", \"2.97\", \"3.23\", 9.4, \"68\", \"5500\", 37, 41, \"5572\"], [1, \"119\", \"plymouth\", \"gas\", \"turbo\", \"two\", \"hatchback\", \"fwd\", \"front\", 93.7, 98, \"spdi\", \"3.03\", \"3.39\", 7.6, \"102\", \"5500\", 24, 30, \"7957\"], [1, \"154\", \"plymouth\", \"gas\", \"std\", \"four\", \"hatchback\", \"fwd\", \"front\", 93.7, 90, \"2bbl\", \"2.97\", \"3.23\", 9.4, \"68\", \"5500\", 31, 38, \"6229\"], [1, \"154\", \"plymouth\", \"gas\", \"std\", \"four\", \"sedan\", \"fwd\", \"front\", 93.7, 90, \"2bbl\", \"2.97\", \"3.23\", 9.4, \"68\", \"5500\", 31, 38, \"6692\"], [1, \"154\", \"plymouth\", \"gas\", \"std\", \"four\", \"sedan\", \"fwd\", \"front\", 93.7, 98, \"2bbl\", \"2.97\", \"3.23\", 9.4, \"68\", \"5500\", 31, 38, \"7609\"], [-1, \"74\", \"plymouth\", \"gas\", \"std\", \"four\", \"wagon\", \"fwd\", \"front\", 103.3, 122, \"2bbl\", \"3.35\", \"3.46\", 8.5, \"88\", \"5000\", 24, 30, \"8921\"], [3, \"?\", \"plymouth\", \"gas\", \"turbo\", \"two\", \"hatchback\", \"rwd\", \"front\", 95.9, 156, \"spdi\", \"3.59\", \"3.86\", 7.0, \"145\", \"5000\", 19, 24, \"12764\"], [3, \"186\", \"porsche\", \"gas\", \"std\", \"two\", \"hatchback\", \"rwd\", \"front\", 94.5, 151, \"mpfi\", \"3.94\", \"3.11\", 9.5, \"143\", \"5500\", 19, 27, \"22018\"], [3, \"?\", \"porsche\", \"gas\", \"std\", \"two\", \"hardtop\", \"rwd\", \"rear\", 89.5, 194, \"mpfi\", \"3.74\", \"2.90\", 9.5, \"207\", \"5900\", 17, 25, \"32528\"], [3, \"?\", \"porsche\", \"gas\", \"std\", \"two\", \"hardtop\", \"rwd\", \"rear\", 89.5, 194, \"mpfi\", \"3.74\", \"2.90\", 9.5, \"207\", \"5900\", 17, 25, \"34028\"], [3, \"?\", \"porsche\", \"gas\", \"std\", \"two\", \"convertible\", \"rwd\", \"rear\", 89.5, 194, \"mpfi\", \"3.74\", \"2.90\", 9.5, \"207\", \"5900\", 17, 25, \"37028\"], [1, \"?\", \"porsche\", \"gas\", \"std\", \"two\", \"hatchback\", \"rwd\", \"front\", 98.4, 203, \"mpfi\", \"3.94\", \"3.11\", 10.0, \"288\", \"5750\", 17, 28, \"?\"], [0, \"?\", \"renault\", \"gas\", \"std\", \"four\", \"wagon\", \"fwd\", \"front\", 96.1, 132, \"mpfi\", \"3.46\", \"3.90\", 8.7, \"?\", \"?\", 23, 31, \"9295\"], [2, \"?\", \"renault\", \"gas\", \"std\", \"two\", \"hatchback\", \"fwd\", \"front\", 96.1, 132, \"mpfi\", \"3.46\", \"3.90\", 8.7, \"?\", \"?\", 23, 31, \"9895\"], [3, \"150\", \"saab\", \"gas\", \"std\", \"two\", \"hatchback\", \"fwd\", \"front\", 99.1, 121, \"mpfi\", \"3.54\", \"3.07\", 9.31, \"110\", \"5250\", 21, 28, \"11850\"], [2, \"104\", \"saab\", \"gas\", \"std\", \"four\", \"sedan\", \"fwd\", \"front\", 99.1, 121, \"mpfi\", \"3.54\", \"3.07\", 9.3, \"110\", \"5250\", 21, 28, \"12170\"], [3, \"150\", \"saab\", \"gas\", \"std\", \"two\", \"hatchback\", \"fwd\", \"front\", 99.1, 121, \"mpfi\", \"2.54\", \"2.07\", 9.3, \"110\", \"5250\", 21, 28, \"15040\"], [2, \"104\", \"saab\", \"gas\", \"std\", \"four\", \"sedan\", \"fwd\", \"front\", 99.1, 121, \"mpfi\", \"3.54\", \"3.07\", 9.3, \"110\", \"5250\", 21, 28, \"15510\"], [3, \"150\", \"saab\", \"gas\", \"turbo\", \"two\", \"hatchback\", \"fwd\", \"front\", 99.1, 121, \"mpfi\", \"3.54\", \"3.07\", 9.0, \"160\", \"5500\", 19, 26, \"18150\"], [2, \"104\", \"saab\", \"gas\", \"turbo\", \"four\", \"sedan\", \"fwd\", \"front\", 99.1, 121, \"mpfi\", \"3.54\", \"3.07\", 9.0, \"160\", \"5500\", 19, 26, \"18620\"], [2, \"83\", \"subaru\", \"gas\", \"std\", \"two\", \"hatchback\", \"fwd\", \"front\", 93.7, 97, \"2bbl\", \"3.62\", \"2.36\", 9.0, \"69\", \"4900\", 31, 36, \"5118\"], [2, \"83\", \"subaru\", \"gas\", \"std\", \"two\", \"hatchback\", \"fwd\", \"front\", 93.7, 108, \"2bbl\", \"3.62\", \"2.64\", 8.7, \"73\", \"4400\", 26, 31, \"7053\"], [2, \"83\", \"subaru\", \"gas\", \"std\", \"two\", \"hatchback\", \"4wd\", \"front\", 93.3, 108, \"2bbl\", \"3.62\", \"2.64\", 8.7, \"73\", \"4400\", 26, 31, \"7603\"], [0, \"102\", \"subaru\", \"gas\", \"std\", \"four\", \"sedan\", \"fwd\", \"front\", 97.2, 108, \"2bbl\", \"3.62\", \"2.64\", 9.5, \"82\", \"4800\", 32, 37, \"7126\"], [0, \"102\", \"subaru\", \"gas\", \"std\", \"four\", \"sedan\", \"fwd\", \"front\", 97.2, 108, \"2bbl\", \"3.62\", \"2.64\", 9.5, \"82\", \"4400\", 28, 33, \"7775\"], [0, \"102\", \"subaru\", \"gas\", \"std\", \"four\", \"sedan\", \"fwd\", \"front\", 97.2, 108, \"mpfi\", \"3.62\", \"2.64\", 9.0, \"94\", \"5200\", 26, 32, \"9960\"], [0, \"102\", \"subaru\", \"gas\", \"std\", \"four\", \"sedan\", \"4wd\", \"front\", 97.0, 108, \"2bbl\", \"3.62\", \"2.64\", 9.0, \"82\", \"4800\", 24, 25, \"9233\"], [0, \"102\", \"subaru\", \"gas\", \"turbo\", \"four\", \"sedan\", \"4wd\", \"front\", 97.0, 108, \"mpfi\", \"3.62\", \"2.64\", 7.7, \"111\", \"4800\", 24, 29, \"11259\"], [0, \"89\", \"subaru\", \"gas\", \"std\", \"four\", \"wagon\", \"fwd\", \"front\", 97.0, 108, \"2bbl\", \"3.62\", \"2.64\", 9.0, \"82\", \"4800\", 28, 32, \"7463\"], [0, \"89\", \"subaru\", \"gas\", \"std\", \"four\", \"wagon\", \"fwd\", \"front\", 97.0, 108, \"mpfi\", \"3.62\", \"2.64\", 9.0, \"94\", \"5200\", 25, 31, \"10198\"], [0, \"85\", \"subaru\", \"gas\", \"std\", \"four\", \"wagon\", \"4wd\", \"front\", 96.9, 108, \"2bbl\", \"3.62\", \"2.64\", 9.0, \"82\", \"4800\", 23, 29, \"8013\"], [0, \"85\", \"subaru\", \"gas\", \"turbo\", \"four\", \"wagon\", \"4wd\", \"front\", 96.9, 108, \"mpfi\", \"3.62\", \"2.64\", 7.7, \"111\", \"4800\", 23, 23, \"11694\"], [1, \"87\", \"toyota\", \"gas\", \"std\", \"two\", \"hatchback\", \"fwd\", \"front\", 95.7, 92, \"2bbl\", \"3.05\", \"3.03\", 9.0, \"62\", \"4800\", 35, 39, \"5348\"], [1, \"87\", \"toyota\", \"gas\", \"std\", \"two\", \"hatchback\", \"fwd\", \"front\", 95.7, 92, \"2bbl\", \"3.05\", \"3.03\", 9.0, \"62\", \"4800\", 31, 38, \"6338\"], [1, \"74\", \"toyota\", \"gas\", \"std\", \"four\", \"hatchback\", \"fwd\", \"front\", 95.7, 92, \"2bbl\", \"3.05\", \"3.03\", 9.0, \"62\", \"4800\", 31, 38, \"6488\"], [0, \"77\", \"toyota\", \"gas\", \"std\", \"four\", \"wagon\", \"fwd\", \"front\", 95.7, 92, \"2bbl\", \"3.05\", \"3.03\", 9.0, \"62\", \"4800\", 31, 37, \"6918\"], [0, \"81\", \"toyota\", \"gas\", \"std\", \"four\", \"wagon\", \"4wd\", \"front\", 95.7, 92, \"2bbl\", \"3.05\", \"3.03\", 9.0, \"62\", \"4800\", 27, 32, \"7898\"], [0, \"91\", \"toyota\", \"gas\", \"std\", \"four\", \"wagon\", \"4wd\", \"front\", 95.7, 92, \"2bbl\", \"3.05\", \"3.03\", 9.0, \"62\", \"4800\", 27, 32, \"8778\"], [0, \"91\", \"toyota\", \"gas\", \"std\", \"four\", \"sedan\", \"fwd\", \"front\", 95.7, 98, \"2bbl\", \"3.19\", \"3.03\", 9.0, \"70\", \"4800\", 30, 37, \"6938\"], [0, \"91\", \"toyota\", \"gas\", \"std\", \"four\", \"hatchback\", \"fwd\", \"front\", 95.7, 98, \"2bbl\", \"3.19\", \"3.03\", 9.0, \"70\", \"4800\", 30, 37, \"7198\"], [0, \"91\", \"toyota\", \"diesel\", \"std\", \"four\", \"sedan\", \"fwd\", \"front\", 95.7, 110, \"idi\", \"3.27\", \"3.35\", 22.5, \"56\", \"4500\", 34, 36, \"7898\"], [0, \"91\", \"toyota\", \"diesel\", \"std\", \"four\", \"hatchback\", \"fwd\", \"front\", 95.7, 110, \"idi\", \"3.27\", \"3.35\", 22.5, \"56\", \"4500\", 38, 47, \"7788\"], [0, \"91\", \"toyota\", \"gas\", \"std\", \"four\", \"sedan\", \"fwd\", \"front\", 95.7, 98, \"2bbl\", \"3.19\", \"3.03\", 9.0, \"70\", \"4800\", 38, 47, \"7738\"], [0, \"91\", \"toyota\", \"gas\", \"std\", \"four\", \"hatchback\", \"fwd\", \"front\", 95.7, 98, \"2bbl\", \"3.19\", \"3.03\", 9.0, \"70\", \"4800\", 28, 34, \"8358\"], [0, \"91\", \"toyota\", \"gas\", \"std\", \"four\", \"sedan\", \"fwd\", \"front\", 95.7, 98, \"2bbl\", \"3.19\", \"3.03\", 9.0, \"70\", \"4800\", 28, 34, \"9258\"], [1, \"168\", \"toyota\", \"gas\", \"std\", \"two\", \"sedan\", \"rwd\", \"front\", 94.5, 98, \"2bbl\", \"3.19\", \"3.03\", 9.0, \"70\", \"4800\", 29, 34, \"8058\"], [1, \"168\", \"toyota\", \"gas\", \"std\", \"two\", \"hatchback\", \"rwd\", \"front\", 94.5, 98, \"2bbl\", \"3.19\", \"3.03\", 9.0, \"70\", \"4800\", 29, 34, \"8238\"], [1, \"168\", \"toyota\", \"gas\", \"std\", \"two\", \"sedan\", \"rwd\", \"front\", 94.5, 98, \"mpfi\", \"3.24\", \"3.08\", 9.4, \"112\", \"6600\", 26, 29, \"9298\"], [1, \"168\", \"toyota\", \"gas\", \"std\", \"two\", \"hatchback\", \"rwd\", \"front\", 94.5, 98, \"mpfi\", \"3.24\", \"3.08\", 9.4, \"112\", \"6600\", 26, 29, \"9538\"], [2, \"134\", \"toyota\", \"gas\", \"std\", \"two\", \"hardtop\", \"rwd\", \"front\", 98.4, 146, \"mpfi\", \"3.62\", \"3.50\", 9.3, \"116\", \"4800\", 24, 30, \"8449\"], [2, \"134\", \"toyota\", \"gas\", \"std\", \"two\", \"hardtop\", \"rwd\", \"front\", 98.4, 146, \"mpfi\", \"3.62\", \"3.50\", 9.3, \"116\", \"4800\", 24, 30, \"9639\"], [2, \"134\", \"toyota\", \"gas\", \"std\", \"two\", \"hatchback\", \"rwd\", \"front\", 98.4, 146, \"mpfi\", \"3.62\", \"3.50\", 9.3, \"116\", \"4800\", 24, 30, \"9989\"], [2, \"134\", \"toyota\", \"gas\", \"std\", \"two\", \"hardtop\", \"rwd\", \"front\", 98.4, 146, \"mpfi\", \"3.62\", \"3.50\", 9.3, \"116\", \"4800\", 24, 30, \"11199\"], [2, \"134\", \"toyota\", \"gas\", \"std\", \"two\", \"hatchback\", \"rwd\", \"front\", 98.4, 146, \"mpfi\", \"3.62\", \"3.50\", 9.3, \"116\", \"4800\", 24, 30, \"11549\"], [2, \"134\", \"toyota\", \"gas\", \"std\", \"two\", \"convertible\", \"rwd\", \"front\", 98.4, 146, \"mpfi\", \"3.62\", \"3.50\", 9.3, \"116\", \"4800\", 24, 30, \"17669\"], [-1, \"65\", \"toyota\", \"gas\", \"std\", \"four\", \"sedan\", \"fwd\", \"front\", 102.4, 122, \"mpfi\", \"3.31\", \"3.54\", 8.7, \"92\", \"4200\", 29, 34, \"8948\"], [-1, \"65\", \"toyota\", \"diesel\", \"turbo\", \"four\", \"sedan\", \"fwd\", \"front\", 102.4, 110, \"idi\", \"3.27\", \"3.35\", 22.5, \"73\", \"4500\", 30, 33, \"10698\"], [-1, \"65\", \"toyota\", \"gas\", \"std\", \"four\", \"hatchback\", \"fwd\", \"front\", 102.4, 122, \"mpfi\", \"3.31\", \"3.54\", 8.7, \"92\", \"4200\", 27, 32, \"9988\"], [-1, \"65\", \"toyota\", \"gas\", \"std\", \"four\", \"sedan\", \"fwd\", \"front\", 102.4, 122, \"mpfi\", \"3.31\", \"3.54\", 8.7, \"92\", \"4200\", 27, 32, \"10898\"], [-1, \"65\", \"toyota\", \"gas\", \"std\", \"four\", \"hatchback\", \"fwd\", \"front\", 102.4, 122, \"mpfi\", \"3.31\", \"3.54\", 8.7, \"92\", \"4200\", 27, 32, \"11248\"], [3, \"197\", \"toyota\", \"gas\", \"std\", \"two\", \"hatchback\", \"rwd\", \"front\", 102.9, 171, \"mpfi\", \"3.27\", \"3.35\", 9.3, \"161\", \"5200\", 20, 24, \"16558\"], [3, \"197\", \"toyota\", \"gas\", \"std\", \"two\", \"hatchback\", \"rwd\", \"front\", 102.9, 171, \"mpfi\", \"3.27\", \"3.35\", 9.3, \"161\", \"5200\", 19, 24, \"15998\"], [-1, \"90\", \"toyota\", \"gas\", \"std\", \"four\", \"sedan\", \"rwd\", \"front\", 104.5, 171, \"mpfi\", \"3.27\", \"3.35\", 9.2, \"156\", \"5200\", 20, 24, \"15690\"], [-1, \"?\", \"toyota\", \"gas\", \"std\", \"four\", \"wagon\", \"rwd\", \"front\", 104.5, 161, \"mpfi\", \"3.27\", \"3.35\", 9.2, \"156\", \"5200\", 19, 24, \"15750\"], [2, \"122\", \"volkswagen\", \"diesel\", \"std\", \"two\", \"sedan\", \"fwd\", \"front\", 97.3, 97, \"idi\", \"3.01\", \"3.40\", 23.0, \"52\", \"4800\", 37, 46, \"7775\"], [2, \"122\", \"volkswagen\", \"gas\", \"std\", \"two\", \"sedan\", \"fwd\", \"front\", 97.3, 109, \"mpfi\", \"3.19\", \"3.40\", 9.0, \"85\", \"5250\", 27, 34, \"7975\"], [2, \"94\", \"volkswagen\", \"diesel\", \"std\", \"four\", \"sedan\", \"fwd\", \"front\", 97.3, 97, \"idi\", \"3.01\", \"3.40\", 23.0, \"52\", \"4800\", 37, 46, \"7995\"], [2, \"94\", \"volkswagen\", \"gas\", \"std\", \"four\", \"sedan\", \"fwd\", \"front\", 97.3, 109, \"mpfi\", \"3.19\", \"3.40\", 9.0, \"85\", \"5250\", 27, 34, \"8195\"], [2, \"94\", \"volkswagen\", \"gas\", \"std\", \"four\", \"sedan\", \"fwd\", \"front\", 97.3, 109, \"mpfi\", \"3.19\", \"3.40\", 9.0, \"85\", \"5250\", 27, 34, \"8495\"], [2, \"94\", \"volkswagen\", \"diesel\", \"turbo\", \"four\", \"sedan\", \"fwd\", \"front\", 97.3, 97, \"idi\", \"3.01\", \"3.40\", 23.0, \"68\", \"4500\", 37, 42, \"9495\"], [2, \"94\", \"volkswagen\", \"gas\", \"std\", \"four\", \"sedan\", \"fwd\", \"front\", 97.3, 109, \"mpfi\", \"3.19\", \"3.40\", 10.0, \"100\", \"5500\", 26, 32, \"9995\"], [3, \"?\", \"volkswagen\", \"gas\", \"std\", \"two\", \"convertible\", \"fwd\", \"front\", 94.5, 109, \"mpfi\", \"3.19\", \"3.40\", 8.5, \"90\", \"5500\", 24, 29, \"11595\"], [3, \"256\", \"volkswagen\", \"gas\", \"std\", \"two\", \"hatchback\", \"fwd\", \"front\", 94.5, 109, \"mpfi\", \"3.19\", \"3.40\", 8.5, \"90\", \"5500\", 24, 29, \"9980\"], [0, \"?\", \"volkswagen\", \"gas\", \"std\", \"four\", \"sedan\", \"fwd\", \"front\", 100.4, 136, \"mpfi\", \"3.19\", \"3.40\", 8.5, \"110\", \"5500\", 19, 24, \"13295\"], [0, \"?\", \"volkswagen\", \"diesel\", \"turbo\", \"four\", \"sedan\", \"fwd\", \"front\", 100.4, 97, \"idi\", \"3.01\", \"3.40\", 23.0, \"68\", \"4500\", 33, 38, \"13845\"], [0, \"?\", \"volkswagen\", \"gas\", \"std\", \"four\", \"wagon\", \"fwd\", \"front\", 100.4, 109, \"mpfi\", \"3.19\", \"3.40\", 9.0, \"88\", \"5500\", 25, 31, \"12290\"], [-2, \"103\", \"volvo\", \"gas\", \"std\", \"four\", \"sedan\", \"rwd\", \"front\", 104.3, 141, \"mpfi\", \"3.78\", \"3.15\", 9.5, \"114\", \"5400\", 23, 28, \"12940\"], [-1, \"74\", \"volvo\", \"gas\", \"std\", \"four\", \"wagon\", \"rwd\", \"front\", 104.3, 141, \"mpfi\", \"3.78\", \"3.15\", 9.5, \"114\", \"5400\", 23, 28, \"13415\"], [-2, \"103\", \"volvo\", \"gas\", \"std\", \"four\", \"sedan\", \"rwd\", \"front\", 104.3, 141, \"mpfi\", \"3.78\", \"3.15\", 9.5, \"114\", \"5400\", 24, 28, \"15985\"], [-1, \"74\", \"volvo\", \"gas\", \"std\", \"four\", \"wagon\", \"rwd\", \"front\", 104.3, 141, \"mpfi\", \"3.78\", \"3.15\", 9.5, \"114\", \"5400\", 24, 28, \"16515\"], [-2, \"103\", \"volvo\", \"gas\", \"turbo\", \"four\", \"sedan\", \"rwd\", \"front\", 104.3, 130, \"mpfi\", \"3.62\", \"3.15\", 7.5, \"162\", \"5100\", 17, 22, \"18420\"], [-1, \"74\", \"volvo\", \"gas\", \"turbo\", \"four\", \"wagon\", \"rwd\", \"front\", 104.3, 130, \"mpfi\", \"3.62\", \"3.15\", 7.5, \"162\", \"5100\", 17, 22, \"18950\"], [-1, \"95\", \"volvo\", \"gas\", \"std\", \"four\", \"sedan\", \"rwd\", \"front\", 109.1, 141, \"mpfi\", \"3.78\", \"3.15\", 9.5, \"114\", \"5400\", 23, 28, \"16845\"], [-1, \"95\", \"volvo\", \"gas\", \"turbo\", \"four\", \"sedan\", \"rwd\", \"front\", 109.1, 141, \"mpfi\", \"3.78\", \"3.15\", 8.7, \"160\", \"5300\", 19, 25, \"19045\"], [-1, \"95\", \"volvo\", \"gas\", \"std\", \"four\", \"sedan\", \"rwd\", \"front\", 109.1, 173, \"mpfi\", \"3.58\", \"2.87\", 8.8, \"134\", \"5500\", 18, 23, \"21485\"], [-1, \"95\", \"volvo\", \"diesel\", \"turbo\", \"four\", \"sedan\", \"rwd\", \"front\", 109.1, 145, \"idi\", \"3.01\", \"3.40\", 23.0, \"106\", \"4800\", 26, 27, \"22470\"], [-1, \"95\", \"volvo\", \"gas\", \"turbo\", \"four\", \"sedan\", \"rwd\", \"front\", 109.1, 141, \"mpfi\", \"3.78\", \"3.15\", 9.5, \"114\", \"5400\", 19, 25, \"22625\"]]};\n",
       "        dt_args = eval_functions(dt_args);\n",
       "        table = $('#36bf295b-9746-40c3-8bc4-cd1d6c527b0d').DataTable(dt_args);\n",
       "    });\n",
       "})\n",
       "</script>\n",
       "</div>\n"
      ],
      "text/plain": [
       "<IPython.core.display.HTML object>"
      ]
     },
     "metadata": {},
     "output_type": "display_data"
    }
   ],
   "source": [
    "show(df\n",
    "    ,\n",
    "    columnDefs=[\n",
    "        {\n",
    "            \"targets\": \"_all\",\n",
    "            \"width\": \"200px\",\n",
    "            \"createdCell\": \"\"\"function (td, cellData, rowData, row, col) {\n",
    "      if ( cellData < 0 ) {\n",
    "        $(td).css('color', 'blue')\n",
    "      }\n",
    "    }\"\"\",\n",
    "        }\n",
    "    ],\n",
    ")"
   ]
  },
  {
   "cell_type": "markdown",
   "metadata": {},
   "source": [
    "# Column width used for large datasets"
   ]
  },
  {
   "cell_type": "code",
   "execution_count": 44,
   "metadata": {},
   "outputs": [
    {
     "name": "stderr",
     "output_type": "stream",
     "text": [
      "WARNING:itables.downsample:showing 205x20 of 205x26 as maxColumns=20. See https://mwouts.github.io/itables/#downsampling\n"
     ]
    },
    {
     "data": {
      "text/html": [
       "<div><table id=\"5d784420-698f-4ceb-8565-4d0f1f35fe7a\" class=\"display cell-border\"><thead>\n",
       "    <tr style=\"text-align: right;\">\n",
       "      \n",
       "      <th>symboling</th>\n",
       "      <th>normalized-losses</th>\n",
       "      <th>make</th>\n",
       "      <th>fuel-type</th>\n",
       "      <th>aspiration</th>\n",
       "      <th>num-of-doors</th>\n",
       "      <th>body-style</th>\n",
       "      <th>drive-wheels</th>\n",
       "      <th>engine-location</th>\n",
       "      <th>wheel-base</th>\n",
       "      <th>engine-size</th>\n",
       "      <th>fuel-system</th>\n",
       "      <th>bore</th>\n",
       "      <th>stroke</th>\n",
       "      <th>compression-ratio</th>\n",
       "      <th>horsepower</th>\n",
       "      <th>peak-rpm</th>\n",
       "      <th>city-mpg</th>\n",
       "      <th>highway-mpg</th>\n",
       "      <th>price</th>\n",
       "    </tr>\n",
       "  </thead></table>\n",
       "<script type=\"text/javascript\">\n",
       "require([\"datatables\"], function (datatables) {\n",
       "    $(document).ready(function () {\n",
       "        var dt_args = {\"columnDefs\": [{\"width\": \"200px\", \"targets\": \"_all\"}], \"lengthMenu\": [5, 10, 20, 50, 100, 200, 500], \"data\": [[3, \"?\", \"alfa-romero\", \"gas\", \"std\", \"two\", \"convertible\", \"rwd\", \"front\", 88.6, 130, \"mpfi\", \"3.47\", \"2.68\", 9.0, \"111\", \"5000\", 21, 27, \"13495\"], [3, \"?\", \"alfa-romero\", \"gas\", \"std\", \"two\", \"convertible\", \"rwd\", \"front\", 88.6, 130, \"mpfi\", \"3.47\", \"2.68\", 9.0, \"111\", \"5000\", 21, 27, \"16500\"], [1, \"?\", \"alfa-romero\", \"gas\", \"std\", \"two\", \"hatchback\", \"rwd\", \"front\", 94.5, 152, \"mpfi\", \"2.68\", \"3.47\", 9.0, \"154\", \"5000\", 19, 26, \"16500\"], [2, \"164\", \"audi\", \"gas\", \"std\", \"four\", \"sedan\", \"fwd\", \"front\", 99.8, 109, \"mpfi\", \"3.19\", \"3.40\", 10.0, \"102\", \"5500\", 24, 30, \"13950\"], [2, \"164\", \"audi\", \"gas\", \"std\", \"four\", \"sedan\", \"4wd\", \"front\", 99.4, 136, \"mpfi\", \"3.19\", \"3.40\", 8.0, \"115\", \"5500\", 18, 22, \"17450\"], [2, \"?\", \"audi\", \"gas\", \"std\", \"two\", \"sedan\", \"fwd\", \"front\", 99.8, 136, \"mpfi\", \"3.19\", \"3.40\", 8.5, \"110\", \"5500\", 19, 25, \"15250\"], [1, \"158\", \"audi\", \"gas\", \"std\", \"four\", \"sedan\", \"fwd\", \"front\", 105.8, 136, \"mpfi\", \"3.19\", \"3.40\", 8.5, \"110\", \"5500\", 19, 25, \"17710\"], [1, \"?\", \"audi\", \"gas\", \"std\", \"four\", \"wagon\", \"fwd\", \"front\", 105.8, 136, \"mpfi\", \"3.19\", \"3.40\", 8.5, \"110\", \"5500\", 19, 25, \"18920\"], [1, \"158\", \"audi\", \"gas\", \"turbo\", \"four\", \"sedan\", \"fwd\", \"front\", 105.8, 131, \"mpfi\", \"3.13\", \"3.40\", 8.3, \"140\", \"5500\", 17, 20, \"23875\"], [0, \"?\", \"audi\", \"gas\", \"turbo\", \"two\", \"hatchback\", \"4wd\", \"front\", 99.5, 131, \"mpfi\", \"3.13\", \"3.40\", 7.0, \"160\", \"5500\", 16, 22, \"?\"], [2, \"192\", \"bmw\", \"gas\", \"std\", \"two\", \"sedan\", \"rwd\", \"front\", 101.2, 108, \"mpfi\", \"3.50\", \"2.80\", 8.8, \"101\", \"5800\", 23, 29, \"16430\"], [0, \"192\", \"bmw\", \"gas\", \"std\", \"four\", \"sedan\", \"rwd\", \"front\", 101.2, 108, \"mpfi\", \"3.50\", \"2.80\", 8.8, \"101\", \"5800\", 23, 29, \"16925\"], [0, \"188\", \"bmw\", \"gas\", \"std\", \"two\", \"sedan\", \"rwd\", \"front\", 101.2, 164, \"mpfi\", \"3.31\", \"3.19\", 9.0, \"121\", \"4250\", 21, 28, \"20970\"], [0, \"188\", \"bmw\", \"gas\", \"std\", \"four\", \"sedan\", \"rwd\", \"front\", 101.2, 164, \"mpfi\", \"3.31\", \"3.19\", 9.0, \"121\", \"4250\", 21, 28, \"21105\"], [1, \"?\", \"bmw\", \"gas\", \"std\", \"four\", \"sedan\", \"rwd\", \"front\", 103.5, 164, \"mpfi\", \"3.31\", \"3.19\", 9.0, \"121\", \"4250\", 20, 25, \"24565\"], [0, \"?\", \"bmw\", \"gas\", \"std\", \"four\", \"sedan\", \"rwd\", \"front\", 103.5, 209, \"mpfi\", \"3.62\", \"3.39\", 8.0, \"182\", \"5400\", 16, 22, \"30760\"], [0, \"?\", \"bmw\", \"gas\", \"std\", \"two\", \"sedan\", \"rwd\", \"front\", 103.5, 209, \"mpfi\", \"3.62\", \"3.39\", 8.0, \"182\", \"5400\", 16, 22, \"41315\"], [0, \"?\", \"bmw\", \"gas\", \"std\", \"four\", \"sedan\", \"rwd\", \"front\", 110.0, 209, \"mpfi\", \"3.62\", \"3.39\", 8.0, \"182\", \"5400\", 15, 20, \"36880\"], [2, \"121\", \"chevrolet\", \"gas\", \"std\", \"two\", \"hatchback\", \"fwd\", \"front\", 88.4, 61, \"2bbl\", \"2.91\", \"3.03\", 9.5, \"48\", \"5100\", 47, 53, \"5151\"], [1, \"98\", \"chevrolet\", \"gas\", \"std\", \"two\", \"hatchback\", \"fwd\", \"front\", 94.5, 90, \"2bbl\", \"3.03\", \"3.11\", 9.6, \"70\", \"5400\", 38, 43, \"6295\"], [0, \"81\", \"chevrolet\", \"gas\", \"std\", \"four\", \"sedan\", \"fwd\", \"front\", 94.5, 90, \"2bbl\", \"3.03\", \"3.11\", 9.6, \"70\", \"5400\", 38, 43, \"6575\"], [1, \"118\", \"dodge\", \"gas\", \"std\", \"two\", \"hatchback\", \"fwd\", \"front\", 93.7, 90, \"2bbl\", \"2.97\", \"3.23\", 9.41, \"68\", \"5500\", 37, 41, \"5572\"], [1, \"118\", \"dodge\", \"gas\", \"std\", \"two\", \"hatchback\", \"fwd\", \"front\", 93.7, 90, \"2bbl\", \"2.97\", \"3.23\", 9.4, \"68\", \"5500\", 31, 38, \"6377\"], [1, \"118\", \"dodge\", \"gas\", \"turbo\", \"two\", \"hatchback\", \"fwd\", \"front\", 93.7, 98, \"mpfi\", \"3.03\", \"3.39\", 7.6, \"102\", \"5500\", 24, 30, \"7957\"], [1, \"148\", \"dodge\", \"gas\", \"std\", \"four\", \"hatchback\", \"fwd\", \"front\", 93.7, 90, \"2bbl\", \"2.97\", \"3.23\", 9.4, \"68\", \"5500\", 31, 38, \"6229\"], [1, \"148\", \"dodge\", \"gas\", \"std\", \"four\", \"sedan\", \"fwd\", \"front\", 93.7, 90, \"2bbl\", \"2.97\", \"3.23\", 9.4, \"68\", \"5500\", 31, 38, \"6692\"], [1, \"148\", \"dodge\", \"gas\", \"std\", \"four\", \"sedan\", \"fwd\", \"front\", 93.7, 90, \"2bbl\", \"2.97\", \"3.23\", 9.4, \"68\", \"5500\", 31, 38, \"7609\"], [1, \"148\", \"dodge\", \"gas\", \"turbo\", \"?\", \"sedan\", \"fwd\", \"front\", 93.7, 98, \"mpfi\", \"3.03\", \"3.39\", 7.6, \"102\", \"5500\", 24, 30, \"8558\"], [-1, \"110\", \"dodge\", \"gas\", \"std\", \"four\", \"wagon\", \"fwd\", \"front\", 103.3, 122, \"2bbl\", \"3.34\", \"3.46\", 8.5, \"88\", \"5000\", 24, 30, \"8921\"], [3, \"145\", \"dodge\", \"gas\", \"turbo\", \"two\", \"hatchback\", \"fwd\", \"front\", 95.9, 156, \"mfi\", \"3.60\", \"3.90\", 7.0, \"145\", \"5000\", 19, 24, \"12964\"], [2, \"137\", \"honda\", \"gas\", \"std\", \"two\", \"hatchback\", \"fwd\", \"front\", 86.6, 92, \"1bbl\", \"2.91\", \"3.41\", 9.6, \"58\", \"4800\", 49, 54, \"6479\"], [2, \"137\", \"honda\", \"gas\", \"std\", \"two\", \"hatchback\", \"fwd\", \"front\", 86.6, 92, \"1bbl\", \"2.91\", \"3.41\", 9.2, \"76\", \"6000\", 31, 38, \"6855\"], [1, \"101\", \"honda\", \"gas\", \"std\", \"two\", \"hatchback\", \"fwd\", \"front\", 93.7, 79, \"1bbl\", \"2.91\", \"3.07\", 10.1, \"60\", \"5500\", 38, 42, \"5399\"], [1, \"101\", \"honda\", \"gas\", \"std\", \"two\", \"hatchback\", \"fwd\", \"front\", 93.7, 92, \"1bbl\", \"2.91\", \"3.41\", 9.2, \"76\", \"6000\", 30, 34, \"6529\"], [1, \"101\", \"honda\", \"gas\", \"std\", \"two\", \"hatchback\", \"fwd\", \"front\", 93.7, 92, \"1bbl\", \"2.91\", \"3.41\", 9.2, \"76\", \"6000\", 30, 34, \"7129\"], [0, \"110\", \"honda\", \"gas\", \"std\", \"four\", \"sedan\", \"fwd\", \"front\", 96.5, 92, \"1bbl\", \"2.91\", \"3.41\", 9.2, \"76\", \"6000\", 30, 34, \"7295\"], [0, \"78\", \"honda\", \"gas\", \"std\", \"four\", \"wagon\", \"fwd\", \"front\", 96.5, 92, \"1bbl\", \"2.92\", \"3.41\", 9.2, \"76\", \"6000\", 30, 34, \"7295\"], [0, \"106\", \"honda\", \"gas\", \"std\", \"two\", \"hatchback\", \"fwd\", \"front\", 96.5, 110, \"1bbl\", \"3.15\", \"3.58\", 9.0, \"86\", \"5800\", 27, 33, \"7895\"], [0, \"106\", \"honda\", \"gas\", \"std\", \"two\", \"hatchback\", \"fwd\", \"front\", 96.5, 110, \"1bbl\", \"3.15\", \"3.58\", 9.0, \"86\", \"5800\", 27, 33, \"9095\"], [0, \"85\", \"honda\", \"gas\", \"std\", \"four\", \"sedan\", \"fwd\", \"front\", 96.5, 110, \"1bbl\", \"3.15\", \"3.58\", 9.0, \"86\", \"5800\", 27, 33, \"8845\"], [0, \"85\", \"honda\", \"gas\", \"std\", \"four\", \"sedan\", \"fwd\", \"front\", 96.5, 110, \"1bbl\", \"3.15\", \"3.58\", 9.0, \"86\", \"5800\", 27, 33, \"10295\"], [0, \"85\", \"honda\", \"gas\", \"std\", \"four\", \"sedan\", \"fwd\", \"front\", 96.5, 110, \"mpfi\", \"3.15\", \"3.58\", 9.0, \"101\", \"5800\", 24, 28, \"12945\"], [1, \"107\", \"honda\", \"gas\", \"std\", \"two\", \"sedan\", \"fwd\", \"front\", 96.5, 110, \"2bbl\", \"3.15\", \"3.58\", 9.1, \"100\", \"5500\", 25, 31, \"10345\"], [0, \"?\", \"isuzu\", \"gas\", \"std\", \"four\", \"sedan\", \"rwd\", \"front\", 94.3, 111, \"2bbl\", \"3.31\", \"3.23\", 8.5, \"78\", \"4800\", 24, 29, \"6785\"], [1, \"?\", \"isuzu\", \"gas\", \"std\", \"two\", \"sedan\", \"fwd\", \"front\", 94.5, 90, \"2bbl\", \"3.03\", \"3.11\", 9.6, \"70\", \"5400\", 38, 43, \"?\"], [0, \"?\", \"isuzu\", \"gas\", \"std\", \"four\", \"sedan\", \"fwd\", \"front\", 94.5, 90, \"2bbl\", \"3.03\", \"3.11\", 9.6, \"70\", \"5400\", 38, 43, \"?\"], [2, \"?\", \"isuzu\", \"gas\", \"std\", \"two\", \"hatchback\", \"rwd\", \"front\", 96.0, 119, \"spfi\", \"3.43\", \"3.23\", 9.2, \"90\", \"5000\", 24, 29, \"11048\"], [0, \"145\", \"jaguar\", \"gas\", \"std\", \"four\", \"sedan\", \"rwd\", \"front\", 113.0, 258, \"mpfi\", \"3.63\", \"4.17\", 8.1, \"176\", \"4750\", 15, 19, \"32250\"], [0, \"?\", \"jaguar\", \"gas\", \"std\", \"four\", \"sedan\", \"rwd\", \"front\", 113.0, 258, \"mpfi\", \"3.63\", \"4.17\", 8.1, \"176\", \"4750\", 15, 19, \"35550\"], [0, \"?\", \"jaguar\", \"gas\", \"std\", \"two\", \"sedan\", \"rwd\", \"front\", 102.0, 326, \"mpfi\", \"3.54\", \"2.76\", 11.5, \"262\", \"5000\", 13, 17, \"36000\"], [1, \"104\", \"mazda\", \"gas\", \"std\", \"two\", \"hatchback\", \"fwd\", \"front\", 93.1, 91, \"2bbl\", \"3.03\", \"3.15\", 9.0, \"68\", \"5000\", 30, 31, \"5195\"], [1, \"104\", \"mazda\", \"gas\", \"std\", \"two\", \"hatchback\", \"fwd\", \"front\", 93.1, 91, \"2bbl\", \"3.03\", \"3.15\", 9.0, \"68\", \"5000\", 31, 38, \"6095\"], [1, \"104\", \"mazda\", \"gas\", \"std\", \"two\", \"hatchback\", \"fwd\", \"front\", 93.1, 91, \"2bbl\", \"3.03\", \"3.15\", 9.0, \"68\", \"5000\", 31, 38, \"6795\"], [1, \"113\", \"mazda\", \"gas\", \"std\", \"four\", \"sedan\", \"fwd\", \"front\", 93.1, 91, \"2bbl\", \"3.03\", \"3.15\", 9.0, \"68\", \"5000\", 31, 38, \"6695\"], [1, \"113\", \"mazda\", \"gas\", \"std\", \"four\", \"sedan\", \"fwd\", \"front\", 93.1, 91, \"2bbl\", \"3.08\", \"3.15\", 9.0, \"68\", \"5000\", 31, 38, \"7395\"], [3, \"150\", \"mazda\", \"gas\", \"std\", \"two\", \"hatchback\", \"rwd\", \"front\", 95.3, 70, \"4bbl\", \"?\", \"?\", 9.4, \"101\", \"6000\", 17, 23, \"10945\"], [3, \"150\", \"mazda\", \"gas\", \"std\", \"two\", \"hatchback\", \"rwd\", \"front\", 95.3, 70, \"4bbl\", \"?\", \"?\", 9.4, \"101\", \"6000\", 17, 23, \"11845\"], [3, \"150\", \"mazda\", \"gas\", \"std\", \"two\", \"hatchback\", \"rwd\", \"front\", 95.3, 70, \"4bbl\", \"?\", \"?\", 9.4, \"101\", \"6000\", 17, 23, \"13645\"], [3, \"150\", \"mazda\", \"gas\", \"std\", \"two\", \"hatchback\", \"rwd\", \"front\", 95.3, 80, \"mpfi\", \"?\", \"?\", 9.4, \"135\", \"6000\", 16, 23, \"15645\"], [1, \"129\", \"mazda\", \"gas\", \"std\", \"two\", \"hatchback\", \"fwd\", \"front\", 98.8, 122, \"2bbl\", \"3.39\", \"3.39\", 8.6, \"84\", \"4800\", 26, 32, \"8845\"], [0, \"115\", \"mazda\", \"gas\", \"std\", \"four\", \"sedan\", \"fwd\", \"front\", 98.8, 122, \"2bbl\", \"3.39\", \"3.39\", 8.6, \"84\", \"4800\", 26, 32, \"8495\"], [1, \"129\", \"mazda\", \"gas\", \"std\", \"two\", \"hatchback\", \"fwd\", \"front\", 98.8, 122, \"2bbl\", \"3.39\", \"3.39\", 8.6, \"84\", \"4800\", 26, 32, \"10595\"], [0, \"115\", \"mazda\", \"gas\", \"std\", \"four\", \"sedan\", \"fwd\", \"front\", 98.8, 122, \"2bbl\", \"3.39\", \"3.39\", 8.6, \"84\", \"4800\", 26, 32, \"10245\"], [0, \"?\", \"mazda\", \"diesel\", \"std\", \"?\", \"sedan\", \"fwd\", \"front\", 98.8, 122, \"idi\", \"3.39\", \"3.39\", 22.7, \"64\", \"4650\", 36, 42, \"10795\"], [0, \"115\", \"mazda\", \"gas\", \"std\", \"four\", \"hatchback\", \"fwd\", \"front\", 98.8, 122, \"2bbl\", \"3.39\", \"3.39\", 8.6, \"84\", \"4800\", 26, 32, \"11245\"], [0, \"118\", \"mazda\", \"gas\", \"std\", \"four\", \"sedan\", \"rwd\", \"front\", 104.9, 140, \"mpfi\", \"3.76\", \"3.16\", 8.0, \"120\", \"5000\", 19, 27, \"18280\"], [0, \"?\", \"mazda\", \"diesel\", \"std\", \"four\", \"sedan\", \"rwd\", \"front\", 104.9, 134, \"idi\", \"3.43\", \"3.64\", 22.0, \"72\", \"4200\", 31, 39, \"18344\"], [-1, \"93\", \"mercedes-benz\", \"diesel\", \"turbo\", \"four\", \"sedan\", \"rwd\", \"front\", 110.0, 183, \"idi\", \"3.58\", \"3.64\", 21.5, \"123\", \"4350\", 22, 25, \"25552\"], [-1, \"93\", \"mercedes-benz\", \"diesel\", \"turbo\", \"four\", \"wagon\", \"rwd\", \"front\", 110.0, 183, \"idi\", \"3.58\", \"3.64\", 21.5, \"123\", \"4350\", 22, 25, \"28248\"], [0, \"93\", \"mercedes-benz\", \"diesel\", \"turbo\", \"two\", \"hardtop\", \"rwd\", \"front\", 106.7, 183, \"idi\", \"3.58\", \"3.64\", 21.5, \"123\", \"4350\", 22, 25, \"28176\"], [-1, \"93\", \"mercedes-benz\", \"diesel\", \"turbo\", \"four\", \"sedan\", \"rwd\", \"front\", 115.6, 183, \"idi\", \"3.58\", \"3.64\", 21.5, \"123\", \"4350\", 22, 25, \"31600\"], [-1, \"?\", \"mercedes-benz\", \"gas\", \"std\", \"four\", \"sedan\", \"rwd\", \"front\", 115.6, 234, \"mpfi\", \"3.46\", \"3.10\", 8.3, \"155\", \"4750\", 16, 18, \"34184\"], [3, \"142\", \"mercedes-benz\", \"gas\", \"std\", \"two\", \"convertible\", \"rwd\", \"front\", 96.6, 234, \"mpfi\", \"3.46\", \"3.10\", 8.3, \"155\", \"4750\", 16, 18, \"35056\"], [0, \"?\", \"mercedes-benz\", \"gas\", \"std\", \"four\", \"sedan\", \"rwd\", \"front\", 120.9, 308, \"mpfi\", \"3.80\", \"3.35\", 8.0, \"184\", \"4500\", 14, 16, \"40960\"], [1, \"?\", \"mercedes-benz\", \"gas\", \"std\", \"two\", \"hardtop\", \"rwd\", \"front\", 112.0, 304, \"mpfi\", \"3.80\", \"3.35\", 8.0, \"184\", \"4500\", 14, 16, \"45400\"], [1, \"?\", \"mercury\", \"gas\", \"turbo\", \"two\", \"hatchback\", \"rwd\", \"front\", 102.7, 140, \"mpfi\", \"3.78\", \"3.12\", 8.0, \"175\", \"5000\", 19, 24, \"16503\"], [2, \"161\", \"mitsubishi\", \"gas\", \"std\", \"two\", \"hatchback\", \"fwd\", \"front\", 93.7, 92, \"2bbl\", \"2.97\", \"3.23\", 9.4, \"68\", \"5500\", 37, 41, \"5389\"], [2, \"161\", \"mitsubishi\", \"gas\", \"std\", \"two\", \"hatchback\", \"fwd\", \"front\", 93.7, 92, \"2bbl\", \"2.97\", \"3.23\", 9.4, \"68\", \"5500\", 31, 38, \"6189\"], [2, \"161\", \"mitsubishi\", \"gas\", \"std\", \"two\", \"hatchback\", \"fwd\", \"front\", 93.7, 92, \"2bbl\", \"2.97\", \"3.23\", 9.4, \"68\", \"5500\", 31, 38, \"6669\"], [1, \"161\", \"mitsubishi\", \"gas\", \"turbo\", \"two\", \"hatchback\", \"fwd\", \"front\", 93.0, 98, \"spdi\", \"3.03\", \"3.39\", 7.6, \"102\", \"5500\", 24, 30, \"7689\"], [3, \"153\", \"mitsubishi\", \"gas\", \"turbo\", \"two\", \"hatchback\", \"fwd\", \"front\", 96.3, 110, \"spdi\", \"3.17\", \"3.46\", 7.5, \"116\", \"5500\", 23, 30, \"9959\"], [3, \"153\", \"mitsubishi\", \"gas\", \"std\", \"two\", \"hatchback\", \"fwd\", \"front\", 96.3, 122, \"2bbl\", \"3.35\", \"3.46\", 8.5, \"88\", \"5000\", 25, 32, \"8499\"], [3, \"?\", \"mitsubishi\", \"gas\", \"turbo\", \"two\", \"hatchback\", \"fwd\", \"front\", 95.9, 156, \"spdi\", \"3.58\", \"3.86\", 7.0, \"145\", \"5000\", 19, 24, \"12629\"], [3, \"?\", \"mitsubishi\", \"gas\", \"turbo\", \"two\", \"hatchback\", \"fwd\", \"front\", 95.9, 156, \"spdi\", \"3.59\", \"3.86\", 7.0, \"145\", \"5000\", 19, 24, \"14869\"], [3, \"?\", \"mitsubishi\", \"gas\", \"turbo\", \"two\", \"hatchback\", \"fwd\", \"front\", 95.9, 156, \"spdi\", \"3.59\", \"3.86\", 7.0, \"145\", \"5000\", 19, 24, \"14489\"], [1, \"125\", \"mitsubishi\", \"gas\", \"std\", \"four\", \"sedan\", \"fwd\", \"front\", 96.3, 122, \"2bbl\", \"3.35\", \"3.46\", 8.5, \"88\", \"5000\", 25, 32, \"6989\"], [1, \"125\", \"mitsubishi\", \"gas\", \"std\", \"four\", \"sedan\", \"fwd\", \"front\", 96.3, 122, \"2bbl\", \"3.35\", \"3.46\", 8.5, \"88\", \"5000\", 25, 32, \"8189\"], [1, \"125\", \"mitsubishi\", \"gas\", \"turbo\", \"four\", \"sedan\", \"fwd\", \"front\", 96.3, 110, \"spdi\", \"3.17\", \"3.46\", 7.5, \"116\", \"5500\", 23, 30, \"9279\"], [-1, \"137\", \"mitsubishi\", \"gas\", \"std\", \"four\", \"sedan\", \"fwd\", \"front\", 96.3, 110, \"spdi\", \"3.17\", \"3.46\", 7.5, \"116\", \"5500\", 23, 30, \"9279\"], [1, \"128\", \"nissan\", \"gas\", \"std\", \"two\", \"sedan\", \"fwd\", \"front\", 94.5, 97, \"2bbl\", \"3.15\", \"3.29\", 9.4, \"69\", \"5200\", 31, 37, \"5499\"], [1, \"128\", \"nissan\", \"diesel\", \"std\", \"two\", \"sedan\", \"fwd\", \"front\", 94.5, 103, \"idi\", \"2.99\", \"3.47\", 21.9, \"55\", \"4800\", 45, 50, \"7099\"], [1, \"128\", \"nissan\", \"gas\", \"std\", \"two\", \"sedan\", \"fwd\", \"front\", 94.5, 97, \"2bbl\", \"3.15\", \"3.29\", 9.4, \"69\", \"5200\", 31, 37, \"6649\"], [1, \"122\", \"nissan\", \"gas\", \"std\", \"four\", \"sedan\", \"fwd\", \"front\", 94.5, 97, \"2bbl\", \"3.15\", \"3.29\", 9.4, \"69\", \"5200\", 31, 37, \"6849\"], [1, \"103\", \"nissan\", \"gas\", \"std\", \"four\", \"wagon\", \"fwd\", \"front\", 94.5, 97, \"2bbl\", \"3.15\", \"3.29\", 9.4, \"69\", \"5200\", 31, 37, \"7349\"], [1, \"128\", \"nissan\", \"gas\", \"std\", \"two\", \"sedan\", \"fwd\", \"front\", 94.5, 97, \"2bbl\", \"3.15\", \"3.29\", 9.4, \"69\", \"5200\", 31, 37, \"7299\"], [1, \"128\", \"nissan\", \"gas\", \"std\", \"two\", \"hatchback\", \"fwd\", \"front\", 94.5, 97, \"2bbl\", \"3.15\", \"3.29\", 9.4, \"69\", \"5200\", 31, 37, \"7799\"], [1, \"122\", \"nissan\", \"gas\", \"std\", \"four\", \"sedan\", \"fwd\", \"front\", 94.5, 97, \"2bbl\", \"3.15\", \"3.29\", 9.4, \"69\", \"5200\", 31, 37, \"7499\"], [1, \"103\", \"nissan\", \"gas\", \"std\", \"four\", \"wagon\", \"fwd\", \"front\", 94.5, 97, \"2bbl\", \"3.15\", \"3.29\", 9.4, \"69\", \"5200\", 31, 37, \"7999\"], [2, \"168\", \"nissan\", \"gas\", \"std\", \"two\", \"hardtop\", \"fwd\", \"front\", 95.1, 97, \"2bbl\", \"3.15\", \"3.29\", 9.4, \"69\", \"5200\", 31, 37, \"8249\"], [0, \"106\", \"nissan\", \"gas\", \"std\", \"four\", \"hatchback\", \"fwd\", \"front\", 97.2, 120, \"2bbl\", \"3.33\", \"3.47\", 8.5, \"97\", \"5200\", 27, 34, \"8949\"], [0, \"106\", \"nissan\", \"gas\", \"std\", \"four\", \"sedan\", \"fwd\", \"front\", 97.2, 120, \"2bbl\", \"3.33\", \"3.47\", 8.5, \"97\", \"5200\", 27, 34, \"9549\"], [0, \"128\", \"nissan\", \"gas\", \"std\", \"four\", \"sedan\", \"fwd\", \"front\", 100.4, 181, \"mpfi\", \"3.43\", \"3.27\", 9.0, \"152\", \"5200\", 17, 22, \"13499\"], [0, \"108\", \"nissan\", \"gas\", \"std\", \"four\", \"wagon\", \"fwd\", \"front\", 100.4, 181, \"mpfi\", \"3.43\", \"3.27\", 9.0, \"152\", \"5200\", 17, 22, \"14399\"], [0, \"108\", \"nissan\", \"gas\", \"std\", \"four\", \"sedan\", \"fwd\", \"front\", 100.4, 181, \"mpfi\", \"3.43\", \"3.27\", 9.0, \"152\", \"5200\", 19, 25, \"13499\"], [3, \"194\", \"nissan\", \"gas\", \"std\", \"two\", \"hatchback\", \"rwd\", \"front\", 91.3, 181, \"mpfi\", \"3.43\", \"3.27\", 9.0, \"160\", \"5200\", 19, 25, \"17199\"], [3, \"194\", \"nissan\", \"gas\", \"turbo\", \"two\", \"hatchback\", \"rwd\", \"front\", 91.3, 181, \"mpfi\", \"3.43\", \"3.27\", 7.8, \"200\", \"5200\", 17, 23, \"19699\"], [1, \"231\", \"nissan\", \"gas\", \"std\", \"two\", \"hatchback\", \"rwd\", \"front\", 99.2, 181, \"mpfi\", \"3.43\", \"3.27\", 9.0, \"160\", \"5200\", 19, 25, \"18399\"], [0, \"161\", \"peugot\", \"gas\", \"std\", \"four\", \"sedan\", \"rwd\", \"front\", 107.9, 120, \"mpfi\", \"3.46\", \"3.19\", 8.4, \"97\", \"5000\", 19, 24, \"11900\"], [0, \"161\", \"peugot\", \"diesel\", \"turbo\", \"four\", \"sedan\", \"rwd\", \"front\", 107.9, 152, \"idi\", \"3.70\", \"3.52\", 21.0, \"95\", \"4150\", 28, 33, \"13200\"], [0, \"?\", \"peugot\", \"gas\", \"std\", \"four\", \"wagon\", \"rwd\", \"front\", 114.2, 120, \"mpfi\", \"3.46\", \"3.19\", 8.4, \"97\", \"5000\", 19, 24, \"12440\"], [0, \"?\", \"peugot\", \"diesel\", \"turbo\", \"four\", \"wagon\", \"rwd\", \"front\", 114.2, 152, \"idi\", \"3.70\", \"3.52\", 21.0, \"95\", \"4150\", 25, 25, \"13860\"], [0, \"161\", \"peugot\", \"gas\", \"std\", \"four\", \"sedan\", \"rwd\", \"front\", 107.9, 120, \"mpfi\", \"3.46\", \"2.19\", 8.4, \"95\", \"5000\", 19, 24, \"15580\"], [0, \"161\", \"peugot\", \"diesel\", \"turbo\", \"four\", \"sedan\", \"rwd\", \"front\", 107.9, 152, \"idi\", \"3.70\", \"3.52\", 21.0, \"95\", \"4150\", 28, 33, \"16900\"], [0, \"?\", \"peugot\", \"gas\", \"std\", \"four\", \"wagon\", \"rwd\", \"front\", 114.2, 120, \"mpfi\", \"3.46\", \"2.19\", 8.4, \"95\", \"5000\", 19, 24, \"16695\"], [0, \"?\", \"peugot\", \"diesel\", \"turbo\", \"four\", \"wagon\", \"rwd\", \"front\", 114.2, 152, \"idi\", \"3.70\", \"3.52\", 21.0, \"95\", \"4150\", 25, 25, \"17075\"], [0, \"161\", \"peugot\", \"gas\", \"std\", \"four\", \"sedan\", \"rwd\", \"front\", 107.9, 120, \"mpfi\", \"3.46\", \"3.19\", 8.4, \"97\", \"5000\", 19, 24, \"16630\"], [0, \"161\", \"peugot\", \"diesel\", \"turbo\", \"four\", \"sedan\", \"rwd\", \"front\", 107.9, 152, \"idi\", \"3.70\", \"3.52\", 21.0, \"95\", \"4150\", 28, 33, \"17950\"], [0, \"161\", \"peugot\", \"gas\", \"turbo\", \"four\", \"sedan\", \"rwd\", \"front\", 108.0, 134, \"mpfi\", \"3.61\", \"3.21\", 7.0, \"142\", \"5600\", 18, 24, \"18150\"], [1, \"119\", \"plymouth\", \"gas\", \"std\", \"two\", \"hatchback\", \"fwd\", \"front\", 93.7, 90, \"2bbl\", \"2.97\", \"3.23\", 9.4, \"68\", \"5500\", 37, 41, \"5572\"], [1, \"119\", \"plymouth\", \"gas\", \"turbo\", \"two\", \"hatchback\", \"fwd\", \"front\", 93.7, 98, \"spdi\", \"3.03\", \"3.39\", 7.6, \"102\", \"5500\", 24, 30, \"7957\"], [1, \"154\", \"plymouth\", \"gas\", \"std\", \"four\", \"hatchback\", \"fwd\", \"front\", 93.7, 90, \"2bbl\", \"2.97\", \"3.23\", 9.4, \"68\", \"5500\", 31, 38, \"6229\"], [1, \"154\", \"plymouth\", \"gas\", \"std\", \"four\", \"sedan\", \"fwd\", \"front\", 93.7, 90, \"2bbl\", \"2.97\", \"3.23\", 9.4, \"68\", \"5500\", 31, 38, \"6692\"], [1, \"154\", \"plymouth\", \"gas\", \"std\", \"four\", \"sedan\", \"fwd\", \"front\", 93.7, 98, \"2bbl\", \"2.97\", \"3.23\", 9.4, \"68\", \"5500\", 31, 38, \"7609\"], [-1, \"74\", \"plymouth\", \"gas\", \"std\", \"four\", \"wagon\", \"fwd\", \"front\", 103.3, 122, \"2bbl\", \"3.35\", \"3.46\", 8.5, \"88\", \"5000\", 24, 30, \"8921\"], [3, \"?\", \"plymouth\", \"gas\", \"turbo\", \"two\", \"hatchback\", \"rwd\", \"front\", 95.9, 156, \"spdi\", \"3.59\", \"3.86\", 7.0, \"145\", \"5000\", 19, 24, \"12764\"], [3, \"186\", \"porsche\", \"gas\", \"std\", \"two\", \"hatchback\", \"rwd\", \"front\", 94.5, 151, \"mpfi\", \"3.94\", \"3.11\", 9.5, \"143\", \"5500\", 19, 27, \"22018\"], [3, \"?\", \"porsche\", \"gas\", \"std\", \"two\", \"hardtop\", \"rwd\", \"rear\", 89.5, 194, \"mpfi\", \"3.74\", \"2.90\", 9.5, \"207\", \"5900\", 17, 25, \"32528\"], [3, \"?\", \"porsche\", \"gas\", \"std\", \"two\", \"hardtop\", \"rwd\", \"rear\", 89.5, 194, \"mpfi\", \"3.74\", \"2.90\", 9.5, \"207\", \"5900\", 17, 25, \"34028\"], [3, \"?\", \"porsche\", \"gas\", \"std\", \"two\", \"convertible\", \"rwd\", \"rear\", 89.5, 194, \"mpfi\", \"3.74\", \"2.90\", 9.5, \"207\", \"5900\", 17, 25, \"37028\"], [1, \"?\", \"porsche\", \"gas\", \"std\", \"two\", \"hatchback\", \"rwd\", \"front\", 98.4, 203, \"mpfi\", \"3.94\", \"3.11\", 10.0, \"288\", \"5750\", 17, 28, \"?\"], [0, \"?\", \"renault\", \"gas\", \"std\", \"four\", \"wagon\", \"fwd\", \"front\", 96.1, 132, \"mpfi\", \"3.46\", \"3.90\", 8.7, \"?\", \"?\", 23, 31, \"9295\"], [2, \"?\", \"renault\", \"gas\", \"std\", \"two\", \"hatchback\", \"fwd\", \"front\", 96.1, 132, \"mpfi\", \"3.46\", \"3.90\", 8.7, \"?\", \"?\", 23, 31, \"9895\"], [3, \"150\", \"saab\", \"gas\", \"std\", \"two\", \"hatchback\", \"fwd\", \"front\", 99.1, 121, \"mpfi\", \"3.54\", \"3.07\", 9.31, \"110\", \"5250\", 21, 28, \"11850\"], [2, \"104\", \"saab\", \"gas\", \"std\", \"four\", \"sedan\", \"fwd\", \"front\", 99.1, 121, \"mpfi\", \"3.54\", \"3.07\", 9.3, \"110\", \"5250\", 21, 28, \"12170\"], [3, \"150\", \"saab\", \"gas\", \"std\", \"two\", \"hatchback\", \"fwd\", \"front\", 99.1, 121, \"mpfi\", \"2.54\", \"2.07\", 9.3, \"110\", \"5250\", 21, 28, \"15040\"], [2, \"104\", \"saab\", \"gas\", \"std\", \"four\", \"sedan\", \"fwd\", \"front\", 99.1, 121, \"mpfi\", \"3.54\", \"3.07\", 9.3, \"110\", \"5250\", 21, 28, \"15510\"], [3, \"150\", \"saab\", \"gas\", \"turbo\", \"two\", \"hatchback\", \"fwd\", \"front\", 99.1, 121, \"mpfi\", \"3.54\", \"3.07\", 9.0, \"160\", \"5500\", 19, 26, \"18150\"], [2, \"104\", \"saab\", \"gas\", \"turbo\", \"four\", \"sedan\", \"fwd\", \"front\", 99.1, 121, \"mpfi\", \"3.54\", \"3.07\", 9.0, \"160\", \"5500\", 19, 26, \"18620\"], [2, \"83\", \"subaru\", \"gas\", \"std\", \"two\", \"hatchback\", \"fwd\", \"front\", 93.7, 97, \"2bbl\", \"3.62\", \"2.36\", 9.0, \"69\", \"4900\", 31, 36, \"5118\"], [2, \"83\", \"subaru\", \"gas\", \"std\", \"two\", \"hatchback\", \"fwd\", \"front\", 93.7, 108, \"2bbl\", \"3.62\", \"2.64\", 8.7, \"73\", \"4400\", 26, 31, \"7053\"], [2, \"83\", \"subaru\", \"gas\", \"std\", \"two\", \"hatchback\", \"4wd\", \"front\", 93.3, 108, \"2bbl\", \"3.62\", \"2.64\", 8.7, \"73\", \"4400\", 26, 31, \"7603\"], [0, \"102\", \"subaru\", \"gas\", \"std\", \"four\", \"sedan\", \"fwd\", \"front\", 97.2, 108, \"2bbl\", \"3.62\", \"2.64\", 9.5, \"82\", \"4800\", 32, 37, \"7126\"], [0, \"102\", \"subaru\", \"gas\", \"std\", \"four\", \"sedan\", \"fwd\", \"front\", 97.2, 108, \"2bbl\", \"3.62\", \"2.64\", 9.5, \"82\", \"4400\", 28, 33, \"7775\"], [0, \"102\", \"subaru\", \"gas\", \"std\", \"four\", \"sedan\", \"fwd\", \"front\", 97.2, 108, \"mpfi\", \"3.62\", \"2.64\", 9.0, \"94\", \"5200\", 26, 32, \"9960\"], [0, \"102\", \"subaru\", \"gas\", \"std\", \"four\", \"sedan\", \"4wd\", \"front\", 97.0, 108, \"2bbl\", \"3.62\", \"2.64\", 9.0, \"82\", \"4800\", 24, 25, \"9233\"], [0, \"102\", \"subaru\", \"gas\", \"turbo\", \"four\", \"sedan\", \"4wd\", \"front\", 97.0, 108, \"mpfi\", \"3.62\", \"2.64\", 7.7, \"111\", \"4800\", 24, 29, \"11259\"], [0, \"89\", \"subaru\", \"gas\", \"std\", \"four\", \"wagon\", \"fwd\", \"front\", 97.0, 108, \"2bbl\", \"3.62\", \"2.64\", 9.0, \"82\", \"4800\", 28, 32, \"7463\"], [0, \"89\", \"subaru\", \"gas\", \"std\", \"four\", \"wagon\", \"fwd\", \"front\", 97.0, 108, \"mpfi\", \"3.62\", \"2.64\", 9.0, \"94\", \"5200\", 25, 31, \"10198\"], [0, \"85\", \"subaru\", \"gas\", \"std\", \"four\", \"wagon\", \"4wd\", \"front\", 96.9, 108, \"2bbl\", \"3.62\", \"2.64\", 9.0, \"82\", \"4800\", 23, 29, \"8013\"], [0, \"85\", \"subaru\", \"gas\", \"turbo\", \"four\", \"wagon\", \"4wd\", \"front\", 96.9, 108, \"mpfi\", \"3.62\", \"2.64\", 7.7, \"111\", \"4800\", 23, 23, \"11694\"], [1, \"87\", \"toyota\", \"gas\", \"std\", \"two\", \"hatchback\", \"fwd\", \"front\", 95.7, 92, \"2bbl\", \"3.05\", \"3.03\", 9.0, \"62\", \"4800\", 35, 39, \"5348\"], [1, \"87\", \"toyota\", \"gas\", \"std\", \"two\", \"hatchback\", \"fwd\", \"front\", 95.7, 92, \"2bbl\", \"3.05\", \"3.03\", 9.0, \"62\", \"4800\", 31, 38, \"6338\"], [1, \"74\", \"toyota\", \"gas\", \"std\", \"four\", \"hatchback\", \"fwd\", \"front\", 95.7, 92, \"2bbl\", \"3.05\", \"3.03\", 9.0, \"62\", \"4800\", 31, 38, \"6488\"], [0, \"77\", \"toyota\", \"gas\", \"std\", \"four\", \"wagon\", \"fwd\", \"front\", 95.7, 92, \"2bbl\", \"3.05\", \"3.03\", 9.0, \"62\", \"4800\", 31, 37, \"6918\"], [0, \"81\", \"toyota\", \"gas\", \"std\", \"four\", \"wagon\", \"4wd\", \"front\", 95.7, 92, \"2bbl\", \"3.05\", \"3.03\", 9.0, \"62\", \"4800\", 27, 32, \"7898\"], [0, \"91\", \"toyota\", \"gas\", \"std\", \"four\", \"wagon\", \"4wd\", \"front\", 95.7, 92, \"2bbl\", \"3.05\", \"3.03\", 9.0, \"62\", \"4800\", 27, 32, \"8778\"], [0, \"91\", \"toyota\", \"gas\", \"std\", \"four\", \"sedan\", \"fwd\", \"front\", 95.7, 98, \"2bbl\", \"3.19\", \"3.03\", 9.0, \"70\", \"4800\", 30, 37, \"6938\"], [0, \"91\", \"toyota\", \"gas\", \"std\", \"four\", \"hatchback\", \"fwd\", \"front\", 95.7, 98, \"2bbl\", \"3.19\", \"3.03\", 9.0, \"70\", \"4800\", 30, 37, \"7198\"], [0, \"91\", \"toyota\", \"diesel\", \"std\", \"four\", \"sedan\", \"fwd\", \"front\", 95.7, 110, \"idi\", \"3.27\", \"3.35\", 22.5, \"56\", \"4500\", 34, 36, \"7898\"], [0, \"91\", \"toyota\", \"diesel\", \"std\", \"four\", \"hatchback\", \"fwd\", \"front\", 95.7, 110, \"idi\", \"3.27\", \"3.35\", 22.5, \"56\", \"4500\", 38, 47, \"7788\"], [0, \"91\", \"toyota\", \"gas\", \"std\", \"four\", \"sedan\", \"fwd\", \"front\", 95.7, 98, \"2bbl\", \"3.19\", \"3.03\", 9.0, \"70\", \"4800\", 38, 47, \"7738\"], [0, \"91\", \"toyota\", \"gas\", \"std\", \"four\", \"hatchback\", \"fwd\", \"front\", 95.7, 98, \"2bbl\", \"3.19\", \"3.03\", 9.0, \"70\", \"4800\", 28, 34, \"8358\"], [0, \"91\", \"toyota\", \"gas\", \"std\", \"four\", \"sedan\", \"fwd\", \"front\", 95.7, 98, \"2bbl\", \"3.19\", \"3.03\", 9.0, \"70\", \"4800\", 28, 34, \"9258\"], [1, \"168\", \"toyota\", \"gas\", \"std\", \"two\", \"sedan\", \"rwd\", \"front\", 94.5, 98, \"2bbl\", \"3.19\", \"3.03\", 9.0, \"70\", \"4800\", 29, 34, \"8058\"], [1, \"168\", \"toyota\", \"gas\", \"std\", \"two\", \"hatchback\", \"rwd\", \"front\", 94.5, 98, \"2bbl\", \"3.19\", \"3.03\", 9.0, \"70\", \"4800\", 29, 34, \"8238\"], [1, \"168\", \"toyota\", \"gas\", \"std\", \"two\", \"sedan\", \"rwd\", \"front\", 94.5, 98, \"mpfi\", \"3.24\", \"3.08\", 9.4, \"112\", \"6600\", 26, 29, \"9298\"], [1, \"168\", \"toyota\", \"gas\", \"std\", \"two\", \"hatchback\", \"rwd\", \"front\", 94.5, 98, \"mpfi\", \"3.24\", \"3.08\", 9.4, \"112\", \"6600\", 26, 29, \"9538\"], [2, \"134\", \"toyota\", \"gas\", \"std\", \"two\", \"hardtop\", \"rwd\", \"front\", 98.4, 146, \"mpfi\", \"3.62\", \"3.50\", 9.3, \"116\", \"4800\", 24, 30, \"8449\"], [2, \"134\", \"toyota\", \"gas\", \"std\", \"two\", \"hardtop\", \"rwd\", \"front\", 98.4, 146, \"mpfi\", \"3.62\", \"3.50\", 9.3, \"116\", \"4800\", 24, 30, \"9639\"], [2, \"134\", \"toyota\", \"gas\", \"std\", \"two\", \"hatchback\", \"rwd\", \"front\", 98.4, 146, \"mpfi\", \"3.62\", \"3.50\", 9.3, \"116\", \"4800\", 24, 30, \"9989\"], [2, \"134\", \"toyota\", \"gas\", \"std\", \"two\", \"hardtop\", \"rwd\", \"front\", 98.4, 146, \"mpfi\", \"3.62\", \"3.50\", 9.3, \"116\", \"4800\", 24, 30, \"11199\"], [2, \"134\", \"toyota\", \"gas\", \"std\", \"two\", \"hatchback\", \"rwd\", \"front\", 98.4, 146, \"mpfi\", \"3.62\", \"3.50\", 9.3, \"116\", \"4800\", 24, 30, \"11549\"], [2, \"134\", \"toyota\", \"gas\", \"std\", \"two\", \"convertible\", \"rwd\", \"front\", 98.4, 146, \"mpfi\", \"3.62\", \"3.50\", 9.3, \"116\", \"4800\", 24, 30, \"17669\"], [-1, \"65\", \"toyota\", \"gas\", \"std\", \"four\", \"sedan\", \"fwd\", \"front\", 102.4, 122, \"mpfi\", \"3.31\", \"3.54\", 8.7, \"92\", \"4200\", 29, 34, \"8948\"], [-1, \"65\", \"toyota\", \"diesel\", \"turbo\", \"four\", \"sedan\", \"fwd\", \"front\", 102.4, 110, \"idi\", \"3.27\", \"3.35\", 22.5, \"73\", \"4500\", 30, 33, \"10698\"], [-1, \"65\", \"toyota\", \"gas\", \"std\", \"four\", \"hatchback\", \"fwd\", \"front\", 102.4, 122, \"mpfi\", \"3.31\", \"3.54\", 8.7, \"92\", \"4200\", 27, 32, \"9988\"], [-1, \"65\", \"toyota\", \"gas\", \"std\", \"four\", \"sedan\", \"fwd\", \"front\", 102.4, 122, \"mpfi\", \"3.31\", \"3.54\", 8.7, \"92\", \"4200\", 27, 32, \"10898\"], [-1, \"65\", \"toyota\", \"gas\", \"std\", \"four\", \"hatchback\", \"fwd\", \"front\", 102.4, 122, \"mpfi\", \"3.31\", \"3.54\", 8.7, \"92\", \"4200\", 27, 32, \"11248\"], [3, \"197\", \"toyota\", \"gas\", \"std\", \"two\", \"hatchback\", \"rwd\", \"front\", 102.9, 171, \"mpfi\", \"3.27\", \"3.35\", 9.3, \"161\", \"5200\", 20, 24, \"16558\"], [3, \"197\", \"toyota\", \"gas\", \"std\", \"two\", \"hatchback\", \"rwd\", \"front\", 102.9, 171, \"mpfi\", \"3.27\", \"3.35\", 9.3, \"161\", \"5200\", 19, 24, \"15998\"], [-1, \"90\", \"toyota\", \"gas\", \"std\", \"four\", \"sedan\", \"rwd\", \"front\", 104.5, 171, \"mpfi\", \"3.27\", \"3.35\", 9.2, \"156\", \"5200\", 20, 24, \"15690\"], [-1, \"?\", \"toyota\", \"gas\", \"std\", \"four\", \"wagon\", \"rwd\", \"front\", 104.5, 161, \"mpfi\", \"3.27\", \"3.35\", 9.2, \"156\", \"5200\", 19, 24, \"15750\"], [2, \"122\", \"volkswagen\", \"diesel\", \"std\", \"two\", \"sedan\", \"fwd\", \"front\", 97.3, 97, \"idi\", \"3.01\", \"3.40\", 23.0, \"52\", \"4800\", 37, 46, \"7775\"], [2, \"122\", \"volkswagen\", \"gas\", \"std\", \"two\", \"sedan\", \"fwd\", \"front\", 97.3, 109, \"mpfi\", \"3.19\", \"3.40\", 9.0, \"85\", \"5250\", 27, 34, \"7975\"], [2, \"94\", \"volkswagen\", \"diesel\", \"std\", \"four\", \"sedan\", \"fwd\", \"front\", 97.3, 97, \"idi\", \"3.01\", \"3.40\", 23.0, \"52\", \"4800\", 37, 46, \"7995\"], [2, \"94\", \"volkswagen\", \"gas\", \"std\", \"four\", \"sedan\", \"fwd\", \"front\", 97.3, 109, \"mpfi\", \"3.19\", \"3.40\", 9.0, \"85\", \"5250\", 27, 34, \"8195\"], [2, \"94\", \"volkswagen\", \"gas\", \"std\", \"four\", \"sedan\", \"fwd\", \"front\", 97.3, 109, \"mpfi\", \"3.19\", \"3.40\", 9.0, \"85\", \"5250\", 27, 34, \"8495\"], [2, \"94\", \"volkswagen\", \"diesel\", \"turbo\", \"four\", \"sedan\", \"fwd\", \"front\", 97.3, 97, \"idi\", \"3.01\", \"3.40\", 23.0, \"68\", \"4500\", 37, 42, \"9495\"], [2, \"94\", \"volkswagen\", \"gas\", \"std\", \"four\", \"sedan\", \"fwd\", \"front\", 97.3, 109, \"mpfi\", \"3.19\", \"3.40\", 10.0, \"100\", \"5500\", 26, 32, \"9995\"], [3, \"?\", \"volkswagen\", \"gas\", \"std\", \"two\", \"convertible\", \"fwd\", \"front\", 94.5, 109, \"mpfi\", \"3.19\", \"3.40\", 8.5, \"90\", \"5500\", 24, 29, \"11595\"], [3, \"256\", \"volkswagen\", \"gas\", \"std\", \"two\", \"hatchback\", \"fwd\", \"front\", 94.5, 109, \"mpfi\", \"3.19\", \"3.40\", 8.5, \"90\", \"5500\", 24, 29, \"9980\"], [0, \"?\", \"volkswagen\", \"gas\", \"std\", \"four\", \"sedan\", \"fwd\", \"front\", 100.4, 136, \"mpfi\", \"3.19\", \"3.40\", 8.5, \"110\", \"5500\", 19, 24, \"13295\"], [0, \"?\", \"volkswagen\", \"diesel\", \"turbo\", \"four\", \"sedan\", \"fwd\", \"front\", 100.4, 97, \"idi\", \"3.01\", \"3.40\", 23.0, \"68\", \"4500\", 33, 38, \"13845\"], [0, \"?\", \"volkswagen\", \"gas\", \"std\", \"four\", \"wagon\", \"fwd\", \"front\", 100.4, 109, \"mpfi\", \"3.19\", \"3.40\", 9.0, \"88\", \"5500\", 25, 31, \"12290\"], [-2, \"103\", \"volvo\", \"gas\", \"std\", \"four\", \"sedan\", \"rwd\", \"front\", 104.3, 141, \"mpfi\", \"3.78\", \"3.15\", 9.5, \"114\", \"5400\", 23, 28, \"12940\"], [-1, \"74\", \"volvo\", \"gas\", \"std\", \"four\", \"wagon\", \"rwd\", \"front\", 104.3, 141, \"mpfi\", \"3.78\", \"3.15\", 9.5, \"114\", \"5400\", 23, 28, \"13415\"], [-2, \"103\", \"volvo\", \"gas\", \"std\", \"four\", \"sedan\", \"rwd\", \"front\", 104.3, 141, \"mpfi\", \"3.78\", \"3.15\", 9.5, \"114\", \"5400\", 24, 28, \"15985\"], [-1, \"74\", \"volvo\", \"gas\", \"std\", \"four\", \"wagon\", \"rwd\", \"front\", 104.3, 141, \"mpfi\", \"3.78\", \"3.15\", 9.5, \"114\", \"5400\", 24, 28, \"16515\"], [-2, \"103\", \"volvo\", \"gas\", \"turbo\", \"four\", \"sedan\", \"rwd\", \"front\", 104.3, 130, \"mpfi\", \"3.62\", \"3.15\", 7.5, \"162\", \"5100\", 17, 22, \"18420\"], [-1, \"74\", \"volvo\", \"gas\", \"turbo\", \"four\", \"wagon\", \"rwd\", \"front\", 104.3, 130, \"mpfi\", \"3.62\", \"3.15\", 7.5, \"162\", \"5100\", 17, 22, \"18950\"], [-1, \"95\", \"volvo\", \"gas\", \"std\", \"four\", \"sedan\", \"rwd\", \"front\", 109.1, 141, \"mpfi\", \"3.78\", \"3.15\", 9.5, \"114\", \"5400\", 23, 28, \"16845\"], [-1, \"95\", \"volvo\", \"gas\", \"turbo\", \"four\", \"sedan\", \"rwd\", \"front\", 109.1, 141, \"mpfi\", \"3.78\", \"3.15\", 8.7, \"160\", \"5300\", 19, 25, \"19045\"], [-1, \"95\", \"volvo\", \"gas\", \"std\", \"four\", \"sedan\", \"rwd\", \"front\", 109.1, 173, \"mpfi\", \"3.58\", \"2.87\", 8.8, \"134\", \"5500\", 18, 23, \"21485\"], [-1, \"95\", \"volvo\", \"diesel\", \"turbo\", \"four\", \"sedan\", \"rwd\", \"front\", 109.1, 145, \"idi\", \"3.01\", \"3.40\", 23.0, \"106\", \"4800\", 26, 27, \"22470\"], [-1, \"95\", \"volvo\", \"gas\", \"turbo\", \"four\", \"sedan\", \"rwd\", \"front\", 109.1, 141, \"mpfi\", \"3.78\", \"3.15\", 9.5, \"114\", \"5400\", 19, 25, \"22625\"]]};\n",
       "        dt_args = eval_functions(dt_args);\n",
       "        table = $('#5d784420-698f-4ceb-8565-4d0f1f35fe7a').DataTable(dt_args);\n",
       "    });\n",
       "})\n",
       "</script>\n",
       "</div>\n"
      ],
      "text/plain": [
       "<IPython.core.display.HTML object>"
      ]
     },
     "metadata": {},
     "output_type": "display_data"
    }
   ],
   "source": [
    "\n",
    "show(df, columnDefs=[{\"width\": \"200px\", \"targets\": \"_all\"}])\n"
   ]
  },
  {
   "cell_type": "code",
   "execution_count": null,
   "metadata": {},
   "outputs": [],
   "source": []
  }
 ],
 "metadata": {
  "kernelspec": {
   "display_name": "Python 3",
   "language": "python",
   "name": "python3"
  },
  "language_info": {
   "codemirror_mode": {
    "name": "ipython",
    "version": 3
   },
   "file_extension": ".py",
   "mimetype": "text/x-python",
   "name": "python",
   "nbconvert_exporter": "python",
   "pygments_lexer": "ipython3",
   "version": "3.8.5"
  }
 },
 "nbformat": 4,
 "nbformat_minor": 4
}
