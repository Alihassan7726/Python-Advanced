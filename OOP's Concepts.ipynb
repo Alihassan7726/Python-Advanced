{
 "cells": [
  {
   "cell_type": "code",
   "execution_count": 1,
   "metadata": {},
   "outputs": [
    {
     "name": "stdout",
     "output_type": "stream",
     "text": [
      "This is Raw parrot with 5 age and in multi color\n",
      "This is simple parrot with 2 age and in Green color\n",
      "obj1 is a Bird\n",
      "obj2 is also a Bird\n",
      "Raw is with age 2 and in multi color\n"
     ]
    },
    {
     "data": {
      "text/plain": [
       "'This is docstring . and it is my first class'"
      ]
     },
     "execution_count": 1,
     "metadata": {},
     "output_type": "execute_result"
    }
   ],
   "source": [
    "class parrot:\n",
    "    '''This is docstring . and it is my first class'''\n",
    "    # class attribute\n",
    "    specie = 'Bird'\n",
    "    \n",
    "    #object attribute\n",
    "    def __init__(self,name,age,color):\n",
    "        self.name = name\n",
    "        self.age = age\n",
    "        self.color = color\n",
    "    def info_parrot(self):\n",
    "        print(f'This is {self.name} parrot with {self.age} age and in {self.color} color')\n",
    "# crating object\n",
    "obj1 = parrot('Raw',5,'multi')\n",
    "obj2 = parrot('simple',2,'Green')\n",
    "obj1.info_parrot()\n",
    "obj2.info_parrot()\n",
    "# Accessing class attributes\n",
    "print('obj1 is a {}'.format(obj1.specie))# This line and below are same and give the same output.\n",
    "print('obj2 is also a {}'.format(obj2.__class__.specie))\n",
    "# Accessing instance attributes\n",
    "print('{} is with age {} and in {} color'.format(obj1.name,obj2.age,obj1.color))\n",
    "parrot.__doc__"
   ]
  },
  {
   "cell_type": "code",
   "execution_count": 6,
   "metadata": {},
   "outputs": [
    {
     "name": "stdout",
     "output_type": "stream",
     "text": [
      "Bird\n",
      "obj1 is a Bird\n",
      "obj2 is also a Bird\n",
      "Raw is with age 5 and in multi color\n"
     ]
    }
   ],
   "source": [
    "class parrot:\n",
    "    \n",
    "    # class attribute\n",
    "    specie = 'Bird'\n",
    "    \n",
    "    #object attribute\n",
    "    def __init__(self):\n",
    "        self.name = 'Raw'\n",
    "        self.age = 5\n",
    "        self.color = 'multi'\n",
    "# crating object\n",
    "obj1 = parrot()\n",
    "obj2 = parrot()\n",
    "# Accessing class attributes\n",
    "print(parrot.specie)\n",
    "print('obj1 is a {}'.format(obj1.__class__.specie))\n",
    "print('obj2 is also a {}'.format(obj2.__class__.specie))\n",
    "# Accessing instance attributes\n",
    "print('{} is with age {} and in {} color'.format(obj1.name,obj2.age,obj1.color))\n"
   ]
  },
  {
   "cell_type": "code",
   "execution_count": 7,
   "metadata": {},
   "outputs": [
    {
     "name": "stdout",
     "output_type": "stream",
     "text": [
      "men\n",
      "<function person.greet at 0x000001BED379A5E0>\n",
      "Hello nice to meet you\n",
      "Hello nice to meet you\n",
      "Hello nice to meet you\n"
     ]
    },
    {
     "data": {
      "text/plain": [
       "'men'"
      ]
     },
     "execution_count": 7,
     "metadata": {},
     "output_type": "execute_result"
    }
   ],
   "source": [
    "class person:\n",
    "    '''This a class by Ali'''\n",
    "    type = 'men'\n",
    "    def greet(self):\n",
    "        print('Hello nice to meet you')\n",
    "# When a class is created an object same of class name is also created that is used to initialize other objects.\n",
    "print(person.type)\n",
    "print(person.greet)\n",
    "ob1 = person()\n",
    "ob2 = person()\n",
    "ob1.greet()\n",
    "ob2.greet() # This line and below line is same.\n",
    "person.greet(ob2)\n",
    "ob1.type"
   ]
  },
  {
   "cell_type": "code",
   "execution_count": 11,
   "metadata": {},
   "outputs": [
    {
     "name": "stdout",
     "output_type": "stream",
     "text": [
      "thanks for buying BMW\n",
      "None\n",
      "thanks for buying Audi\n",
      "None\n",
      "BMW and price 100000\n",
      "Audi and price 900000\n",
      "luxury cars\n",
      "luxury cars\n",
      "luxury cars\n",
      "luxury cars\n",
      "I am Static method\n",
      "None\n",
      "2000000\n"
     ]
    }
   ],
   "source": [
    "class car:\n",
    "    types = 'luxury cars'\n",
    "    def __init__(self,name,price):\n",
    "        self.name = name\n",
    "        self.price = price\n",
    "    # Instance method\n",
    "    def greet(self):\n",
    "        print(\"thanks for buying\",self.name)\n",
    "    \n",
    "    # Class method\n",
    "    @classmethod\n",
    "    def cm (cls):\n",
    "        return cls.types\n",
    "    \n",
    "    # Static method\n",
    "    @staticmethod\n",
    "    def sm():\n",
    "        print(\"I am Static method\")\n",
    "car.types\n",
    "car.greet\n",
    "bmw = car('BMW',100000)\n",
    "audi = car('Audi',900000)\n",
    "print(bmw.greet())\n",
    "print(audi.greet())\n",
    "print(bmw.name,'and price',bmw.price)\n",
    "print(audi.name,'and price',audi.price)\n",
    "print(bmw.types) # This line and below have same output\n",
    "print(audi.types)\n",
    "print(bmw.cm())\n",
    "print(audi.cm())\n",
    "print(bmw.sm())\n",
    "bmw.price = 2000000\n",
    "print(bmw.price)"
   ]
  },
  {
   "cell_type": "code",
   "execution_count": null,
   "metadata": {},
   "outputs": [],
   "source": []
  }
 ],
 "metadata": {
  "kernelspec": {
   "display_name": "Python 3",
   "language": "python",
   "name": "python3"
  },
  "language_info": {
   "codemirror_mode": {
    "name": "ipython",
    "version": 3
   },
   "file_extension": ".py",
   "mimetype": "text/x-python",
   "name": "python",
   "nbconvert_exporter": "python",
   "pygments_lexer": "ipython3",
   "version": "3.8.5"
  }
 },
 "nbformat": 4,
 "nbformat_minor": 4
}
