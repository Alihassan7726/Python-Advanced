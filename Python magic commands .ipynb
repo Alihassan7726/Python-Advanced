{
 "cells": [
  {
   "cell_type": "code",
   "execution_count": 9,
   "metadata": {},
   "outputs": [
    {
     "name": "stdout",
     "output_type": "stream",
     "text": [
      "😗\n",
      "😂\n",
      "🥰\n",
      "😪\n",
      "😷\n",
      "🤗\n",
      "🤣\n"
     ]
    }
   ],
   "source": [
    "print(\"\\U0001f617\")\n",
    "print(\"\\U0001f602\")\n",
    "print(\"\\U0001f970\")\n",
    "print(\"\\U0001f62A\")\n",
    "print(\"\\U0001f637\")\n",
    "print(\"\\U0001f917\")\n",
    "print(\"\\U0001f923\")\n"
   ]
  },
  {
   "cell_type": "code",
   "execution_count": 41,
   "metadata": {},
   "outputs": [
    {
     "name": "stdout",
     "output_type": "stream",
     "text": [
      "[1, 2]\n"
     ]
    }
   ],
   "source": [
    "l = [2,3,3,2]\n",
    "x = [n for n ,y in enumerate(l) if y == 3]\n",
    "print(x)"
   ]
  },
  {
   "cell_type": "code",
   "execution_count": 42,
   "metadata": {},
   "outputs": [
    {
     "name": "stdout",
     "output_type": "stream",
     "text": [
      "Duplicates exists\n",
      "[(5, 2, [4, 10]), (6, 2, [5, 9]), (7, 3, [6, 7, 8])]\n"
     ]
    }
   ],
   "source": [
    "def duplicate_check(l):\n",
    "    if len(l) == len(set(l)):\n",
    "        pass\n",
    "    else:\n",
    "        print('Duplicates exists')\n",
    "    dup_ele = set([i for i in l if l.count(i) > 1])\n",
    "    count = [l.count(c) for c in dup_ele]\n",
    "    index = []\n",
    "    for i in dup_ele:\n",
    "        a = [x for x,y in enumerate(l) if y == i]\n",
    "        index.append(a)\n",
    "    rsult = list(zip(dup_ele , count , index))\n",
    "   # rsult = set(rsult)\n",
    "    return rsult\n",
    "    \n",
    "    #result = (([(i , l.count(i) , [n for n,y in enumerate(l) if y == i ]) for i in l if l.count(i) > 1]))\n",
    "    #return result\n",
    "res = duplicate_check([1,2,3,4,5,6,7,7,7,6,5])\n",
    "print(res)"
   ]
  },
  {
   "cell_type": "code",
   "execution_count": 2,
   "metadata": {},
   "outputs": [
    {
     "name": "stdout",
     "output_type": "stream",
     "text": [
      "Your name is ALi and age is 20\n"
     ]
    }
   ],
   "source": [
    "def func(name , age):\n",
    "    print(\"Your name is {name} and age is {blah}\".format(name = name , blah = age))\n",
    "func('ALi',20)"
   ]
  },
  {
   "cell_type": "markdown",
   "metadata": {},
   "source": [
    "% prefix represents that the command operates over a single line of code whereas %% prefix allows the command to operate over an entire cell."
   ]
  },
  {
   "cell_type": "code",
   "execution_count": null,
   "metadata": {},
   "outputs": [],
   "source": [
    "%run app.py # to run any external file\n",
    "%%time # to display time of entire cell\n",
    "% who # to list all the variables/functions in notebook\n",
    "%%writefile # to write/creating a file .py file basically\n",
    "%pycat #To show and will be used to copy the contents of file ( try to execute ) must be same directory\n",
    "%store # To send the variable to another  notebook\n",
    "%%html # allows us to write html content ( the cell will act as a html editor)\n",
    "%env # to display all enviroment variables, 3 things to \n",
    "     #1.list all env varibles \n",
    "     #2.get values of particular varible\n",
    "     #3.set values of particular varible\n",
    "%pinfo/%pinfo # is used to get the information about the object  "
   ]
  },
  {
   "cell_type": "code",
   "execution_count": 1,
   "metadata": {},
   "outputs": [
    {
     "name": "stdout",
     "output_type": "stream",
     "text": [
      "Writing my_magic_code.py\n"
     ]
    }
   ],
   "source": [
    "%%writefile my_magic_code.py\n",
    "def func():\n",
    "    print(\"here we go to write a file using magic \")\n",
    "    print(\"hope so it works\")\n",
    "func()\n",
    "# The file will be created in current folder"
   ]
  },
  {
   "cell_type": "code",
   "execution_count": 4,
   "metadata": {},
   "outputs": [],
   "source": [
    "%pycat Loss Functions.py "
   ]
  },
  {
   "cell_type": "code",
   "execution_count": 5,
   "metadata": {},
   "outputs": [
    {
     "name": "stdout",
     "output_type": "stream",
     "text": [
      "here we go to write a file using magic \n",
      "hope so it works\n"
     ]
    }
   ],
   "source": [
    "%run my_magic_code.py # must be in same directory ( means in same folder as the curent file is in jupiter notebook)"
   ]
  },
  {
   "cell_type": "code",
   "execution_count": 6,
   "metadata": {},
   "outputs": [],
   "source": [
    "a  = \"ALi\"\n",
    "b = \"Something\"\n",
    "c = \"Sammu\""
   ]
  },
  {
   "cell_type": "code",
   "execution_count": 7,
   "metadata": {},
   "outputs": [],
   "source": [
    "d = 56\n",
    "e = 76.8\n",
    "f = True"
   ]
  },
  {
   "cell_type": "code",
   "execution_count": 8,
   "metadata": {},
   "outputs": [
    {
     "name": "stdout",
     "output_type": "stream",
     "text": [
      "a\t b\t c\t d\t e\t f\t func\t \n"
     ]
    }
   ],
   "source": [
    "%who"
   ]
  },
  {
   "cell_type": "code",
   "execution_count": 9,
   "metadata": {},
   "outputs": [
    {
     "data": {
      "text/plain": [
       "['a', 'b', 'c', 'd', 'e', 'f', 'func']"
      ]
     },
     "execution_count": 9,
     "metadata": {},
     "output_type": "execute_result"
    }
   ],
   "source": [
    "%who_ls"
   ]
  },
  {
   "cell_type": "code",
   "execution_count": 10,
   "metadata": {},
   "outputs": [
    {
     "name": "stdout",
     "output_type": "stream",
     "text": [
      "Variable   Type        Data/Info\n",
      "--------------------------------\n",
      "a          str         ALi\n",
      "b          str         Something\n",
      "c          str         Sammu\n",
      "d          int         56\n",
      "e          float       76.8\n",
      "f          bool        True\n",
      "func       function    <function func at 0x0000022CDC238DC0>\n"
     ]
    }
   ],
   "source": [
    "%whos"
   ]
  },
  {
   "cell_type": "code",
   "execution_count": 12,
   "metadata": {},
   "outputs": [
    {
     "name": "stdout",
     "output_type": "stream",
     "text": [
      "Stored 'data' (str)\n"
     ]
    }
   ],
   "source": [
    "# For this open an other notebook of same current folder\n",
    "data = \"This is a string variable to pass \"\n",
    "%store data"
   ]
  },
  {
   "cell_type": "code",
   "execution_count": 14,
   "metadata": {},
   "outputs": [
    {
     "name": "stdout",
     "output_type": "stream",
     "text": [
      "Stored 'l1' (list)\n"
     ]
    }
   ],
   "source": [
    "l1 = [1,2,3,4,5,6]\n",
    "%store l1"
   ]
  },
  {
   "cell_type": "code",
   "execution_count": 18,
   "metadata": {},
   "outputs": [
    {
     "name": "stdout",
     "output_type": "stream",
     "text": [
      "Stored 'arr' (ndarray)\n"
     ]
    }
   ],
   "source": [
    "import numpy as np\n",
    "arr = np.array([[1,2,3],[4,5,6],[7,8,9]])\n",
    "arr  = arr.reshape(3,3)\n",
    "arr\n",
    "%store arr"
   ]
  },
  {
   "cell_type": "code",
   "execution_count": 32,
   "metadata": {},
   "outputs": [
    {
     "data": {
      "text/plain": [
       "'%%html\\n<html>\\n    <body bgcolor=92a8d1>\\n\\n        <center>\\n\\n        <h1> Gym App Prediction</h1><br>\\n        \\n        <form method=\"POST\", action=\"{{url_for(\\'home\\')}}\">\\n           <b> Age(years):  <input type=\"text\", name=\\'a\\', placeholder=\"enter 1\"> <br><br>\\n            Height(ft) :  <input type=\"text\", name=\\'b\\', placeholder=\"enter 2\"> <br><br>\\n            Weight(kgs) :  <input type=\"text\", name=\\'c\\', placeholder=\"enter 3\"> <br><br>\\n            <input type=\"submit\" , value=\\'predict!\\' >\\n        </form>\\n\\n       \\n        \\n    </center>\\n\\n    </body>\\n</html>'"
      ]
     },
     "execution_count": 32,
     "metadata": {},
     "output_type": "execute_result"
    }
   ],
   "source": [
    "\"\"\"%%html\n",
    "<html>\n",
    "    <body bgcolor=92a8d1>\n",
    "\n",
    "        <center>\n",
    "\n",
    "        <h1> Gym App Prediction</h1><br>\n",
    "        \n",
    "        <form method=\"POST\", action=\"{{url_for('home')}}\">\n",
    "           <b> Age(years):  <input type=\"text\", name='a', placeholder=\"enter 1\"> <br><br>\n",
    "            Height(ft) :  <input type=\"text\", name='b', placeholder=\"enter 2\"> <br><br>\n",
    "            Weight(kgs) :  <input type=\"text\", name='c', placeholder=\"enter 3\"> <br><br>\n",
    "            <input type=\"submit\" , value='predict!' >\n",
    "        </form>\n",
    "\n",
    "       \n",
    "        \n",
    "    </center>\n",
    "\n",
    "    </body>\n",
    "</html>\"\"\""
   ]
  },
  {
   "cell_type": "code",
   "execution_count": 33,
   "metadata": {},
   "outputs": [
    {
     "data": {
      "text/plain": [
       "\"%%html\\n<html>\\n<style>\\nbody {\\n  background-image: url('ombre.jpg');\\n  background-repeat: no-repeat;\\n  background-attachment: fixed;  \\n  background-size: cover;\\n}\\n</style>\\n\\n    <center>\\n\\n        <h1>  CUSTOMER'S INTEREST : </h1>\\n    \\n    {%if data == 0 %}\\n    <h1>The Customer is Not-converted</h1>\\n\\n    {%elif data==1 %}\\n    <h1>The customer is Converted</h1>\\n\\n    {% endif %}\\n        <br><br>\\n    <a href='/'>go back to home page</a>\\n\\n    </center>\\n\\n</body>\\n\\n</html> \""
      ]
     },
     "execution_count": 33,
     "metadata": {},
     "output_type": "execute_result"
    }
   ],
   "source": [
    "\"\"\"%%html\n",
    "<html>\n",
    "<style>\n",
    "body {\n",
    "  background-image: url('ombre.jpg');\n",
    "  background-repeat: no-repeat;\n",
    "  background-attachment: fixed;  \n",
    "  background-size: cover;\n",
    "}\n",
    "</style>\n",
    "\n",
    "    <center>\n",
    "\n",
    "        <h1>  CUSTOMER'S INTEREST : </h1>\n",
    "    \n",
    "    {%if data == 0 %}\n",
    "    <h1>The Customer is Not-converted</h1>\n",
    "\n",
    "    {%elif data==1 %}\n",
    "    <h1>The customer is Converted</h1>\n",
    "\n",
    "    {% endif %}\n",
    "        <br><br>\n",
    "    <a href='/'>go back to home page</a>\n",
    "\n",
    "    </center>\n",
    "\n",
    "</body>\n",
    "\n",
    "</html> \"\"\""
   ]
  },
  {
   "cell_type": "code",
   "execution_count": 34,
   "metadata": {},
   "outputs": [
    {
     "data": {
      "text/plain": [
       "'%%html\\n<!DOCTYPE html>\\n<html lang=\"en\">\\n\\n<head>\\n    <!-- Required meta tags-->\\n    <meta charset=\"UTF-8\">\\n    <meta name=\"viewport\" content=\"width=device-width, initial-scale=1, shrink-to-fit=no\">\\n    <meta name=\"description\" content=\"Colorlib Templates\">\\n    <meta name=\"author\" content=\"Colorlib\">\\n    <meta name=\"keywords\" content=\"Colorlib Templates\">\\n\\n    <!-- Title Page-->\\n    <title>Apply for job by Colorlib</title>\\n\\n    <!-- Font special for pages-->\\n    <link href=\"https://fonts.googleapis.com/css?family=Open+Sans:300,300i,400,400i,600,600i,700,700i,800,800i\" rel=\"stylesheet\">\\n\\n    <!-- Main CSS-->\\n    <link href=\"css/main.css\" rel=\"stylesheet\" media=\"all\">\\n</head>\\n\\n<body>\\n    \\n    <div class=\"page-wrapper bg-dark p-t-100 p-b-50\">\\n        <div class=\"wrapper wrapper--w900\">\\n            <div class=\"card card-6\">\\n                <div class=\"card-heading\">\\n                    <h2 class=\"title\">Customer interest</h2>\\n                </div>\\n                <div class=\"card-body\">\\n                    <form method=\"POST\" action=\"{{url_for(\\'predict\\')}}\">\\n                        <div class=\"form-row\">\\n                            <div class=\"name\">Customer Name</div>\\n                            <div class=\"value\">\\n                                <input class=\"input--style-6\" type=\"text\" name=\"cust_name\" placeholder=\"enter your name\">\\n                            </div>\\n                        </div>\\n                        <div class=\"form-row\">\\n                            <div class=\"name\">Location</div>\\n                            <div class=\"value\">\\n                                <div class=\"input-group\">\\n                                    <input class=\"input--style-6\" type=\"text\" name=\"location\" placeholder=\"enter your city\">\\n                                </div>\\n                            </div>\\n                        </div>\\n                        <div class=\"form-row\">\\n                            <div class=\"name\">Enter your concern</div>\\n                            <div class=\"value\">\\n                                <div class=\"input-group\">\\n                                    <textarea class=\"textarea--style-6\" name=\"message\" placeholder=\"enter your text here\"></textarea>\\n                                </div>\\n                            </div>\\n                        </div>\\n                       \\n                    </form>\\n                </div>\\n                <div class=\"card-footer\">\\n                    <input type=\"submit\" class=\"btn-info\" value=\"predict\">\\n                </div>\\n            </div>\\n        </div>\\n    </div>\\n\\n    <!-- Jquery JS-->\\n    <script src=\"vendor/jquery/jquery.min.js\"></script>\\n\\n\\n    <!-- Main JS-->\\n    <script src=\"js/global.js\"></script>\\n\\n</body><!-- This templates was made by Colorlib (https://colorlib.com) -->\\n\\n</html>\\n<!-- end document-->'"
      ]
     },
     "execution_count": 34,
     "metadata": {},
     "output_type": "execute_result"
    }
   ],
   "source": [
    "\"\"\"%%html\n",
    "<!DOCTYPE html>\n",
    "<html lang=\"en\">\n",
    "\n",
    "<head>\n",
    "    <!-- Required meta tags-->\n",
    "    <meta charset=\"UTF-8\">\n",
    "    <meta name=\"viewport\" content=\"width=device-width, initial-scale=1, shrink-to-fit=no\">\n",
    "    <meta name=\"description\" content=\"Colorlib Templates\">\n",
    "    <meta name=\"author\" content=\"Colorlib\">\n",
    "    <meta name=\"keywords\" content=\"Colorlib Templates\">\n",
    "\n",
    "    <!-- Title Page-->\n",
    "    <title>Apply for job by Colorlib</title>\n",
    "\n",
    "    <!-- Font special for pages-->\n",
    "    <link href=\"https://fonts.googleapis.com/css?family=Open+Sans:300,300i,400,400i,600,600i,700,700i,800,800i\" rel=\"stylesheet\">\n",
    "\n",
    "    <!-- Main CSS-->\n",
    "    <link href=\"css/main.css\" rel=\"stylesheet\" media=\"all\">\n",
    "</head>\n",
    "\n",
    "<body>\n",
    "    \n",
    "    <div class=\"page-wrapper bg-dark p-t-100 p-b-50\">\n",
    "        <div class=\"wrapper wrapper--w900\">\n",
    "            <div class=\"card card-6\">\n",
    "                <div class=\"card-heading\">\n",
    "                    <h2 class=\"title\">Customer interest</h2>\n",
    "                </div>\n",
    "                <div class=\"card-body\">\n",
    "                    <form method=\"POST\" action=\"{{url_for('predict')}}\">\n",
    "                        <div class=\"form-row\">\n",
    "                            <div class=\"name\">Customer Name</div>\n",
    "                            <div class=\"value\">\n",
    "                                <input class=\"input--style-6\" type=\"text\" name=\"cust_name\" placeholder=\"enter your name\">\n",
    "                            </div>\n",
    "                        </div>\n",
    "                        <div class=\"form-row\">\n",
    "                            <div class=\"name\">Location</div>\n",
    "                            <div class=\"value\">\n",
    "                                <div class=\"input-group\">\n",
    "                                    <input class=\"input--style-6\" type=\"text\" name=\"location\" placeholder=\"enter your city\">\n",
    "                                </div>\n",
    "                            </div>\n",
    "                        </div>\n",
    "                        <div class=\"form-row\">\n",
    "                            <div class=\"name\">Enter your concern</div>\n",
    "                            <div class=\"value\">\n",
    "                                <div class=\"input-group\">\n",
    "                                    <textarea class=\"textarea--style-6\" name=\"message\" placeholder=\"enter your text here\"></textarea>\n",
    "                                </div>\n",
    "                            </div>\n",
    "                        </div>\n",
    "                       \n",
    "                    </form>\n",
    "                </div>\n",
    "                <div class=\"card-footer\">\n",
    "                    <input type=\"submit\" class=\"btn-info\" value=\"predict\">\n",
    "                </div>\n",
    "            </div>\n",
    "        </div>\n",
    "    </div>\n",
    "\n",
    "    <!-- Jquery JS-->\n",
    "    <script src=\"vendor/jquery/jquery.min.js\"></script>\n",
    "\n",
    "\n",
    "    <!-- Main JS-->\n",
    "    <script src=\"js/global.js\"></script>\n",
    "\n",
    "</body><!-- This templates was made by Colorlib (https://colorlib.com) -->\n",
    "\n",
    "</html>\n",
    "<!-- end document-->\"\"\""
   ]
  },
  {
   "cell_type": "code",
   "execution_count": 35,
   "metadata": {},
   "outputs": [
    {
     "data": {
      "text/plain": [
       "{'ALLUSERSPROFILE': 'C:\\\\ProgramData',\n",
       " 'APPDATA': 'C:\\\\Users\\\\Ali\\\\AppData\\\\Roaming',\n",
       " 'COMMONPROGRAMFILES': 'C:\\\\Program Files\\\\Common Files',\n",
       " 'COMMONPROGRAMFILES(X86)': 'C:\\\\Program Files (x86)\\\\Common Files',\n",
       " 'COMMONPROGRAMW6432': 'C:\\\\Program Files\\\\Common Files',\n",
       " 'COMPUTERNAME': 'DESKTOP-PGFNHLS',\n",
       " 'COMSPEC': 'C:\\\\WINDOWS\\\\system32\\\\cmd.exe',\n",
       " 'DRIVERDATA': 'C:\\\\Windows\\\\System32\\\\Drivers\\\\DriverData',\n",
       " 'HOMEDRIVE': 'C:',\n",
       " 'HOMEPATH': '\\\\Users\\\\Ali',\n",
       " 'LOCALAPPDATA': 'C:\\\\Users\\\\Ali\\\\AppData\\\\Local',\n",
       " 'LOGONSERVER': '\\\\\\\\DESKTOP-PGFNHLS',\n",
       " 'NUMBER_OF_PROCESSORS': '4',\n",
       " 'ONEDRIVE': 'C:\\\\Users\\\\Ali\\\\OneDrive',\n",
       " 'ONEDRIVECONSUMER': 'C:\\\\Users\\\\Ali\\\\OneDrive',\n",
       " 'OS': 'Windows_NT',\n",
       " 'PATH': 'C:\\\\Users\\\\Ali\\\\.conda\\\\envs\\\\tensor_ali;C:\\\\Users\\\\Ali\\\\.conda\\\\envs\\\\tensor_ali\\\\Library\\\\mingw-w64\\\\bin;C:\\\\Users\\\\Ali\\\\.conda\\\\envs\\\\tensor_ali\\\\Library\\\\usr\\\\bin;C:\\\\Users\\\\Ali\\\\.conda\\\\envs\\\\tensor_ali\\\\Library\\\\bin;C:\\\\Users\\\\Ali\\\\.conda\\\\envs\\\\tensor_ali\\\\Scripts;C:\\\\WINDOWS\\\\system32;C:\\\\WINDOWS;C:\\\\WINDOWS\\\\System32\\\\Wbem;C:\\\\WINDOWS\\\\System32\\\\WindowsPowerShell\\\\v1.0\\\\;C:\\\\WINDOWS\\\\System32\\\\OpenSSH\\\\;C:\\\\Users\\\\Ali\\\\AppData\\\\Local\\\\Microsoft\\\\WindowsApps;C:\\\\Users\\\\Ali\\\\AppData\\\\Local\\\\GitHubDesktop\\\\bin;C:\\\\Program Files\\\\heroku\\\\bin',\n",
       " 'PATHEXT': '.COM;.EXE;.BAT;.CMD;.VBS;.VBE;.JS;.JSE;.WSF;.WSH;.MSC',\n",
       " 'PROCESSOR_ARCHITECTURE': 'AMD64',\n",
       " 'PROCESSOR_IDENTIFIER': 'Intel64 Family 6 Model 61 Stepping 4, GenuineIntel',\n",
       " 'PROCESSOR_LEVEL': '6',\n",
       " 'PROCESSOR_REVISION': '3d04',\n",
       " 'PROGRAMDATA': 'C:\\\\ProgramData',\n",
       " 'PROGRAMFILES': 'C:\\\\Program Files',\n",
       " 'PROGRAMFILES(X86)': 'C:\\\\Program Files (x86)',\n",
       " 'PROGRAMW6432': 'C:\\\\Program Files',\n",
       " 'PSMODULEPATH': 'C:\\\\Program Files\\\\WindowsPowerShell\\\\Modules;C:\\\\WINDOWS\\\\system32\\\\WindowsPowerShell\\\\v1.0\\\\Modules',\n",
       " 'PUBLIC': 'C:\\\\Users\\\\Public',\n",
       " 'SESSIONNAME': 'Console',\n",
       " 'SYSTEMDRIVE': 'C:',\n",
       " 'SYSTEMROOT': 'C:\\\\WINDOWS',\n",
       " 'TEMP': 'C:\\\\Users\\\\Ali\\\\AppData\\\\Local\\\\Temp',\n",
       " 'TMP': 'C:\\\\Users\\\\Ali\\\\AppData\\\\Local\\\\Temp',\n",
       " 'USERDOMAIN': 'DESKTOP-PGFNHLS',\n",
       " 'USERDOMAIN_ROAMINGPROFILE': 'DESKTOP-PGFNHLS',\n",
       " 'USERNAME': 'Ali',\n",
       " 'USERPROFILE': 'C:\\\\Users\\\\Ali',\n",
       " 'WINDIR': 'C:\\\\WINDOWS',\n",
       " 'CONDA_PREFIX': 'C:\\\\Users\\\\Ali\\\\.conda\\\\envs\\\\tensor_ali',\n",
       " 'JPY_INTERRUPT_EVENT': '2480',\n",
       " 'IPY_INTERRUPT_EVENT': '2480',\n",
       " 'JPY_PARENT_PID': '2464',\n",
       " 'TERM': 'xterm-color',\n",
       " 'CLICOLOR': '1',\n",
       " 'PAGER': 'cat',\n",
       " 'GIT_PAGER': 'cat',\n",
       " 'MPLBACKEND': 'module://ipykernel.pylab.backend_inline'}"
      ]
     },
     "execution_count": 35,
     "metadata": {},
     "output_type": "execute_result"
    }
   ],
   "source": [
    "%env"
   ]
  },
  {
   "cell_type": "code",
   "execution_count": 39,
   "metadata": {},
   "outputs": [
    {
     "data": {
      "text/plain": [
       "'C:\\\\ProgramData'"
      ]
     },
     "execution_count": 39,
     "metadata": {},
     "output_type": "execute_result"
    }
   ],
   "source": [
    "%env ALLUSERSPROFILE"
   ]
  },
  {
   "cell_type": "code",
   "execution_count": 50,
   "metadata": {},
   "outputs": [],
   "source": [
    "%pinfo func"
   ]
  },
  {
   "cell_type": "code",
   "execution_count": 46,
   "metadata": {},
   "outputs": [],
   "source": [
    "%pinfo c"
   ]
  },
  {
   "cell_type": "code",
   "execution_count": 45,
   "metadata": {},
   "outputs": [],
   "source": [
    "%pinfo2 a"
   ]
  },
  {
   "cell_type": "code",
   "execution_count": 47,
   "metadata": {},
   "outputs": [
    {
     "data": {
      "application/json": {
       "cell": {
        "!": "OSMagics",
        "HTML": "Other",
        "SVG": "Other",
        "bash": "Other",
        "capture": "ExecutionMagics",
        "cmd": "Other",
        "debug": "ExecutionMagics",
        "file": "Other",
        "html": "DisplayMagics",
        "javascript": "DisplayMagics",
        "js": "DisplayMagics",
        "latex": "DisplayMagics",
        "markdown": "DisplayMagics",
        "perl": "Other",
        "prun": "ExecutionMagics",
        "pypy": "Other",
        "python": "Other",
        "python2": "Other",
        "python3": "Other",
        "ruby": "Other",
        "script": "ScriptMagics",
        "sh": "Other",
        "svg": "DisplayMagics",
        "sx": "OSMagics",
        "system": "OSMagics",
        "time": "ExecutionMagics",
        "timeit": "ExecutionMagics",
        "writefile": "OSMagics"
       },
       "line": {
        "alias": "OSMagics",
        "alias_magic": "BasicMagics",
        "autoawait": "AsyncMagics",
        "autocall": "AutoMagics",
        "automagic": "AutoMagics",
        "autosave": "KernelMagics",
        "bookmark": "OSMagics",
        "cd": "OSMagics",
        "clear": "KernelMagics",
        "cls": "KernelMagics",
        "colors": "BasicMagics",
        "conda": "PackagingMagics",
        "config": "ConfigMagics",
        "connect_info": "KernelMagics",
        "copy": "Other",
        "ddir": "Other",
        "debug": "ExecutionMagics",
        "dhist": "OSMagics",
        "dirs": "OSMagics",
        "doctest_mode": "BasicMagics",
        "echo": "Other",
        "ed": "Other",
        "edit": "KernelMagics",
        "env": "OSMagics",
        "gui": "BasicMagics",
        "hist": "Other",
        "history": "HistoryMagics",
        "killbgscripts": "ScriptMagics",
        "ldir": "Other",
        "less": "KernelMagics",
        "load": "CodeMagics",
        "load_ext": "ExtensionMagics",
        "loadpy": "CodeMagics",
        "logoff": "LoggingMagics",
        "logon": "LoggingMagics",
        "logstart": "LoggingMagics",
        "logstate": "LoggingMagics",
        "logstop": "LoggingMagics",
        "ls": "Other",
        "lsmagic": "BasicMagics",
        "macro": "ExecutionMagics",
        "magic": "BasicMagics",
        "matplotlib": "PylabMagics",
        "mkdir": "Other",
        "more": "KernelMagics",
        "notebook": "BasicMagics",
        "page": "BasicMagics",
        "pastebin": "CodeMagics",
        "pdb": "ExecutionMagics",
        "pdef": "NamespaceMagics",
        "pdoc": "NamespaceMagics",
        "pfile": "NamespaceMagics",
        "pinfo": "NamespaceMagics",
        "pinfo2": "NamespaceMagics",
        "pip": "PackagingMagics",
        "popd": "OSMagics",
        "pprint": "BasicMagics",
        "precision": "BasicMagics",
        "prun": "ExecutionMagics",
        "psearch": "NamespaceMagics",
        "psource": "NamespaceMagics",
        "pushd": "OSMagics",
        "pwd": "OSMagics",
        "pycat": "OSMagics",
        "pylab": "PylabMagics",
        "qtconsole": "KernelMagics",
        "quickref": "BasicMagics",
        "recall": "HistoryMagics",
        "rehashx": "OSMagics",
        "reload_ext": "ExtensionMagics",
        "ren": "Other",
        "rep": "Other",
        "rerun": "HistoryMagics",
        "reset": "NamespaceMagics",
        "reset_selective": "NamespaceMagics",
        "rmdir": "Other",
        "run": "ExecutionMagics",
        "save": "CodeMagics",
        "sc": "OSMagics",
        "set_env": "OSMagics",
        "store": "StoreMagics",
        "sx": "OSMagics",
        "system": "OSMagics",
        "tb": "ExecutionMagics",
        "time": "ExecutionMagics",
        "timeit": "ExecutionMagics",
        "unalias": "OSMagics",
        "unload_ext": "ExtensionMagics",
        "who": "NamespaceMagics",
        "who_ls": "NamespaceMagics",
        "whos": "NamespaceMagics",
        "xdel": "NamespaceMagics",
        "xmode": "BasicMagics"
       }
      },
      "text/plain": [
       "Available line magics:\n",
       "%alias  %alias_magic  %autoawait  %autocall  %automagic  %autosave  %bookmark  %cd  %clear  %cls  %colors  %conda  %config  %connect_info  %copy  %ddir  %debug  %dhist  %dirs  %doctest_mode  %echo  %ed  %edit  %env  %gui  %hist  %history  %killbgscripts  %ldir  %less  %load  %load_ext  %loadpy  %logoff  %logon  %logstart  %logstate  %logstop  %ls  %lsmagic  %macro  %magic  %matplotlib  %mkdir  %more  %notebook  %page  %pastebin  %pdb  %pdef  %pdoc  %pfile  %pinfo  %pinfo2  %pip  %popd  %pprint  %precision  %prun  %psearch  %psource  %pushd  %pwd  %pycat  %pylab  %qtconsole  %quickref  %recall  %rehashx  %reload_ext  %ren  %rep  %rerun  %reset  %reset_selective  %rmdir  %run  %save  %sc  %set_env  %store  %sx  %system  %tb  %time  %timeit  %unalias  %unload_ext  %who  %who_ls  %whos  %xdel  %xmode\n",
       "\n",
       "Available cell magics:\n",
       "%%!  %%HTML  %%SVG  %%bash  %%capture  %%cmd  %%debug  %%file  %%html  %%javascript  %%js  %%latex  %%markdown  %%perl  %%prun  %%pypy  %%python  %%python2  %%python3  %%ruby  %%script  %%sh  %%svg  %%sx  %%system  %%time  %%timeit  %%writefile\n",
       "\n",
       "Automagic is ON, % prefix IS NOT needed for line magics."
      ]
     },
     "execution_count": 47,
     "metadata": {},
     "output_type": "execute_result"
    }
   ],
   "source": [
    "%lsmagic "
   ]
  },
  {
   "cell_type": "code",
   "execution_count": 51,
   "metadata": {},
   "outputs": [
    {
     "name": "stdout",
     "output_type": "stream",
     "text": [
      "Warning:func is <function func at 0x0000022CDC238DC0>\n",
      "Proper storage of interactively declared classes (or instances\n",
      "of those classes) is not possible! Only instances\n",
      "of classes in real modules on file system can be %store'd.\n",
      "\n"
     ]
    }
   ],
   "source": [
    "%store func"
   ]
  },
  {
   "cell_type": "code",
   "execution_count": null,
   "metadata": {},
   "outputs": [],
   "source": []
  }
 ],
 "metadata": {
  "kernelspec": {
   "display_name": "Python 3",
   "language": "python",
   "name": "python3"
  },
  "language_info": {
   "codemirror_mode": {
    "name": "ipython",
    "version": 3
   },
   "file_extension": ".py",
   "mimetype": "text/x-python",
   "name": "python",
   "nbconvert_exporter": "python",
   "pygments_lexer": "ipython3",
   "version": "3.8.5"
  }
 },
 "nbformat": 4,
 "nbformat_minor": 4
}
