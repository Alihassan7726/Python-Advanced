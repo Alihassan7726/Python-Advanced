{
 "cells": [
  {
   "cell_type": "code",
   "execution_count": null,
   "metadata": {},
   "outputs": [],
   "source": [
    "### Whenever we want to call parent initializer we use' super().__init__() ' within the body of child initializer and then the\n",
    "### both initializers will be called . \n",
    "### if we want to access and change private variables then we use get(self),set(self,var) . We cannnot directly access or change\n",
    "### the variables unless the author give us the above functions to access and change."
   ]
  },
  {
   "cell_type": "markdown",
   "metadata": {},
   "source": [
    "# Inheritance "
   ]
  },
  {
   "cell_type": "markdown",
   "metadata": {},
   "source": [
    "- **inheritance** \n",
    "     - Inheritance is a term that is used to describe a Python class within another class. Classes called subclasses or child    classes can inherit values from parent classes, similar to how children inherit characteristics from their parents in the real world.\n",
    "\n",
    "   - Inheritance is useful because it allows us to create subclasses that have the same value types as a parent class, without having to declare those types multiple times"
   ]
  },
  {
   "cell_type": "code",
   "execution_count": 2,
   "metadata": {},
   "outputs": [],
   "source": [
    "class parent: # base class, parent class\n",
    "    \n",
    "    def house(self):\n",
    "        print(\"I have house\")\n",
    "\n",
    "    def car(self):\n",
    "        print(\"I have car\")"
   ]
  },
  {
   "cell_type": "code",
   "execution_count": 3,
   "metadata": {},
   "outputs": [],
   "source": [
    "class child(parent): #Derived class , child class \n",
    "    \n",
    "    def bike(self):\n",
    "        print(\"I have Bike\")\n"
   ]
  },
  {
   "cell_type": "code",
   "execution_count": 4,
   "metadata": {
    "scrolled": true
   },
   "outputs": [
    {
     "name": "stdout",
     "output_type": "stream",
     "text": [
      "I have house\n",
      "I have car\n",
      "I have Bike\n"
     ]
    }
   ],
   "source": [
    "ob = child()\n",
    "ob.house()\n",
    "ob.car()\n",
    "ob.bike()"
   ]
  },
  {
   "cell_type": "markdown",
   "metadata": {},
   "source": [
    "# Multilevel inheritance"
   ]
  },
  {
   "cell_type": "code",
   "execution_count": 5,
   "metadata": {},
   "outputs": [],
   "source": [
    "class parent: # base class, parent class\n",
    "    x = 'parent class var'\n",
    "    def house(self):\n",
    "        print(\"I have house\")\n",
    "\n",
    "    def car(self):\n",
    "        print(\"I have car\")\n",
    "    \n",
    "class child(parent): #Derived class , child class \n",
    "    \n",
    "    def bike(self):\n",
    "        print(\"I have Bike\")\n",
    "    \n",
    "class grandchild(child):\n",
    "    \n",
    "    def cycle(self):\n",
    "        print(\"I have cycle\")\n"
   ]
  },
  {
   "cell_type": "code",
   "execution_count": 6,
   "metadata": {},
   "outputs": [
    {
     "name": "stdout",
     "output_type": "stream",
     "text": [
      "I have house\n"
     ]
    },
    {
     "data": {
      "text/plain": [
       "'parent class var'"
      ]
     },
     "execution_count": 6,
     "metadata": {},
     "output_type": "execute_result"
    }
   ],
   "source": [
    "g1 = grandchild()\n",
    "g1.house()\n",
    "g1.x"
   ]
  },
  {
   "cell_type": "markdown",
   "metadata": {},
   "source": [
    "# Hierarchical inheritance"
   ]
  },
  {
   "cell_type": "code",
   "execution_count": 65,
   "metadata": {},
   "outputs": [],
   "source": [
    "class grandparent: # base class, parent class\n",
    "    \n",
    "    def house(self):\n",
    "        print(\"I have house\")\n",
    "\n",
    "    def car(self):\n",
    "        print(\"I have car\")\n",
    "    \n",
    "class parent(): #Derived class , child class \n",
    "    \n",
    "    def bike(self):\n",
    "        print(\"I have Bike\")\n",
    "    \n",
    "class child(grandparent, parent):\n",
    "    \n",
    "    def cycle(self):\n",
    "        print(\"I have cycle\")"
   ]
  },
  {
   "cell_type": "code",
   "execution_count": 7,
   "metadata": {},
   "outputs": [
    {
     "name": "stdout",
     "output_type": "stream",
     "text": [
      "I have house\n",
      "I have Bike\n"
     ]
    }
   ],
   "source": [
    "pp1 = child()\n",
    "pp1.house()\n",
    "pp1.bike()"
   ]
  },
  {
   "cell_type": "code",
   "execution_count": 67,
   "metadata": {},
   "outputs": [
    {
     "name": "stdout",
     "output_type": "stream",
     "text": [
      "I have house\n"
     ]
    }
   ],
   "source": [
    "ccc1 = child()\n",
    "ccc1.house()"
   ]
  },
  {
   "cell_type": "code",
   "execution_count": 82,
   "metadata": {},
   "outputs": [],
   "source": [
    "class parent: # base class, parent class\n",
    "    \n",
    "    def __init__(self):\n",
    "        print(\"im parent\")\n",
    "        \n",
    "    def house(self):\n",
    "        print(\"I have house\")\n",
    "\n",
    "    def car(self):\n",
    "        print(\"I have car\")\n",
    "    \n",
    "class child(parent): #Derived class , child class \n",
    "    \n",
    "    def __init__(self):\n",
    "        super().__init__()\n",
    "        print(\"im child\")\n",
    "    \n",
    "    def bike(self):\n",
    "        print(\"I have Bike\")\n"
   ]
  },
  {
   "cell_type": "code",
   "execution_count": 83,
   "metadata": {},
   "outputs": [
    {
     "name": "stdout",
     "output_type": "stream",
     "text": [
      "im parent\n",
      "im child\n"
     ]
    }
   ],
   "source": [
    "obb = child()"
   ]
  },
  {
   "cell_type": "markdown",
   "metadata": {},
   "source": [
    "# Encapsulation"
   ]
  },
  {
   "cell_type": "code",
   "execution_count": 3,
   "metadata": {},
   "outputs": [
    {
     "name": "stdout",
     "output_type": "stream",
     "text": [
      "10\n",
      "20\n",
      "45\n",
      "30\n"
     ]
    },
    {
     "ename": "AttributeError",
     "evalue": "'example' object has no attribute '__salary2'",
     "output_type": "error",
     "traceback": [
      "\u001b[1;31m---------------------------------------------------------------------------\u001b[0m",
      "\u001b[1;31mAttributeError\u001b[0m                            Traceback (most recent call last)",
      "\u001b[1;32m<ipython-input-3-5cad708e6bfa>\u001b[0m in \u001b[0;36m<module>\u001b[1;34m\u001b[0m\n\u001b[0;32m     17\u001b[0m \u001b[0mprint\u001b[0m\u001b[1;33m(\u001b[0m\u001b[0me1\u001b[0m\u001b[1;33m.\u001b[0m\u001b[0msalary\u001b[0m\u001b[1;33m)\u001b[0m\u001b[1;33m\u001b[0m\u001b[1;33m\u001b[0m\u001b[0m\n\u001b[0;32m     18\u001b[0m \u001b[0mprint\u001b[0m\u001b[1;33m(\u001b[0m\u001b[0me1\u001b[0m\u001b[1;33m.\u001b[0m\u001b[0mvate\u001b[0m\u001b[1;33m(\u001b[0m\u001b[1;33m)\u001b[0m\u001b[1;33m)\u001b[0m\u001b[1;33m\u001b[0m\u001b[1;33m\u001b[0m\u001b[0m\n\u001b[1;32m---> 19\u001b[1;33m \u001b[0mprint\u001b[0m\u001b[1;33m(\u001b[0m\u001b[0me1\u001b[0m\u001b[1;33m.\u001b[0m\u001b[0m__salary2\u001b[0m\u001b[1;33m)\u001b[0m\u001b[1;33m\u001b[0m\u001b[1;33m\u001b[0m\u001b[0m\n\u001b[0m\u001b[0;32m     20\u001b[0m \u001b[1;33m\u001b[0m\u001b[0m\n\u001b[0;32m     21\u001b[0m \u001b[1;33m\u001b[0m\u001b[0m\n",
      "\u001b[1;31mAttributeError\u001b[0m: 'example' object has no attribute '__salary2'"
     ]
    }
   ],
   "source": [
    "class example:\n",
    "    def __init__(self):\n",
    "        self.salary= 10 # public full access\n",
    "        self._salary1 = 20 # protected accessed by same class and subclass\n",
    "        self.__salary2 = 30 # private\n",
    "        \n",
    "    def vate(self):\n",
    "        return self.__salary2\n",
    "    \n",
    "    def set_new_speed(self, new_salary):\n",
    "        self.__salary2= new_salary\n",
    "        \n",
    "e1 = example()\n",
    "print(e1.salary)\n",
    "e1.salary = 45\n",
    "print(e1._salary1)\n",
    "print(e1.salary)\n",
    "print(e1.vate())\n",
    "print(e1.__salary2)\n",
    "\n",
    "\n"
   ]
  },
  {
   "cell_type": "code",
   "execution_count": 16,
   "metadata": {},
   "outputs": [
    {
     "name": "stdout",
     "output_type": "stream",
     "text": [
      "12345\n",
      "20000\n"
     ]
    },
    {
     "data": {
      "text/plain": [
       "30000"
      ]
     },
     "execution_count": 16,
     "metadata": {},
     "output_type": "execute_result"
    }
   ],
   "source": [
    "class customer:\n",
    "    def __init__(self, n, bankacc, bankbalance):\n",
    "        self.name = n # public full access\n",
    "        self._bankacc = bankacc # protected accessed by same class and subclass\n",
    "        self.__bankbalance= bankbalance # private\n",
    "        \n",
    "    def get_bankbalance(self):\n",
    "        return self.__bankbalance\n",
    "    \n",
    "    def set_bankbalance(self, updatedbankbalance):\n",
    "        self.__bankbalance = updatedbankbalance\n",
    "    \n",
    "b1 = customer('john', 12345, 20000)\n",
    "print(b1._bankacc)\n",
    "\n",
    "print(b1.get_bankbalance())\n",
    "b1.set_bankbalance(30000)\n",
    "b1.get_bankbalance()\n",
    "\n",
    "\n",
    "#print(b1._customer__bankbalance)"
   ]
  },
  {
   "cell_type": "code",
   "execution_count": 22,
   "metadata": {},
   "outputs": [
    {
     "name": "stdout",
     "output_type": "stream",
     "text": [
      "10\n",
      "20\n",
      "30\n",
      "10\n"
     ]
    },
    {
     "ename": "AttributeError",
     "evalue": "'example' object has no attribute '__private_method'",
     "output_type": "error",
     "traceback": [
      "\u001b[1;31m---------------------------------------------------------------------------\u001b[0m",
      "\u001b[1;31mAttributeError\u001b[0m                            Traceback (most recent call last)",
      "\u001b[1;32m<ipython-input-22-cd92f020041b>\u001b[0m in \u001b[0;36m<module>\u001b[1;34m\u001b[0m\n\u001b[0;32m     19\u001b[0m \u001b[0me2\u001b[0m\u001b[1;33m.\u001b[0m\u001b[0m_y\u001b[0m\u001b[1;33m\u001b[0m\u001b[1;33m\u001b[0m\u001b[0m\n\u001b[0;32m     20\u001b[0m \u001b[1;31m#e2.__z\u001b[0m\u001b[1;33m\u001b[0m\u001b[1;33m\u001b[0m\u001b[1;33m\u001b[0m\u001b[0m\n\u001b[1;32m---> 21\u001b[1;33m \u001b[0me2\u001b[0m\u001b[1;33m.\u001b[0m\u001b[0m__private_method\u001b[0m\u001b[1;33m(\u001b[0m\u001b[1;33m)\u001b[0m\u001b[1;33m\u001b[0m\u001b[1;33m\u001b[0m\u001b[0m\n\u001b[0m",
      "\u001b[1;31mAttributeError\u001b[0m: 'example' object has no attribute '__private_method'"
     ]
    }
   ],
   "source": [
    "class example:\n",
    "    def __init__(self):\n",
    "        self.x= 10\n",
    "        self._y = 20 \n",
    "        self.__z = 30\n",
    "    \n",
    "    def pbfunction(self):\n",
    "        print(self.x)\n",
    "        print(self._y)\n",
    "        print(self.__z)\n",
    "        self.__private_method()\n",
    "    \n",
    "    def __private_method(self):\n",
    "        print(self.x)\n",
    "    \n",
    "e2 = example()\n",
    "\n",
    "e2.pbfunction()\n",
    "e2._y\n",
    "#e2.__z\n",
    "#e2.__private_method()\n",
    "### In the above 2 lines we cannot access private variable/method until and unless author has given us the consent."
   ]
  },
  {
   "cell_type": "markdown",
   "metadata": {},
   "source": [
    "# Abstracction"
   ]
  },
  {
   "cell_type": "markdown",
   "metadata": {},
   "source": [
    "- By default, Python does not provide abstract classes. Python comes with a module which provides the base for defining Abstract Base classes(ABC) and that module name is ABC. ABC works by decorating methods of the base class as abstract and then registering concrete classes as implementations of the abstract base. A method becomes abstract when decorated with the keyword @abstractmethod."
   ]
  },
  {
   "cell_type": "code",
   "execution_count": 4,
   "metadata": {},
   "outputs": [],
   "source": [
    "class parent: \n",
    "    \n",
    "    def add(self):\n",
    "        pass\n",
    "\n",
    "    def sub(self):\n",
    "        pass\n",
    "\n",
    "class child(parent): \n",
    "    \n",
    "    def __init__(self, n):\n",
    "        self.num = n\n",
    "        \n",
    "\n",
    "p1 = parent()\n",
    "c1 = child(10)\n"
   ]
  },
  {
   "cell_type": "code",
   "execution_count": null,
   "metadata": {},
   "outputs": [],
   "source": [
    "# What if i don't want to allow any user to create a object of my parent class\n",
    "# Methods of parents class sholud be implemented in child class\n",
    "# But we only implement those methods of parent class in child class that are abstractmethods not for all methods.\n",
    "# The object of child class can access the non-abstractmethods of parent class."
   ]
  },
  {
   "cell_type": "code",
   "execution_count": 4,
   "metadata": {},
   "outputs": [
    {
     "ename": "TypeError",
     "evalue": "Can't instantiate abstract class parent with abstract methods add, sub",
     "output_type": "error",
     "traceback": [
      "\u001b[1;31m---------------------------------------------------------------------------\u001b[0m",
      "\u001b[1;31mTypeError\u001b[0m                                 Traceback (most recent call last)",
      "\u001b[1;32m<ipython-input-4-6a1260953700>\u001b[0m in \u001b[0;36m<module>\u001b[1;34m\u001b[0m\n\u001b[0;32m     25\u001b[0m         \u001b[1;32mreturn\u001b[0m \u001b[0mself\u001b[0m\u001b[1;33m.\u001b[0m\u001b[0mnum1\u001b[0m \u001b[1;33m-\u001b[0m \u001b[0mself\u001b[0m\u001b[1;33m.\u001b[0m\u001b[0mnum2\u001b[0m\u001b[1;33m\u001b[0m\u001b[1;33m\u001b[0m\u001b[0m\n\u001b[0;32m     26\u001b[0m \u001b[1;33m\u001b[0m\u001b[0m\n\u001b[1;32m---> 27\u001b[1;33m \u001b[0mp1\u001b[0m \u001b[1;33m=\u001b[0m \u001b[0mparent\u001b[0m\u001b[1;33m(\u001b[0m\u001b[1;33m)\u001b[0m\u001b[1;33m\u001b[0m\u001b[1;33m\u001b[0m\u001b[0m\n\u001b[0m\u001b[0;32m     28\u001b[0m \u001b[0mc1\u001b[0m \u001b[1;33m=\u001b[0m \u001b[0mchild\u001b[0m\u001b[1;33m(\u001b[0m\u001b[1;36m15\u001b[0m\u001b[1;33m,\u001b[0m\u001b[1;36m6\u001b[0m\u001b[1;33m)\u001b[0m\u001b[1;33m\u001b[0m\u001b[1;33m\u001b[0m\u001b[0m\n\u001b[0;32m     29\u001b[0m \u001b[0mprint\u001b[0m\u001b[1;33m(\u001b[0m\u001b[0mc1\u001b[0m\u001b[1;33m.\u001b[0m\u001b[0madd\u001b[0m\u001b[1;33m(\u001b[0m\u001b[1;33m)\u001b[0m\u001b[1;33m)\u001b[0m\u001b[1;33m\u001b[0m\u001b[1;33m\u001b[0m\u001b[0m\n",
      "\u001b[1;31mTypeError\u001b[0m: Can't instantiate abstract class parent with abstract methods add, sub"
     ]
    }
   ],
   "source": [
    "from abc import ABC, abstractmethod\n",
    "\n",
    "class parent(ABC): \n",
    "    # non-abstract function/simple function\n",
    "    \n",
    "    def simple(self):\n",
    "        print('Simple function')\n",
    "    @abstractmethod\n",
    "    def add(self):\n",
    "        pass\n",
    "    @abstractmethod\n",
    "    def sub(self):\n",
    "        pass\n",
    "\n",
    "class child(parent): \n",
    "    \n",
    "    def __init__(self, n1, n2):\n",
    "        self.num1 = n1\n",
    "        self.num2 = n2\n",
    "        \n",
    "    def add(self):\n",
    "        return self.num1 + self.num2\n",
    "    \n",
    "    def sub(self):\n",
    "        return self.num1 - self.num2\n",
    "    \n",
    "p1 = parent()     # Can't create parent object due to abstraction\n",
    "c1 = child(15,6)\n",
    "print(c1.add())\n",
    "c1.simple()\n"
   ]
  },
  {
   "cell_type": "code",
   "execution_count": 3,
   "metadata": {},
   "outputs": [
    {
     "data": {
      "text/plain": [
       "-1"
      ]
     },
     "execution_count": 3,
     "metadata": {},
     "output_type": "execute_result"
    }
   ],
   "source": [
    "from abc import ABC, abstractmethod\n",
    "\n",
    "class parent(ABC): \n",
    "    \n",
    "    @abstractmethod\n",
    "    def add(self):\n",
    "        pass\n",
    "    @abstractmethod\n",
    "    def sub(self):\n",
    "        pass\n",
    "\n",
    "class child(parent): \n",
    "    \n",
    "    def __init__(self, n1, n2):\n",
    "        self.num1 = n1\n",
    "        self.num2 = n2\n",
    "        \n",
    "    def add(self):\n",
    "        return self.num1 + self.num2\n",
    "    def sub(self):\n",
    "        return self.num1 - self.num2\n",
    "        \n",
    "    \n",
    "c1 = child(5,6)\n",
    "c1.add()\n",
    "c1.sub()"
   ]
  },
  {
   "cell_type": "markdown",
   "metadata": {},
   "source": [
    "# Polymorphism"
   ]
  },
  {
   "cell_type": "code",
   "execution_count": 38,
   "metadata": {},
   "outputs": [
    {
     "name": "stdout",
     "output_type": "stream",
     "text": [
      "3\n",
      "helloworld\n",
      "(1, 2, 3, 4, 5, 6)\n"
     ]
    }
   ],
   "source": [
    "a = 1\n",
    "b = 2\n",
    "print(a+b)\n",
    "\n",
    "c = \"hello\"\n",
    "d = \"world\"\n",
    "print(c+d)\n",
    "\n",
    "e = (1,2,3)\n",
    "f = (4,5,6)\n",
    "print(e+f)"
   ]
  },
  {
   "cell_type": "code",
   "execution_count": 39,
   "metadata": {},
   "outputs": [
    {
     "name": "stdout",
     "output_type": "stream",
     "text": [
      "3\n",
      "helloworld\n",
      "(1, 2, 3, 4, 5, 6)\n"
     ]
    }
   ],
   "source": [
    "print(int.__add__(a,b))\n",
    "print(str.__add__(c,d))\n",
    "print(tuple.__add__(e,f))"
   ]
  },
  {
   "cell_type": "code",
   "execution_count": 75,
   "metadata": {},
   "outputs": [
    {
     "ename": "TypeError",
     "evalue": "unsupported operand type(s) for +: 'exp' and 'exp'",
     "output_type": "error",
     "traceback": [
      "\u001b[1;31m---------------------------------------------------------------------------\u001b[0m",
      "\u001b[1;31mTypeError\u001b[0m                                 Traceback (most recent call last)",
      "\u001b[1;32m<ipython-input-75-f943695cea17>\u001b[0m in \u001b[0;36m<module>\u001b[1;34m\u001b[0m\n\u001b[0;32m      6\u001b[0m \u001b[0me2\u001b[0m \u001b[1;33m=\u001b[0m \u001b[0mexp\u001b[0m\u001b[1;33m(\u001b[0m\u001b[1;36m2000\u001b[0m\u001b[1;33m)\u001b[0m\u001b[1;33m\u001b[0m\u001b[1;33m\u001b[0m\u001b[0m\n\u001b[0;32m      7\u001b[0m \u001b[1;33m\u001b[0m\u001b[0m\n\u001b[1;32m----> 8\u001b[1;33m \u001b[0mprint\u001b[0m\u001b[1;33m(\u001b[0m\u001b[0me1\u001b[0m\u001b[1;33m+\u001b[0m\u001b[0me2\u001b[0m\u001b[1;33m)\u001b[0m\u001b[1;33m\u001b[0m\u001b[1;33m\u001b[0m\u001b[0m\n\u001b[0m",
      "\u001b[1;31mTypeError\u001b[0m: unsupported operand type(s) for +: 'exp' and 'exp'"
     ]
    }
   ],
   "source": [
    "class exp:\n",
    "    def __init__(self, exp1):\n",
    "        self.exp1 = exp1\n",
    "    \n",
    "e1 = exp(1000)\n",
    "e2 = exp(2000)\n",
    "\n",
    "print(e1 + e2)"
   ]
  },
  {
   "cell_type": "code",
   "execution_count": 44,
   "metadata": {},
   "outputs": [
    {
     "name": "stdout",
     "output_type": "stream",
     "text": [
      "3000\n",
      "2000000\n"
     ]
    }
   ],
   "source": [
    "class exp:\n",
    "    def __init__(self, exp):\n",
    "        self.exp = exp\n",
    "    \n",
    "    def __add__(self, other):\n",
    "        return (self.exp + other.exp)\n",
    "    def __sub__(self,other):\n",
    "        return (self.exp * other.exp)\n",
    "e1 = exp(1000)\n",
    "e2 = exp(2000)\n",
    "\n",
    "print(e1 + e2)#e1.__add__(e2)\n",
    "print(e1 - e2)"
   ]
  },
  {
   "cell_type": "code",
   "execution_count": null,
   "metadata": {},
   "outputs": [],
   "source": []
  }
 ],
 "metadata": {
  "kernelspec": {
   "display_name": "Python 3",
   "language": "python",
   "name": "python3"
  },
  "language_info": {
   "codemirror_mode": {
    "name": "ipython",
    "version": 3
   },
   "file_extension": ".py",
   "mimetype": "text/x-python",
   "name": "python",
   "nbconvert_exporter": "python",
   "pygments_lexer": "ipython3",
   "version": "3.8.3"
  },
  "toc": {
   "base_numbering": 1,
   "nav_menu": {},
   "number_sections": true,
   "sideBar": true,
   "skip_h1_title": false,
   "title_cell": "Table of Contents",
   "title_sidebar": "Contents",
   "toc_cell": false,
   "toc_position": {},
   "toc_section_display": true,
   "toc_window_display": false
  }
 },
 "nbformat": 4,
 "nbformat_minor": 2
}
